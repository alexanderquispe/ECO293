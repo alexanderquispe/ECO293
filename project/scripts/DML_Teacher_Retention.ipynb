{
 "cells": [
  {
   "cell_type": "markdown",
   "id": "de3cc150",
   "metadata": {},
   "source": [
    "# Import main libraries "
   ]
  },
  {
   "cell_type": "code",
   "execution_count": null,
   "id": "e70b5f56",
   "metadata": {},
   "outputs": [],
   "source": [
    "# The causalTree package is not in CRAN, the most common R repository.\n",
    "# To install it, uncomment the next lines as appropriate.\n",
    "\n",
    "# install.packages(\"devtools\")  # if you don't have this installed yet.\n",
    "# devtools::install_github('susanathey/causalTree') "
   ]
  },
  {
   "cell_type": "code",
   "execution_count": 1,
   "id": "e3718b56",
   "metadata": {
    "scrolled": true
   },
   "outputs": [
    {
     "name": "stderr",
     "output_type": "stream",
     "text": [
      "Loading required package: rpart\n",
      "\n",
      "Loading required package: rpart.plot\n",
      "\n",
      "Loading required package: data.table\n",
      "\n",
      "Loading required package: Matrix\n",
      "\n",
      "Loaded glmnet 4.1-4\n",
      "\n",
      "Loading required package: zoo\n",
      "\n",
      "\n",
      "Attaching package: 'zoo'\n",
      "\n",
      "\n",
      "The following objects are masked from 'package:base':\n",
      "\n",
      "    as.Date, as.Date.numeric\n",
      "\n",
      "\n",
      "-- \u001b[1mAttaching packages\u001b[22m ------------------------------------------------------------------------------- tidyverse 1.3.1 --\n",
      "\n",
      "\u001b[32mv\u001b[39m \u001b[34mtibble \u001b[39m 3.1.6     \u001b[32mv\u001b[39m \u001b[34mdplyr  \u001b[39m 1.0.8\n",
      "\u001b[32mv\u001b[39m \u001b[34mtidyr  \u001b[39m 1.2.0     \u001b[32mv\u001b[39m \u001b[34mstringr\u001b[39m 1.4.0\n",
      "\u001b[32mv\u001b[39m \u001b[34mreadr  \u001b[39m 2.1.2     \u001b[32mv\u001b[39m \u001b[34mforcats\u001b[39m 0.5.1\n",
      "\u001b[32mv\u001b[39m \u001b[34mpurrr  \u001b[39m 0.3.4     \n",
      "\n",
      "-- \u001b[1mConflicts\u001b[22m ---------------------------------------------------------------------------------- tidyverse_conflicts() --\n",
      "\u001b[31mx\u001b[39m \u001b[34mdplyr\u001b[39m::\u001b[32mbetween()\u001b[39m   masks \u001b[34mdata.table\u001b[39m::between()\n",
      "\u001b[31mx\u001b[39m \u001b[34mtidyr\u001b[39m::\u001b[32mexpand()\u001b[39m    masks \u001b[34mMatrix\u001b[39m::expand()\n",
      "\u001b[31mx\u001b[39m \u001b[34mdplyr\u001b[39m::\u001b[32mfilter()\u001b[39m    masks \u001b[34mstats\u001b[39m::filter()\n",
      "\u001b[31mx\u001b[39m \u001b[34mdplyr\u001b[39m::\u001b[32mfirst()\u001b[39m     masks \u001b[34mdata.table\u001b[39m::first()\n",
      "\u001b[31mx\u001b[39m \u001b[34mdplyr\u001b[39m::\u001b[32mlag()\u001b[39m       masks \u001b[34mstats\u001b[39m::lag()\n",
      "\u001b[31mx\u001b[39m \u001b[34mdplyr\u001b[39m::\u001b[32mlast()\u001b[39m      masks \u001b[34mdata.table\u001b[39m::last()\n",
      "\u001b[31mx\u001b[39m \u001b[34mtidyr\u001b[39m::\u001b[32mpack()\u001b[39m      masks \u001b[34mMatrix\u001b[39m::pack()\n",
      "\u001b[31mx\u001b[39m \u001b[34mdplyr\u001b[39m::\u001b[32mselect()\u001b[39m    masks \u001b[34mMASS\u001b[39m::select()\n",
      "\u001b[31mx\u001b[39m \u001b[34mpurrr\u001b[39m::\u001b[32mtranspose()\u001b[39m masks \u001b[34mdata.table\u001b[39m::transpose()\n",
      "\u001b[31mx\u001b[39m \u001b[34mtidyr\u001b[39m::\u001b[32munpack()\u001b[39m    masks \u001b[34mMatrix\u001b[39m::unpack()\n",
      "\n"
     ]
    }
   ],
   "source": [
    "library(causalTree)\n",
    "# use e.g., install.packages(\"grf\") to install any of the following packages.\n",
    "library(grf)\n",
    "library(rpart)\n",
    "library(glmnet)\n",
    "library(splines)\n",
    "library(MASS)\n",
    "library(lmtest)\n",
    "library(sandwich)\n",
    "library(ggplot2)\n",
    "library(haven)\n",
    "library(fastDummies)\n",
    "library(tidyverse)"
   ]
  },
  {
   "cell_type": "code",
   "execution_count": 2,
   "id": "a829b2c4",
   "metadata": {},
   "outputs": [],
   "source": [
    "# Load required packages for this tutorial\n",
    "library(DoubleML)\n",
    "library(mlr3)\n",
    "library(mlr3learners)\n",
    "library(data.table)\n",
    "library(ggplot2)\n",
    "\n",
    "# suppress messages during fitting\n",
    "lgr::get_logger(\"mlr3\")$set_threshold(\"warn\")"
   ]
  },
  {
   "cell_type": "markdown",
   "id": "23afab58",
   "metadata": {},
   "source": [
    "# Romano Wolf Correction "
   ]
  },
  {
   "cell_type": "code",
   "execution_count": 3,
   "id": "cb7d6508",
   "metadata": {},
   "outputs": [],
   "source": [
    "# Auxiliary function to computes adjusted p-values \n",
    "# following the Romano-Wolf method.\n",
    "# For a reference, see http://ftp.iza.org/dp12845.pdf page 8\n",
    "#  t.orig: vector of t-statistics from original model\n",
    "#  t.boot: matrix of t-statistics from bootstrapped models\n",
    "romano_wolf_correction <- function(t.orig, t.boot) {\n",
    "  abs.t.orig <- abs(t.orig)\n",
    "  abs.t.boot <- abs(t.boot)\n",
    "  abs.t.sorted <- sort(abs.t.orig, decreasing = TRUE)\n",
    "\n",
    "  max.order <- order(abs.t.orig, decreasing = TRUE)\n",
    "  rev.order <- order(max.order)\n",
    "\n",
    "  M <- nrow(t.boot)\n",
    "  S <- ncol(t.boot)\n",
    "\n",
    "  p.adj <- rep(0, S)\n",
    "  p.adj[1] <- mean(apply(abs.t.boot, 1, max) > abs.t.sorted[1])\n",
    "  for (s in seq(2, S)) {\n",
    "    cur.index <- max.order[s:S]\n",
    "    p.init <- mean(apply(abs.t.boot[, cur.index, drop=FALSE], 1, max) > abs.t.sorted[s])\n",
    "    p.adj[s] <- max(p.init, p.adj[s-1])\n",
    "  }\n",
    "  p.adj[rev.order]\n",
    "}\n",
    "\n",
    "# Computes adjusted p-values for linear regression (lm) models.\n",
    "#    model: object of lm class (i.e., a linear reg model)\n",
    "#    indices: vector of integers for the coefficients that will be tested\n",
    "#    cov.type: type of standard error (to be passed to sandwich::vcovHC)\n",
    "#    num.boot: number of null bootstrap samples. Increase to stabilize across runs.\n",
    "# Note: results are probabilitistic and may change slightly at every run. \n",
    "#\n",
    "# Adapted from the p_adjust from from the hdm package, written by Philipp Bach.\n",
    "# https://github.com/PhilippBach/hdm_prev/blob/master/R/p_adjust.R\n",
    "summary_rw_lm <- function(model, indices=NULL, cov.type=\"HC2\", num.boot=10000) {\n",
    "\n",
    "  if (is.null(indices)) {\n",
    "    indices <- 1:nrow(coef(summary(model)))\n",
    "  }\n",
    "  # Grab the original t values.\n",
    "  summary <- coef(summary(model))[indices,,drop=FALSE]\n",
    "  t.orig <- summary[, \"t value\"]\n",
    "\n",
    "  # Null resampling.\n",
    "  # This is a trick to speed up bootstrapping linear models.\n",
    "  # Here, we don't really need to re-fit linear regressions, which would be a bit slow.\n",
    "  # We know that betahat ~ N(beta, Sigma), and we have an estimate Sigmahat.\n",
    "  # So we can approximate \"null t-values\" by\n",
    "  #  - Draw beta.boot ~ N(0, Sigma-hat) --- note the 0 here, this is what makes it a *null* t-value.\n",
    "  #  - Compute t.boot = beta.boot / sqrt(diag(Sigma.hat))\n",
    "  Sigma.hat <- vcovHC(model, type=cov.type)[indices, indices]\n",
    "  se.orig <- sqrt(diag(Sigma.hat))\n",
    "  num.coef <- length(se.orig)\n",
    "  beta.boot <- mvrnorm(n=num.boot, mu=rep(0, num.coef), Sigma=Sigma.hat)\n",
    "  t.boot <- sweep(beta.boot, 2, se.orig, \"/\")\n",
    "  p.adj <- romano_wolf_correction(t.orig, t.boot)\n",
    "\n",
    "  result <- cbind(summary[,c(1,2,4),drop=F], p.adj)\n",
    "  colnames(result) <- c('Estimate', 'Std. Error', 'Orig. p-value', 'Adj. p-value')\n",
    "  result\n",
    "}"
   ]
  },
  {
   "cell_type": "markdown",
   "id": "b814edfe",
   "metadata": {},
   "source": [
    "# Data Description\n",
    "* stay             = The dependent variable is an indicator variable equal to 1 if teacher stayed an                      extra year at the same school next year.\n",
    "\n",
    "* treat12          = Treatment unit : teacher working at Isolated school (S/. 500 soles or 134 USD dollars bonus per                          month). Control unit   : teacher works at Rural school (S/. 100 soles or 26 USD dollars bonus per month )\n",
    "            \n",
    "* tenured          = Permanent teacher and have the first priority to move between schools.\n",
    "\n",
    "* level            = Kindergarten, Elementary and High School\n",
    "\n",
    "* sex              = Sex of teacher\n",
    "\n",
    "* age              = Age of teacher\n",
    "\n",
    "* clasification    = unidocente, multigrado, completo\n",
    "\n",
    "* cpelec           = Proxy of electricity\n",
    "\n",
    "* cpwater          = proxy of water\n",
    "\n",
    "* nlat_ie          = Latitud of school\n",
    "\n",
    "* nlong_ie         = Longitud of school\n",
    "\n",
    "* y_dim            = Latitud rescaled \n",
    "\n",
    "* x_dim            = Longitud rescaled\n",
    "\n",
    "* ano              = year \n",
    "\n",
    "* strict_qualified = Qualification is defined by the possession of an educational college\n",
    "degree.\n",
    "\n",
    "* time_ie         = Time to main School District Office\n",
    "\n",
    "* population_ccpp  = Surronding town’s population\n"
   ]
  },
  {
   "cell_type": "markdown",
   "id": "6c8b00a6",
   "metadata": {},
   "source": [
    "# Clean Data"
   ]
  },
  {
   "cell_type": "code",
   "execution_count": 4,
   "id": "e0ad5135",
   "metadata": {},
   "outputs": [],
   "source": [
    "# Import data of 4 years about teacher retantion in Peru\n",
    "data <- read_dta(\"C:/Users/sandr/Dropbox/MGTECON634_Project/data/matching_panel5_treat12.dta\")"
   ]
  },
  {
   "cell_type": "code",
   "execution_count": 5,
   "id": "5d049424",
   "metadata": {},
   "outputs": [],
   "source": [
    "data_main_col <- data.frame(data$stay, data$treat12,data$tenured, \n",
    "                            data$level, data$sex, data$age, data$clasification, \n",
    "                            data$cpelec, data$cpwater, data$nlat_ie, data$nlong_ie,\n",
    "                           data$x_dim, data$y_dim, data$ano, data$strict_qualified, \n",
    "                            data$time_ie, data$population_ccpp, data$experience )\n",
    " \n",
    "names(data_main_col) <- c('stay', 'treat12', 'tenured', 'level', 'sex', 'age', \n",
    "                       'clasification', 'cpelec', 'cpwater', \"nlat_ie\", \"nlong_ie\", \n",
    "                          \"x_dim\", \"y_dim\", \"ano\", \"strict_qualified\", \"time_ie\", \n",
    "                          \"population_ccpp\", \"experience\")\n",
    "data_clean <- na.omit(data_main_col)\n",
    "\n",
    "# Keep only temporary teachers and year 2016 \n",
    "data_clean <- subset(data_clean, ano== 2016 & tenured == 0 & strict_qualified == 1)"
   ]
  },
  {
   "cell_type": "code",
   "execution_count": 6,
   "id": "4586cf70",
   "metadata": {},
   "outputs": [],
   "source": [
    "# Dummy for sex, and categorical values for level and clasification \n",
    "data_clean$sex[data_clean$sex == 1] <- 1\n",
    "data_clean$sex[data_clean$sex == 2] <- 0\n",
    "data_clean$level <- as.factor(data_clean$level)\n",
    "data_clean$clasification <- as.factor(data_clean$clasification)"
   ]
  },
  {
   "cell_type": "code",
   "execution_count": 7,
   "id": "39253613",
   "metadata": {},
   "outputs": [],
   "source": [
    "# Create dummies from clasification and level vars\n",
    "data_clean <- dummy_cols(data_clean, select_columns = c(\"clasification\", \"level\"))"
   ]
  },
  {
   "cell_type": "code",
   "execution_count": 8,
   "id": "59f4d662",
   "metadata": {},
   "outputs": [],
   "source": [
    "data_clean$sex_2[data_clean$sex == 1] <- 1\n",
    "data_clean$sex_2[data_clean$sex == 0] <- 0\n",
    "\n",
    "drops <- c(\"sex\")\n",
    "data_clean <- data_clean[ , !(names(data_clean) %in% drops)]\n",
    "data_clean$sex = data_clean$sex_2"
   ]
  },
  {
   "cell_type": "code",
   "execution_count": 9,
   "id": "9da6f8ee",
   "metadata": {},
   "outputs": [
    {
     "name": "stdout",
     "output_type": "stream",
     "text": [
      "'data.frame':\t23856 obs. of  25 variables:\n",
      " $ stay            : num  0 0 0 0 0 1 0 1 0 0 ...\n",
      " $ treat12         : num  0 1 1 1 0 0 0 0 0 0 ...\n",
      " $ tenured         : num  0 0 0 0 0 0 0 0 0 0 ...\n",
      " $ level           : Factor w/ 3 levels \"1\",\"2\",\"3\": 2 2 2 2 2 2 2 2 2 2 ...\n",
      " $ age             : num  50 34 33 31 39 31 41 42 46 45 ...\n",
      " $ clasification   : Factor w/ 3 levels \"1\",\"2\",\"3\": 2 2 2 2 3 3 3 2 2 2 ...\n",
      " $ cpelec          : num  1 1 1 1 1 1 1 1 1 1 ...\n",
      " $ cpwater         : num  1 1 1 1 1 1 1 1 1 1 ...\n",
      " $ nlat_ie         : num  -13.9 -13.9 -13.8 -13.8 -14.1 ...\n",
      " $ nlong_ie        : num  -72.5 -72.5 -72.5 -72.5 -72.6 ...\n",
      " $ x_dim           : num  983 978 981 981 973 ...\n",
      " $ y_dim           : num  487 490 503 503 473 ...\n",
      " $ ano             : num  2016 2016 2016 2016 2016 ...\n",
      " $ strict_qualified: num  1 1 1 1 1 1 1 1 1 1 ...\n",
      " $ time_ie         : num  370 364 443 443 147 ...\n",
      " $ population_ccpp : num  515 184 139 139 447 708 708 41 41 271 ...\n",
      " $ experience      : num  12 6 6 5 8 2 8 12 6 8 ...\n",
      " $ clasification_1 : int  0 0 0 0 0 0 0 0 0 0 ...\n",
      " $ clasification_2 : int  1 1 1 1 0 0 0 1 1 1 ...\n",
      " $ clasification_3 : int  0 0 0 0 1 1 1 0 0 0 ...\n",
      " $ level_1         : int  0 0 0 0 0 0 0 0 0 0 ...\n",
      " $ level_2         : int  1 1 1 1 1 1 1 1 1 1 ...\n",
      " $ level_3         : int  0 0 0 0 0 0 0 0 0 0 ...\n",
      " $ sex_2           : num  0 1 1 1 0 1 0 0 1 0 ...\n",
      " $ sex             : num  0 1 1 1 0 1 0 0 1 0 ...\n"
     ]
    }
   ],
   "source": [
    "str(data_clean)"
   ]
  },
  {
   "cell_type": "code",
   "execution_count": 10,
   "id": "65ebaf53",
   "metadata": {},
   "outputs": [],
   "source": [
    "data <- data_clean "
   ]
  },
  {
   "cell_type": "code",
   "execution_count": 11,
   "id": "8ed5416b",
   "metadata": {},
   "outputs": [
    {
     "data": {
      "image/png": "[encoded data removed]",
      "text/plain": [
       "plot without title"
      ]
     },
     "metadata": {
      "image/png": {
       "height": 420,
       "width": 420
      }
     },
     "output_type": "display_data"
    }
   ],
   "source": [
    "hist_treat12 = ggplot(data, aes(x = treat12, fill = factor(treat12))) +\n",
    "            geom_bar() + theme_minimal() +\n",
    "            ggtitle(\"Eligibility, Isolated School - Bonus\") +\n",
    "            theme(legend.position = \"bottom\", plot.title = element_text(hjust = 0.5),\n",
    "                  text = element_text(size = 20))\n",
    "hist_treat12"
   ]
  },
  {
   "cell_type": "code",
   "execution_count": 12,
   "id": "bba6ad4b",
   "metadata": {},
   "outputs": [
    {
     "data": {
      "image/png": "[encoded data removed]",
      "text/plain": [
       "plot without title"
      ]
     },
     "metadata": {
      "image/png": {
       "height": 420,
       "width": 420
      }
     },
     "output_type": "display_data"
    }
   ],
   "source": [
    "hist_stay = ggplot(data, aes(x = stay, fill = factor(stay))) +\n",
    "            geom_bar() + theme_minimal() +\n",
    "            ggtitle(\"Stay in School\") +\n",
    "            theme(legend.position = \"bottom\", plot.title = element_text(hjust = 0.5),\n",
    "                  text = element_text(size = 20))\n",
    "hist_stay"
   ]
  },
  {
   "cell_type": "code",
   "execution_count": 13,
   "id": "37265079",
   "metadata": {},
   "outputs": [
    {
     "data": {
      "image/png": "[encoded data removed]",
      "text/plain": [
       "plot without title"
      ]
     },
     "metadata": {
      "image/png": {
       "height": 420,
       "width": 420
      }
     },
     "output_type": "display_data"
    }
   ],
   "source": [
    "# Eligibility is highly associated with time to traveling and population\n",
    "dens_time_ie = ggplot(data, aes(x = time_ie, color = factor(treat12), fill = factor(treat12)) ) +\n",
    "                    geom_density() + xlim(c(0, 7000)) +\n",
    "                    facet_wrap(.~treat12)  + theme_minimal() +\n",
    "                    theme(legend.position = \"bottom\", text = element_text(size = 20))\n",
    "\n",
    "dens_time_ie"
   ]
  },
  {
   "cell_type": "code",
   "execution_count": 14,
   "id": "54425f6a",
   "metadata": {},
   "outputs": [
    {
     "name": "stderr",
     "output_type": "stream",
     "text": [
      "Warning message:\n",
      "\"Removed 10 rows containing non-finite values (stat_density).\"\n"
     ]
    },
    {
     "data": {
      "image/png": "[encoded data removed]",
      "text/plain": [
       "plot without title"
      ]
     },
     "metadata": {
      "image/png": {
       "height": 420,
       "width": 420
      }
     },
     "output_type": "display_data"
    }
   ],
   "source": [
    "# Eligibility is highly associated with time to traveling and population\n",
    "dens_population_ccpp = ggplot(data, aes(x = population_ccpp, color = factor(treat12), fill = factor(treat12)) ) +\n",
    "                    geom_density() + xlim(c(0, 10000)) +\n",
    "                    facet_wrap(.~treat12)  + theme_minimal() +\n",
    "                    theme(legend.position = \"bottom\", text = element_text(size = 20))\n",
    "\n",
    "dens_population_ccpp"
   ]
  },
  {
   "cell_type": "code",
   "execution_count": 15,
   "id": "67b2d6ea",
   "metadata": {},
   "outputs": [
    {
     "name": "stdout",
     "output_type": "stream",
     "text": [
      "    estimate    std.error       t.stat       pvalue \n",
      "4.706624e-02 5.922677e-03 7.946784e+00 3.737083e-12 \n"
     ]
    }
   ],
   "source": [
    "# ATE\n",
    "outcome <- \"stay\"\n",
    "treatment <- \"treat12\"\n",
    "\n",
    "Y <- data[,outcome]\n",
    "W <- data[,treatment]\n",
    "ate.est <- mean(Y[W==1]) - mean(Y[W==0])\n",
    "ate.se <- sqrt(var(Y[W == 1]) / sum(W == 1) + var(Y[W == 0]) / sum(W == 0))\n",
    "ate.tstat <- ate.est / ate.se\n",
    "ate.pvalue <- 2*(pnorm(1 - abs(ate.est/ate.se)))\n",
    "ate.results <- c(estimate=ate.est, std.error=ate.se, t.stat=ate.tstat, pvalue=ate.pvalue)\n",
    "print(ate.results)"
   ]
  },
  {
   "cell_type": "markdown",
   "id": "a3fff048",
   "metadata": {},
   "source": [
    "# DML"
   ]
  },
  {
   "cell_type": "code",
   "execution_count": 16,
   "id": "5f145379",
   "metadata": {},
   "outputs": [
    {
     "data": {
      "text/plain": [
       "================= DoubleMLData Object ==================\n",
       "\n",
       "\n",
       "------------------ Data summary      ------------------\n",
       "Outcome variable: stay\n",
       "Treatment variable(s): treat12\n",
       "Covariates: sex, age, cpelec, cpwater, time_ie, population_ccpp, clasification_1, clasification_2, clasification_3, level_1, level_2, level_3\n",
       "Instrument(s): \n",
       "No. Observations: 23856"
      ]
     },
     "metadata": {},
     "output_type": "display_data"
    }
   ],
   "source": [
    "# Set up basic model: Specify variables for data-backend\n",
    "features_base = c(\"sex\", \"age\", \"cpelec\", \"cpwater\", \"time_ie\", \"population_ccpp\", \n",
    "                \"clasification_1\", \"clasification_2\", \"clasification_3\", \n",
    "               \"level_1\", \"level_2\", \"level_3\"  )\n",
    "\n",
    "# Initialize DoubleMLData (data-backend of DoubleML)\n",
    "data_dml_base = DoubleMLData$new(data,\n",
    "                                 y_col = \"stay\",\n",
    "                                 d_cols = \"treat12\",\n",
    "                                 x_cols = features_base)\n",
    "data_dml_base"
   ]
  },
  {
   "cell_type": "code",
   "execution_count": 17,
   "id": "4da8f9e4",
   "metadata": {},
   "outputs": [
    {
     "name": "stderr",
     "output_type": "stream",
     "text": [
      "Warning message in predict.lm(object = self$model, newdata = newdata, se.fit = se_fit):\n",
      "\"prediction from a rank-deficient fit may be misleading\"\n",
      "Warning message in predict.lm(object = self$model, newdata = newdata, se.fit = se_fit):\n",
      "\"prediction from a rank-deficient fit may be misleading\"\n",
      "Warning message in predict.lm(object = self$model, newdata = newdata, se.fit = se_fit):\n",
      "\"prediction from a rank-deficient fit may be misleading\"\n",
      "Warning message in predict.lm(object = self$model, newdata = newdata, se.fit = se_fit):\n",
      "\"prediction from a rank-deficient fit may be misleading\"\n",
      "Warning message in predict.lm(object = self$model, newdata = newdata, se.fit = se_fit):\n",
      "\"prediction from a rank-deficient fit may be misleading\"\n",
      "Warning message in predict.lm(object = self$model, newdata = newdata, se.fit = se_fit):\n",
      "\"prediction from a rank-deficient fit may be misleading\"\n"
     ]
    },
    {
     "name": "stdout",
     "output_type": "stream",
     "text": [
      "Estimates and significance testing of the effect of target variables\n",
      "        Estimate. Std. Error t value Pr(>|t|)    \n",
      "treat12  0.044024   0.006271   7.021 2.21e-12 ***\n",
      "---\n",
      "Signif. codes:  0 '***' 0.001 '**' 0.01 '*' 0.05 '.' 0.1 ' ' 1\n",
      "\n",
      "\n"
     ]
    }
   ],
   "source": [
    "# Initialize learners\n",
    "set.seed(123)\n",
    "lm = lrn(\"regr.lm\")\n",
    "lm_class = lrn(\"regr.lm\")\n",
    "\n",
    "# Initialize DoubleMLPLR model\n",
    "dml_plr_lm = DoubleMLPLR$new(data_dml_base,\n",
    "                                ml_g = lm,\n",
    "                                ml_m = lm_class,\n",
    "                                n_folds = 3)\n",
    "dbml_lm = dml_plr_lm$fit(store_predictions = TRUE)\n",
    "dml_plr_lm$summary()"
   ]
  },
  {
   "cell_type": "code",
   "execution_count": 18,
   "id": "904d5050",
   "metadata": {},
   "outputs": [
    {
     "name": "stdout",
     "output_type": "stream",
     "text": [
      "Estimates and significance testing of the effect of target variables\n",
      "        Estimate. Std. Error t value Pr(>|t|)    \n",
      "treat12  0.055929   0.007024   7.962 1.69e-15 ***\n",
      "---\n",
      "Signif. codes:  0 '***' 0.001 '**' 0.01 '*' 0.05 '.' 0.1 ' ' 1\n",
      "\n",
      "\n"
     ]
    }
   ],
   "source": [
    "# Initialize learners\n",
    "set.seed(123)\n",
    "lasso = lrn(\"regr.cv_glmnet\", nfolds = 5, s = \"lambda.min\")\n",
    "lasso_class = lrn(\"classif.cv_glmnet\", nfolds = 5, s = \"lambda.min\")\n",
    "\n",
    "# Initialize DoubleMLPLR model\n",
    "dml_plr_lasso = DoubleMLPLR$new(data_dml_base,\n",
    "                                ml_g = lasso,\n",
    "                                ml_m = lasso_class,\n",
    "                                n_folds = 3)\n",
    "dbml_lasso = dml_plr_lasso$fit(store_predictions = TRUE)\n",
    "dml_plr_lasso$summary()"
   ]
  },
  {
   "cell_type": "code",
   "execution_count": 19,
   "id": "72347356",
   "metadata": {},
   "outputs": [
    {
     "name": "stdout",
     "output_type": "stream",
     "text": [
      "Estimates and significance testing of the effect of target variables\n",
      "        Estimate. Std. Error t value Pr(>|t|)    \n",
      "treat12  0.065192   0.008101   8.047 8.46e-16 ***\n",
      "---\n",
      "Signif. codes:  0 '***' 0.001 '**' 0.01 '*' 0.05 '.' 0.1 ' ' 1\n",
      "\n",
      "\n"
     ]
    }
   ],
   "source": [
    "# Random Forest\n",
    "randomForest = lrn(\"regr.ranger\", max.depth = 7,\n",
    "                   mtry = 3, min.node.size = 3)\n",
    "randomForest_class = lrn(\"classif.ranger\", max.depth = 5,\n",
    "                         mtry = 4, min.node.size = 7)\n",
    "\n",
    "set.seed(123)\n",
    "dml_plr_forest = DoubleMLPLR$new(data_dml_base,\n",
    "                                 ml_g = randomForest,\n",
    "                                 ml_m = randomForest_class,\n",
    "                                 n_folds = 3)\n",
    "dml_random_forest = dml_plr_forest$fit(store_predictions = TRUE)\n",
    "dml_plr_forest$summary()"
   ]
  },
  {
   "cell_type": "code",
   "execution_count": 20,
   "id": "e22162f7",
   "metadata": {},
   "outputs": [
    {
     "name": "stdout",
     "output_type": "stream",
     "text": [
      "Estimates and significance testing of the effect of target variables\n",
      "        Estimate. Std. Error t value Pr(>|t|)    \n",
      "treat12  0.070930   0.008038   8.824   <2e-16 ***\n",
      "---\n",
      "Signif. codes:  0 '***' 0.001 '**' 0.01 '*' 0.05 '.' 0.1 ' ' 1\n",
      "\n",
      "\n"
     ]
    }
   ],
   "source": [
    "# Trees\n",
    "trees = lrn(\"regr.rpart\", cp = 0.0047, minsplit = 203)\n",
    "trees_class = lrn(\"classif.rpart\", cp = 0.0042, minsplit = 104)\n",
    "\n",
    "set.seed(123)\n",
    "dml_plr_tree = DoubleMLPLR$new(data_dml_base,\n",
    "                               ml_g = trees,\n",
    "                               ml_m = trees_class,\n",
    "                               n_folds = 3)\n",
    "dml_trees = dml_plr_tree$fit(store_predictions = TRUE)\n",
    "dml_plr_tree$summary()"
   ]
  },
  {
   "cell_type": "code",
   "execution_count": 21,
   "id": "e1f9e9cd",
   "metadata": {},
   "outputs": [
    {
     "name": "stdout",
     "output_type": "stream",
     "text": [
      "Estimates and significance testing of the effect of target variables\n",
      "        Estimate. Std. Error t value Pr(>|t|)    \n",
      "treat12  0.061065   0.008697   7.022 2.19e-12 ***\n",
      "---\n",
      "Signif. codes:  0 '***' 0.001 '**' 0.01 '*' 0.05 '.' 0.1 ' ' 1\n",
      "\n",
      "\n"
     ]
    }
   ],
   "source": [
    "# Boosted trees\n",
    "boost = lrn(\"regr.xgboost\",\n",
    "            objective = \"reg:squarederror\",\n",
    "            eta = 0.1, nrounds = 35)\n",
    "boost_class = lrn(\"classif.xgboost\",\n",
    "                  objective = \"binary:logistic\", eval_metric = \"logloss\",\n",
    "                  eta = 0.1, nrounds = 34)\n",
    "\n",
    "set.seed(123)\n",
    "dml_plr_boost = DoubleMLPLR$new(data_dml_base,\n",
    "                                ml_g = boost,\n",
    "                                ml_m = boost_class,\n",
    "                                n_folds = 3)\n",
    "dml_boosted_trees = dml_plr_boost$fit(store_predictions = TRUE)\n",
    "dml_plr_boost$summary()"
   ]
  },
  {
   "cell_type": "code",
   "execution_count": 22,
   "id": "3f1bdd67",
   "metadata": {},
   "outputs": [
    {
     "name": "stdout",
     "output_type": "stream",
     "text": [
      "            OLS    Lasso Random_Forest    Trees Boosted_Trees\n",
      "RMSE D 0.281427 0.281411      0.281216 0.281139      0.287129\n",
      "RMSE Y 0.622952 0.623220      0.622981 0.622667      0.619851\n"
     ]
    }
   ],
   "source": [
    "mods<- list(dbml_lm, dbml_lasso, dml_random_forest, dml_trees, dml_boosted_trees)\n",
    "\n",
    "RMSE.mdl<- function(mdl) {\n",
    "RMSEY <- sqrt(mean(mdl$predictions$ml_g)^2) \n",
    "RMSED <- sqrt(mean(mdl$predictions$ml_m)^2) \n",
    "return( list(RMSEY=RMSEY, RMSED=RMSED))\n",
    "}\n",
    "\n",
    "#RMSE.mdl(DML2.lasso)\n",
    "\n",
    "#DML2.lasso$ytil\n",
    "\n",
    "Res<- lapply(mods, RMSE.mdl)\n",
    "\n",
    "\n",
    "prRes.Y<- c( Res[[1]]$RMSEY,Res[[2]]$RMSEY, Res[[3]]$RMSEY, Res[[4]]$RMSEY, Res[[5]]$RMSEY)\n",
    "prRes.D<- c( Res[[1]]$RMSED,Res[[2]]$RMSED, Res[[3]]$RMSED, Res[[4]]$RMSED, Res[[5]]$RMSED)\n",
    "\n",
    "prRes<- rbind(prRes.Y, prRes.D); \n",
    "rownames(prRes)<- c(\"RMSE D\", \"RMSE Y\");\n",
    "colnames(prRes)<- c(\"OLS\", \"Lasso\", \"Random_Forest\", \"Trees\", \"Boosted_Trees\")\n",
    "print(prRes,digit=6)"
   ]
  },
  {
   "cell_type": "code",
   "execution_count": 23,
   "id": "adaba7d1",
   "metadata": {},
   "outputs": [
    {
     "name": "stdout",
     "output_type": "stream",
     "text": [
      "Estimates and significance testing of the effect of target variables\n",
      "        Estimate. Std. Error t value Pr(>|t|)    \n",
      "treat12  0.065366   0.008697   7.515 5.67e-14 ***\n",
      "---\n",
      "Signif. codes:  0 '***' 0.001 '**' 0.01 '*' 0.05 '.' 0.1 ' ' 1\n",
      "\n",
      "\n"
     ]
    }
   ],
   "source": [
    "# Best method for Y is trees\n",
    "# Best method for Y is boosted_trees\n",
    "# Boosted trees\n",
    "trees = lrn(\"regr.rpart\", cp = 0.0047, minsplit = 203)\n",
    "\n",
    "boost_class = lrn(\"classif.xgboost\",\n",
    "                  objective = \"binary:logistic\", eval_metric = \"logloss\",\n",
    "                  eta = 0.1, nrounds = 34)\n",
    "\n",
    "set.seed(123)\n",
    "dml_plr_best = DoubleMLPLR$new(data_dml_base,\n",
    "                                ml_g = trees,\n",
    "                                ml_m = boost_class,\n",
    "                                n_folds = 3)\n",
    "dml_best = dml_plr_best$fit(store_predictions = TRUE)\n",
    "dml_plr_best$summary()"
   ]
  },
  {
   "cell_type": "markdown",
   "id": "c4c0549e",
   "metadata": {},
   "source": [
    "## DML using NN"
   ]
  },
  {
   "cell_type": "code",
   "execution_count": 54,
   "id": "27d42c5d",
   "metadata": {},
   "outputs": [],
   "source": [
    "# install.packages(\"lfe\")"
   ]
  },
  {
   "cell_type": "code",
   "execution_count": 30,
   "id": "8d58e7dc",
   "metadata": {},
   "outputs": [
    {
     "name": "stderr",
     "output_type": "stream",
     "text": [
      "\n",
      "Attaching package: 'lfe'\n",
      "\n",
      "\n",
      "The following object is masked from 'package:lmtest':\n",
      "\n",
      "    waldtest\n",
      "\n",
      "\n"
     ]
    }
   ],
   "source": [
    "library(keras)\n",
    "library(lfe)"
   ]
  },
  {
   "cell_type": "code",
   "execution_count": 31,
   "id": "52c68458",
   "metadata": {},
   "outputs": [],
   "source": [
    "# fixed  <- grep(\"clasification_\", names(data), value=TRUE, fixed=TRUE)\n",
    "\n",
    "################################ Variables ##################################\n",
    "#Treatment Variable\n",
    "d     <- \"treat12\"\n",
    "\n",
    "# Outcome Variable\n",
    "y     <- \"stay\"\n",
    "\n",
    "# Other Control Variables\n",
    "features_base = c(\"sex\", \"age\", \"cpelec\", \"cpwater\", \"time_ie\", \"population_ccpp\", \n",
    "                \"clasification_1\", \"clasification_2\", \"clasification_3\", \n",
    "               \"level_1\", \"level_2\", \"level_3\"  )\n",
    "\n",
    "#################################  Partial out Fixed Effects ########################\n",
    "\n",
    "# New Dataset for Partiled-out Variables\n",
    "rdata  <- as.data.frame(data$stay) \n",
    "colnames(rdata) <- \"Clasification\""
   ]
  },
  {
   "cell_type": "code",
   "execution_count": 32,
   "id": "ba206c19",
   "metadata": {},
   "outputs": [],
   "source": [
    "# Variables to be Partialled-out\n",
    "varlist <- c(y, d, features_base)\n",
    "\n",
    "\n",
    "# Partial out Variables in varlist from year and county fixed effect\n",
    "for(i in 1:length(varlist)){\n",
    "  form <- formula(stay ~ sex + age + \n",
    "                        clasification_1 + clasification_2 + clasification_3 +\n",
    "                        level_1 + level_2 + level_3 +\n",
    "                        cpelec + cpwater + time_ie + population_ccpp + nlat_ie + nlong_ie)\n",
    "  rdata[, varlist[i]] <- lm(form, data)$residuals\n",
    "}"
   ]
  },
  {
   "cell_type": "code",
   "execution_count": 72,
   "id": "20434735",
   "metadata": {},
   "outputs": [],
   "source": [
    "DML2.for.NN <- function(z, d, y, nfold=2, num_epochs, batch_size) {\n",
    "  nobs <- nrow(z) #number of observations\n",
    "  foldid <- rep.int(1:nfold,times = ceiling(nobs/nfold))[sample.int(nobs)] #define folds indices\n",
    "  I <- split(1:nobs, foldid)  #split observation indices into folds  \n",
    "  ytil <- dtil <- rep(NA, nobs)\n",
    "  cat(\"fold: \")\n",
    "  for(b in 1:length(I)){\n",
    "    # normalize the data\n",
    "    mean <- apply(z[-I[[b]],], 2, mean)\n",
    "    std <- apply(z[-I[[b]],], 2, sd)\n",
    "    z_nn[-I[[b]],] <- scale(z[-I[[b]],], center = mean, scale = std)\n",
    "    z_nn[I[[b]],] <- scale(z[I[[b]],], center = mean, scale = std)\n",
    "    # building the model                    \n",
    "    build_model <- function(){\n",
    "        model <- keras_model_sequential() %>% \n",
    "        layer_dense(units = 16, activation = \"relu\", \n",
    "                    input_shape = dim(z_nn[-I[[b]],][2]))%>% \n",
    "        layer_dense(units = 16, activation = \"relu\") %>% \n",
    "        layer_dense(units = 1) \n",
    "\n",
    "        model %>% compile(\n",
    "        optimizer = \"rmsprop\", \n",
    "        loss = \"mse\", \n",
    "        metrics = c(\"mae\")\n",
    "        )  \n",
    "        }\n",
    "    model.Y <- build_model()\n",
    "    model.D <- build_model()                       \n",
    "    # fitting the model                   \n",
    "    model.D %>% fit(z[-I[[b]],], d[-I[[b]]],\n",
    "                    epochs = num_epochs, batch_size = batch_size, verbose = 0)                       \n",
    "    model.Y %>% fit(z[-I[[b]],], y[-I[[b]]],\n",
    "                    epochs = num_epochs, batch_size = batch_size, verbose = 0)\n",
    "    dhat <- model.D %>% predict(z[I[[b]],])\n",
    "    yhat <- model.Y %>% predict(z[I[[b]],])   \n",
    "    dtil[I[[b]]] <- (d[I[[b]]] - dhat) #record residual for the left-out fold\n",
    "    ytil[I[[b]]] <- (y[I[[b]]] - yhat) #record residial for the left-out fold                  \n",
    "    cat(b,\" \")\n",
    "    }\n",
    "  \n",
    "    rfit <- lm(ytil ~ dtil)    #estimate the main parameter by regressing one residual on the other\n",
    "    data <- data.frame(cbind(ytil, dtil))\n",
    "    # rfit <- felm(ytil ~ dtil|0|0|clasification,data=data)\n",
    "    coef.est <- coef(rfit)[2]  #extract coefficient\n",
    "    #HC <- vcovHC(rfit)\n",
    "    se    <- summary(rfit,robust=T)$coefficients[2,2] \n",
    "    lower <- confint(rfit)[2,1]\n",
    "    upper <- confint(rfit)[2,2]\n",
    "    predict <- predict(rfit)\n",
    "\n",
    "    cat(\"coef = \", coef.est , \", se = \", se, \n",
    "                \", lower = \", lower, \", upper = \", upper)  #printing output\n",
    "    \n",
    "  return( list(coef.est =coef.est , se=se, dtil=dtil, ytil=ytil, rfit=rfit, lower=lower, upper=upper, predict=predict) ) #save output and residuals \n",
    "}"
   ]
  },
  {
   "cell_type": "code",
   "execution_count": 52,
   "id": "27137203",
   "metadata": {},
   "outputs": [],
   "source": [
    "# Treatment Variable\n",
    "D    <- rdata[which(colnames(rdata) == d)]\n",
    "# Outcome Variable\n",
    "Y     <- rdata[which(colnames(rdata) == y)]\n",
    "# Construct matrix Z\n",
    "Z <- rdata[which(colnames(rdata) %in% c(features_base))]\n",
    "\n",
    "# inputs\n",
    "y_nn <- as.matrix(Y)\n",
    "d_nn <- as.matrix(D)\n",
    "z_nn <- as.matrix(Z)"
   ]
  },
  {
   "cell_type": "code",
   "execution_count": 73,
   "id": "ff1b28ba",
   "metadata": {},
   "outputs": [
    {
     "name": "stdout",
     "output_type": "stream",
     "text": [
      "fold: 1  2  3  4  5  coef =  0.5137631 , se =  0.008332326 , lower =  0.4974312 , upper =  0.5300949"
     ]
    },
    {
     "ename": "ERROR",
     "evalue": "Error in eval(expr, envir, enclos): objeto 'DML.2.nn' no encontrado\n",
     "output_type": "error",
     "traceback": [
      "Error in eval(expr, envir, enclos): objeto 'DML.2.nn' no encontrado\nTraceback:\n"
     ]
    }
   ],
   "source": [
    "#DML with a NN:\n",
    "set.seed(123)\n",
    "DML2.nn = DML2.for.NN(z_nn, d_nn, y_nn, nfold=5, 100, 10)"
   ]
  },
  {
   "cell_type": "markdown",
   "id": "a5b45d67",
   "metadata": {},
   "source": [
    "## Results"
   ]
  },
  {
   "cell_type": "code",
   "execution_count": 181,
   "id": "9a26c009",
   "metadata": {},
   "outputs": [
    {
     "data": {
      "text/html": [
       "<table class=\"dataframe\">\n",
       "<caption>A data.table: 7 × 5</caption>\n",
       "<thead>\n",
       "\t<tr><th scope=col>model</th><th scope=col>ML</th><th scope=col>Estimate</th><th scope=col>lower</th><th scope=col>upper</th></tr>\n",
       "\t<tr><th scope=col>&lt;chr&gt;</th><th scope=col>&lt;chr&gt;</th><th scope=col>&lt;chr&gt;</th><th scope=col>&lt;chr&gt;</th><th scope=col>&lt;chr&gt;</th></tr>\n",
       "</thead>\n",
       "<tbody>\n",
       "\t<tr><td>PLR</td><td>ols    </td><td>0.044 </td><td>0.0317</td><td>0.0563</td></tr>\n",
       "\t<tr><td>PLR</td><td>glmnet </td><td>0.0559</td><td>0.0422</td><td>0.0697</td></tr>\n",
       "\t<tr><td>PLR</td><td>ranger </td><td>0.0652</td><td>0.0493</td><td>0.0811</td></tr>\n",
       "\t<tr><td>PLR</td><td>rpart  </td><td>0.0709</td><td>0.0552</td><td>0.0867</td></tr>\n",
       "\t<tr><td>PLR</td><td>xgboost</td><td>0.0611</td><td>0.044 </td><td>0.0781</td></tr>\n",
       "\t<tr><td>PLR</td><td>best   </td><td>0.0654</td><td>0.0483</td><td>0.0824</td></tr>\n",
       "\t<tr><td>DML</td><td>NN     </td><td>0.5138</td><td>0.4974</td><td>0.5301</td></tr>\n",
       "</tbody>\n",
       "</table>\n"
      ],
      "text/latex": [
       "A data.table: 7 × 5\n",
       "\\begin{tabular}{lllll}\n",
       " model & ML & Estimate & lower & upper\\\\\n",
       " <chr> & <chr> & <chr> & <chr> & <chr>\\\\\n",
       "\\hline\n",
       "\t PLR & ols     & 0.044  & 0.0317 & 0.0563\\\\\n",
       "\t PLR & glmnet  & 0.0559 & 0.0422 & 0.0697\\\\\n",
       "\t PLR & ranger  & 0.0652 & 0.0493 & 0.0811\\\\\n",
       "\t PLR & rpart   & 0.0709 & 0.0552 & 0.0867\\\\\n",
       "\t PLR & xgboost & 0.0611 & 0.044  & 0.0781\\\\\n",
       "\t PLR & best    & 0.0654 & 0.0483 & 0.0824\\\\\n",
       "\t DML & NN      & 0.5138 & 0.4974 & 0.5301\\\\\n",
       "\\end{tabular}\n"
      ],
      "text/markdown": [
       "\n",
       "A data.table: 7 × 5\n",
       "\n",
       "| model &lt;chr&gt; | ML &lt;chr&gt; | Estimate &lt;chr&gt; | lower &lt;chr&gt; | upper &lt;chr&gt; |\n",
       "|---|---|---|---|---|\n",
       "| PLR | ols     | 0.044  | 0.0317 | 0.0563 |\n",
       "| PLR | glmnet  | 0.0559 | 0.0422 | 0.0697 |\n",
       "| PLR | ranger  | 0.0652 | 0.0493 | 0.0811 |\n",
       "| PLR | rpart   | 0.0709 | 0.0552 | 0.0867 |\n",
       "| PLR | xgboost | 0.0611 | 0.044  | 0.0781 |\n",
       "| PLR | best    | 0.0654 | 0.0483 | 0.0824 |\n",
       "| DML | NN      | 0.5138 | 0.4974 | 0.5301 |\n",
       "\n"
      ],
      "text/plain": [
       "  model ML      Estimate lower  upper \n",
       "1 PLR   ols     0.044    0.0317 0.0563\n",
       "2 PLR   glmnet  0.0559   0.0422 0.0697\n",
       "3 PLR   ranger  0.0652   0.0493 0.0811\n",
       "4 PLR   rpart   0.0709   0.0552 0.0867\n",
       "5 PLR   xgboost 0.0611   0.044  0.0781\n",
       "6 PLR   best    0.0654   0.0483 0.0824\n",
       "7 DML   NN      0.5138   0.4974 0.5301"
      ]
     },
     "metadata": {},
     "output_type": "display_data"
    }
   ],
   "source": [
    "# Results \n",
    "confints = rbind(dml_plr_lm$confint(), dml_plr_lasso$confint(), dml_plr_forest$confint(),\n",
    "                 dml_plr_tree$confint(), dml_plr_boost$confint(), dml_plr_best$confint())\n",
    "estimates = c(dml_plr_lm$coef, dml_plr_lasso$coef, dml_plr_forest$coef,\n",
    "              dml_plr_tree$coef, dml_plr_boost$coef, dml_plr_best$coef)\n",
    "result_plr = data.table(\"model\" = \"PLR\",\n",
    "                        \"ML\" = c(\"ols\", \"glmnet\", \"ranger\", \"rpart\", \"xgboost\", \"best\"),\n",
    "                        \"Estimate\" = round(estimates, 4),\n",
    "                        \"lower\" = round(confints[,1],4),\n",
    "                        \"upper\" = round(confints[,2],4))\n",
    "# Add the new row\n",
    "NN <- c(\"DML\", \"NN\", round(DML2.nn$coef.est[[1]], 4), round(DML2.nn$lower,4), round(DML2.nn$upper,4))\n",
    "result_plr <- rbind(result_plr, as.list(NN))\n",
    "\n",
    "result_plr"
   ]
  },
  {
   "cell_type": "code",
   "execution_count": 182,
   "id": "974722be",
   "metadata": {},
   "outputs": [
    {
     "data": {
      "image/png": "[encoded data removed]",
      "text/plain": [
       "plot without title"
      ]
     },
     "metadata": {
      "image/png": {
       "height": 420,
       "width": 420
      }
     },
     "output_type": "display_data"
    }
   ],
   "source": [
    "g_ci = ggplot(result_plr, aes(x = ML, y = Estimate, color = ML)) +\n",
    "        geom_point() +\n",
    "        geom_errorbar(aes(ymin = lower, ymax = upper, color = ML))  +\n",
    "        geom_hline(yintercept = 0, color = \"grey\") +\n",
    "        theme_minimal() + ylab(\"Coefficients and 0.95- confidence interval\") +\n",
    "        xlab(\"\") +\n",
    "        theme(axis.text.x = element_text(angle = 90), legend.position = \"none\",\n",
    "              text = element_text(size = 20))\n",
    "\n",
    "g_ci"
   ]
  },
  {
   "cell_type": "code",
   "execution_count": null,
   "id": "7af99fe0",
   "metadata": {},
   "outputs": [],
   "source": []
  }
 ],
 "metadata": {
  "kernelspec": {
   "display_name": "R",
   "language": "R",
   "name": "ir"
  },
  "language_info": {
   "codemirror_mode": "r",
   "file_extension": ".r",
   "mimetype": "text/x-r-source",
   "name": "R",
   "pygments_lexer": "r",
   "version": "4.1.3"
  }
 },
 "nbformat": 4,
 "nbformat_minor": 5
}
