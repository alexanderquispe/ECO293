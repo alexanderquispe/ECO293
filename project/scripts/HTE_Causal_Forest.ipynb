{
 "cells": [
  {
   "cell_type": "code",
   "execution_count": 336,
   "id": "9a798aee",
   "metadata": {},
   "outputs": [],
   "source": [
    "# The causalTree package is not in CRAN, the most common R repository.\n",
    "# To install it, uncomment the next lines as appropriate.\n",
    "# install.packages(\"devtools\")  # if you don't have this installed yet.\n",
    "# devtools::install_github('susanathey/causalTree') \n",
    "library(causalTree)\n",
    "\n",
    "# use e.g., install.packages(\"grf\") to install any of the following packages.\n",
    "library(grf)\n",
    "library(rpart)\n",
    "library(glmnet)\n",
    "library(splines)\n",
    "library(MASS)\n",
    "library(lmtest)\n",
    "library(sandwich)\n",
    "library(ggplot2)\n",
    "library(haven)"
   ]
  },
  {
   "cell_type": "code",
   "execution_count": 338,
   "id": "84fc2db3",
   "metadata": {},
   "outputs": [],
   "source": [
    "data <- read_dta(\"C:/Users/Alexander/Dropbox/MGTECON634_Project/data/matching_panel5_treat12.dta\")"
   ]
  },
  {
   "cell_type": "code",
   "execution_count": 12,
   "id": "a7017d1a",
   "metadata": {},
   "outputs": [
    {
     "data": {
      "text/html": [
       "TRUE"
      ],
      "text/latex": [
       "TRUE"
      ],
      "text/markdown": [
       "TRUE"
      ],
      "text/plain": [
       "[1] TRUE"
      ]
     },
     "metadata": {},
     "output_type": "display_data"
    }
   ],
   "source": [
    "is.data.frame(data)"
   ]
  },
  {
   "cell_type": "code",
   "execution_count": 13,
   "id": "1715cc99",
   "metadata": {},
   "outputs": [],
   "source": [
    "# stay treat12 tenured level sex age clasification cpelec cpwater"
   ]
  },
  {
   "cell_type": "markdown",
   "id": "1f1b17e6",
   "metadata": {},
   "source": [
    "# Clean Data"
   ]
  },
  {
   "cell_type": "code",
   "execution_count": 248,
   "id": "8296c22d",
   "metadata": {},
   "outputs": [],
   "source": [
    "# Dummy for sex, and categorical values for level and clasification \n",
    "data$sex[data$sex == 1] <- 1\n",
    "data$sex[data$sex == 2] <- 0\n",
    "data$level <- as.factor(data$level)\n",
    "data$clasification <- as.factor(data$clasification)"
   ]
  },
  {
   "cell_type": "code",
   "execution_count": 157,
   "id": "3cf0ba40",
   "metadata": {},
   "outputs": [],
   "source": [
    "outcome <- \"stay\"\n",
    "treatment <- \"treat12\"\n",
    "covariates = c(\"tenured\", \"level\", \"sex\", \"age\", \"clasification\", \n",
    "               \"cpelec\", \"cpwater\", \"nlat_ie\", \"nlong_ie\")"
   ]
  },
  {
   "cell_type": "markdown",
   "id": "9ca74493",
   "metadata": {},
   "source": [
    "# Replicate main Results"
   ]
  },
  {
   "cell_type": "code",
   "execution_count": 270,
   "id": "660f967a",
   "metadata": {},
   "outputs": [
    {
     "data": {
      "text/plain": [
       "\n",
       "Call:\n",
       "lm(formula = fmla, data = subset(data, tenured == 1 & strict_qualified == \n",
       "    1 & ano == 2016))\n",
       "\n",
       "Residuals:\n",
       "     Min       1Q   Median       3Q      Max \n",
       "-0.98581  0.05739  0.08545  0.11004  0.19524 \n",
       "\n",
       "Coefficients: (1 not defined because of singularities)\n",
       "                         Estimate Std. Error t value Pr(>|t|)    \n",
       "(Intercept)             0.7054709  0.0176330  40.009   <2e-16 ***\n",
       "treat12                 0.0002453  0.0040631   0.060   0.9519    \n",
       "tenured                        NA         NA      NA       NA    \n",
       "sex                    -0.0094226  0.0040820  -2.308   0.0210 *  \n",
       "age                     0.0037790  0.0002617  14.439   <2e-16 ***\n",
       "factor(level)2          0.0083060  0.0099193   0.837   0.4024    \n",
       "factor(level)3          0.0049741  0.0113954   0.436   0.6625    \n",
       "factor(clasification)2 -0.0086832  0.0065443  -1.327   0.1846    \n",
       "factor(clasification)3 -0.0004257  0.0073458  -0.058   0.9538    \n",
       "cpelec                  0.0227707  0.0094413   2.412   0.0159 *  \n",
       "cpwater                 0.0109387  0.0042788   2.557   0.0106 *  \n",
       "---\n",
       "Signif. codes:  0 '***' 0.001 '**' 0.01 '*' 0.05 '.' 0.1 ' ' 1\n",
       "\n",
       "Residual standard error: 0.2855 on 21554 degrees of freedom\n",
       "  (872 observations deleted due to missingness)\n",
       "Multiple R-squared:  0.01253,\tAdjusted R-squared:  0.01211 \n",
       "F-statistic: 30.38 on 9 and 21554 DF,  p-value: < 2.2e-16\n"
      ]
     },
     "metadata": {},
     "output_type": "display_data"
    }
   ],
   "source": [
    "# Treatment Effect on Retention for Teachers at Isolated/Rural Boundary\n",
    "# Permanent\n",
    "fmla <- formula(stay ~  treat12 + tenured + sex + age + \n",
    "                        factor(level) + factor(clasification) \n",
    "                        + cpelec + cpwater)\n",
    "ols <- lm(fmla, data=subset(data, tenured==1 & strict_qualified == 1 & ano== 2016 ))\n",
    "ols.res <- coeftest(ols, vcov=vcovHC(ols, type='HC2'))\n",
    "#ols.res\n",
    "summary(ols)"
   ]
  },
  {
   "cell_type": "code",
   "execution_count": 271,
   "id": "8e93fbc0",
   "metadata": {},
   "outputs": [
    {
     "data": {
      "text/plain": [
       "\n",
       "Call:\n",
       "lm(formula = fmla, data = subset(data, tenured == 0 & strict_qualified == \n",
       "    1 & ano == 2016))\n",
       "\n",
       "Residuals:\n",
       "    Min      1Q  Median      3Q     Max \n",
       "-0.4330 -0.2964 -0.2522  0.6522  0.8336 \n",
       "\n",
       "Coefficients: (1 not defined because of singularities)\n",
       "                        Estimate Std. Error t value Pr(>|t|)    \n",
       "(Intercept)             0.110352   0.020276   5.442 5.30e-08 ***\n",
       "treat12                 0.047713   0.006041   7.898 2.94e-15 ***\n",
       "tenured                       NA         NA      NA       NA    \n",
       "sex                     0.007348   0.006219   1.181   0.2374    \n",
       "age                     0.003071   0.000405   7.584 3.47e-14 ***\n",
       "factor(level)2          0.004622   0.008742   0.529   0.5970    \n",
       "factor(level)3          0.009403   0.011835   0.794   0.4269    \n",
       "factor(clasification)2 -0.008398   0.009140  -0.919   0.3582    \n",
       "factor(clasification)3  0.062801   0.010961   5.729 1.02e-08 ***\n",
       "cpelec                 -0.020036   0.010036  -1.996   0.0459 *  \n",
       "cpwater                 0.009932   0.006043   1.644   0.1003    \n",
       "---\n",
       "Signif. codes:  0 '***' 0.001 '**' 0.01 '*' 0.05 '.' 0.1 ' ' 1\n",
       "\n",
       "Residual standard error: 0.4469 on 25560 degrees of freedom\n",
       "  (3207 observations deleted due to missingness)\n",
       "Multiple R-squared:  0.01102,\tAdjusted R-squared:  0.01067 \n",
       "F-statistic: 31.65 on 9 and 25560 DF,  p-value: < 2.2e-16\n"
      ]
     },
     "metadata": {},
     "output_type": "display_data"
    }
   ],
   "source": [
    "# Treatment Effect on Retention for Teachers at Isolated/Rural Boundary\n",
    "# Qualified Temporary\n",
    "fmla <- formula(stay ~  treat12 + tenured + sex + age + \n",
    "                        factor(level) + factor(clasification) \n",
    "                        + cpelec + cpwater)\n",
    "ols <- lm(fmla, data=subset(data, tenured==0 & strict_qualified == 1 & ano== 2016 ))\n",
    "ols.res <- coeftest(ols, vcov=vcovHC(ols, type='HC2'))\n",
    "#ols.res\n",
    "summary(ols)"
   ]
  },
  {
   "cell_type": "code",
   "execution_count": 160,
   "id": "9b9ebe4d",
   "metadata": {},
   "outputs": [
    {
     "data": {
      "text/plain": [
       "\n",
       "t test of coefficients:\n",
       "\n",
       "                         Estimate Std. Error t value  Pr(>|t|)    \n",
       "(Intercept)             0.1248870  0.0494152  2.5273 0.0115435 *  \n",
       "treat12                 0.0408633  0.0209398  1.9515 0.0510916 .  \n",
       "sex                    -0.0022900  0.0201888 -0.1134 0.9096973    \n",
       "age                     0.0040742  0.0010582  3.8501 0.0001205 ***\n",
       "factor(level)2         -0.0560187  0.0254597 -2.2003 0.0278596 *  \n",
       "factor(level)3         -0.0599011  0.0321866 -1.8611 0.0628302 .  \n",
       "factor(clasification)2  0.0320481  0.0249825  1.2828 0.1996507    \n",
       "factor(clasification)3  0.0912484  0.0297241  3.0698 0.0021602 ** \n",
       "cpelec                 -0.0072515  0.0189478 -0.3827 0.7019619    \n",
       "cpwater                -0.0298502  0.0211662 -1.4103 0.1585591    \n",
       "---\n",
       "Signif. codes:  0 '***' 0.001 '**' 0.01 '*' 0.05 '.' 0.1 ' ' 1\n"
      ]
     },
     "metadata": {},
     "output_type": "display_data"
    }
   ],
   "source": [
    "# Treatment Effect on Retention for Teachers at Isolated/Rural Boundary\n",
    "# Unqualified Temporary\n",
    "fmla <- formula(stay ~  treat12 + tenured + sex + age + \n",
    "                        factor(level) + factor(clasification) \n",
    "                        + cpelec + cpwater)\n",
    "ols <- lm(fmla, data=subset(data, tenured==0 & strict_qualified == 0 & ano== 2016 ))\n",
    "ols.res <- coeftest(ols, vcov=vcovHC(ols, type='HC2'))\n",
    "ols.res"
   ]
  },
  {
   "cell_type": "markdown",
   "id": "9c89a054",
   "metadata": {},
   "source": [
    "# Via causal trees"
   ]
  },
  {
   "cell_type": "code",
   "execution_count": 161,
   "id": "1ab04529",
   "metadata": {},
   "outputs": [],
   "source": [
    "# # Only valid for randomized data!\n",
    "# fmla <- paste(outcome, \" ~\", paste(covariates, collapse = \" + \"))\n",
    "# X <- model.matrix(fmla, data)"
   ]
  },
  {
   "cell_type": "code",
   "execution_count": 162,
   "id": "f3c12aaa",
   "metadata": {},
   "outputs": [],
   "source": [
    "# fmla <- formula(stay ~  tenured + sex + age)\n",
    "# fmla"
   ]
  },
  {
   "cell_type": "code",
   "execution_count": 163,
   "id": "375c4ba6",
   "metadata": {},
   "outputs": [],
   "source": [
    "# # Prepare dataset\n",
    "# fmla <- formula(paste0(\"~ 0 + \", paste0(covariates, collapse=\"+\")))\n",
    "# X <- model.matrix(fmla, data)"
   ]
  },
  {
   "cell_type": "code",
   "execution_count": 164,
   "id": "139a6260",
   "metadata": {},
   "outputs": [],
   "source": [
    "#stay treat12 tenured level sex age clasification cpelec cpwater"
   ]
  },
  {
   "cell_type": "markdown",
   "id": "4db2fbd2",
   "metadata": {},
   "source": [
    "## Data from temporary teachers in 2016"
   ]
  },
  {
   "cell_type": "code",
   "execution_count": 339,
   "id": "2fecc6ab",
   "metadata": {},
   "outputs": [],
   "source": [
    "data_main_col <- data.frame(data$stay, data$treat12,data$tenured, \n",
    "                            data$level, data$sex, data$age, data$clasification, \n",
    "                            data$cpelec, data$cpwater, data$nlat_ie, data$nlong_ie,\n",
    "                           data$x_dim, data$y_dim, data$ano)\n",
    " \n",
    "names(data_main_col) <- c('stay', 'treat12', 'tenured', 'level', 'sex', 'age', \n",
    "                       'clasification', 'cpelec', 'cpwater', \"nlat_ie\", \"nlong_ie\", \"x_dim\", \"y_dim\", \"ano\")\n",
    "data_clean = na.omit(data_main_col)"
   ]
  },
  {
   "cell_type": "code",
   "execution_count": 340,
   "id": "8cf1b573",
   "metadata": {},
   "outputs": [],
   "source": [
    "data_clean <- subset(data_clean, ano== 2016 & tenured == 0)"
   ]
  },
  {
   "cell_type": "code",
   "execution_count": 341,
   "id": "cf60999b",
   "metadata": {},
   "outputs": [
    {
     "data": {
      "text/html": [
       "<style>\n",
       ".list-inline {list-style: none; margin:0; padding: 0}\n",
       ".list-inline>li {display: inline-block}\n",
       ".list-inline>li:not(:last-child)::after {content: \"\\00b7\"; padding: 0 .5ex}\n",
       "</style>\n",
       "<ol class=list-inline><li>29606</li><li>14</li></ol>\n"
      ],
      "text/latex": [
       "\\begin{enumerate*}\n",
       "\\item 29606\n",
       "\\item 14\n",
       "\\end{enumerate*}\n"
      ],
      "text/markdown": [
       "1. 29606\n",
       "2. 14\n",
       "\n",
       "\n"
      ],
      "text/plain": [
       "[1] 29606    14"
      ]
     },
     "metadata": {},
     "output_type": "display_data"
    }
   ],
   "source": [
    "dim(data_clean)"
   ]
  },
  {
   "cell_type": "code",
   "execution_count": 342,
   "id": "6e2a7ea5",
   "metadata": {},
   "outputs": [
    {
     "data": {
      "text/html": [
       "<style>\n",
       ".list-inline {list-style: none; margin:0; padding: 0}\n",
       ".list-inline>li {display: inline-block}\n",
       ".list-inline>li:not(:last-child)::after {content: \"\\00b7\"; padding: 0 .5ex}\n",
       "</style>\n",
       "<ol class=list-inline><li>29606</li><li>14</li></ol>\n"
      ],
      "text/latex": [
       "\\begin{enumerate*}\n",
       "\\item 29606\n",
       "\\item 14\n",
       "\\end{enumerate*}\n"
      ],
      "text/markdown": [
       "1. 29606\n",
       "2. 14\n",
       "\n",
       "\n"
      ],
      "text/plain": [
       "[1] 29606    14"
      ]
     },
     "metadata": {},
     "output_type": "display_data"
    }
   ],
   "source": [
    "dim(data_clean)"
   ]
  },
  {
   "cell_type": "markdown",
   "id": "c0d43162",
   "metadata": {},
   "source": [
    "# Using Blocks"
   ]
  },
  {
   "cell_type": "code",
   "execution_count": 343,
   "id": "3f2d2ef5",
   "metadata": {},
   "outputs": [
    {
     "data": {
      "text/plain": [
       "\n",
       "Call:\n",
       "lm(formula = fmla, data = data_clean)\n",
       "\n",
       "Residuals:\n",
       "    Min      1Q  Median      3Q     Max \n",
       "-0.5335 -0.2946 -0.2451  0.6407  0.8880 \n",
       "\n",
       "Coefficients: (1 not defined because of singularities)\n",
       "                         Estimate Std. Error t value Pr(>|t|)    \n",
       "(Intercept)            -8.669e-02  2.599e-02  -3.335 0.000854 ***\n",
       "treat12                 4.380e-02  5.730e-03   7.645 2.16e-14 ***\n",
       "tenured                        NA         NA      NA       NA    \n",
       "sex                    -6.050e-03  5.816e-03  -1.040 0.298315    \n",
       "age                     3.172e-03  3.581e-04   8.858  < 2e-16 ***\n",
       "factor(level)2         -4.513e-03  8.048e-03  -0.561 0.574908    \n",
       "factor(level)3          1.109e-03  1.080e-02   0.103 0.918253    \n",
       "factor(clasification)2 -3.321e-03  8.413e-03  -0.395 0.693041    \n",
       "factor(clasification)3  6.420e-02  1.002e-02   6.407 1.51e-10 ***\n",
       "cpelec                  3.368e-03  8.505e-03   0.396 0.692085    \n",
       "cpwater                 2.863e-02  5.929e-03   4.829 1.38e-06 ***\n",
       "x_dim                   9.829e-05  1.296e-05   7.587 3.38e-14 ***\n",
       "y_dim                   1.206e-04  1.012e-05  11.917  < 2e-16 ***\n",
       "---\n",
       "Signif. codes:  0 '***' 0.001 '**' 0.01 '*' 0.05 '.' 0.1 ' ' 1\n",
       "\n",
       "Residual standard error: 0.4454 on 29594 degrees of freedom\n",
       "Multiple R-squared:  0.01499,\tAdjusted R-squared:  0.01462 \n",
       "F-statistic: 40.94 on 11 and 29594 DF,  p-value: < 2.2e-16\n"
      ]
     },
     "metadata": {},
     "output_type": "display_data"
    }
   ],
   "source": [
    "# Treatment Effect on Retention for Teachers at Isolated/Rural Boundary\n",
    "# Permanent\n",
    "fmla <- formula(stay ~  treat12 + tenured + sex + age + \n",
    "                        factor(level) + factor(clasification) \n",
    "                        + cpelec + cpwater + x_dim + y_dim)\n",
    "ols <- lm(fmla, data=data_clean)\n",
    "ols.res <- coeftest(ols, vcov=vcovHC(ols, type='HC2'))\n",
    "#ols.res\n",
    "summary(ols)"
   ]
  },
  {
   "cell_type": "code",
   "execution_count": 304,
   "id": "6fcc1dfb",
   "metadata": {},
   "outputs": [],
   "source": [
    "# Dividing data into three subsets\n",
    "indices <- split(seq(nrow(data_clean)), sort(seq(nrow(data_clean)) %% 3))\n",
    "names(indices) <- c('split', 'est', 'test')"
   ]
  },
  {
   "cell_type": "code",
   "execution_count": 305,
   "id": "34fd0e5a",
   "metadata": {},
   "outputs": [
    {
     "data": {
      "text/plain": [
       "stay ~ tenured + sex + age + factor(level) + factor(clasification) + \n",
       "    cpelec + cpwater + x_dim + y_dim"
      ]
     },
     "metadata": {},
     "output_type": "display_data"
    }
   ],
   "source": [
    "fmla <- formula(stay ~  tenured + sex + age + \n",
    "                        factor(level) + factor(clasification)\n",
    "                        + cpelec + cpwater + x_dim + y_dim)\n",
    "fmla"
   ]
  },
  {
   "cell_type": "code",
   "execution_count": 306,
   "id": "6bb53bc5",
   "metadata": {},
   "outputs": [
    {
     "data": {
      "text/html": [
       "<style>\n",
       ".list-inline {list-style: none; margin:0; padding: 0}\n",
       ".list-inline>li {display: inline-block}\n",
       ".list-inline>li:not(:last-child)::after {content: \"\\00b7\"; padding: 0 .5ex}\n",
       "</style>\n",
       "<ol class=list-inline><li>29606</li><li>14</li></ol>\n"
      ],
      "text/latex": [
       "\\begin{enumerate*}\n",
       "\\item 29606\n",
       "\\item 14\n",
       "\\end{enumerate*}\n"
      ],
      "text/markdown": [
       "1. 29606\n",
       "2. 14\n",
       "\n",
       "\n"
      ],
      "text/plain": [
       "[1] 29606    14"
      ]
     },
     "metadata": {},
     "output_type": "display_data"
    }
   ],
   "source": [
    "dim(data_clean)"
   ]
  },
  {
   "cell_type": "code",
   "execution_count": 313,
   "id": "88b7e4b7",
   "metadata": {},
   "outputs": [
    {
     "name": "stdout",
     "output_type": "stream",
     "text": [
      "[1] 2\n",
      "[1] \"CT\"\n"
     ]
    }
   ],
   "source": [
    "# Fitting the forest\n",
    "ct.unpruned <- honest.causalTree(\n",
    "  formula=fmla,            # Define the model\n",
    "  data=data_clean[indices$split,],\n",
    "  treatment=data_clean[indices$split, treatment],\n",
    "  est_data=data_clean[indices$est,],\n",
    "  est_treatment=data_clean[indices$est, treatment],\n",
    "  minsize=100,                 # Min. number of treatment and control cases in each leaf\n",
    "  HonestSampleSize=length(indices$est), #  Num obs used in estimation after splitting\n",
    "  # We recommend not changing the parameters below\n",
    "  split.Rule=\"CT\",            # Define the splitting option\n",
    "  cv.option=\"TOT\",            # Cross validation options\n",
    "  cp=0,                       # Complexity parameter\n",
    "  split.Honest=TRUE,          # Use honesty when splitting\n",
    "  cv.Honest=TRUE              # Use honesty when performing cross-validation\n",
    ")\n"
   ]
  },
  {
   "cell_type": "code",
   "execution_count": 314,
   "id": "f01bb1f4",
   "metadata": {},
   "outputs": [],
   "source": [
    "# Table of cross-validated values by tuning parameter.\n",
    "ct.cptable <- as.data.frame(ct.unpruned$cptable)"
   ]
  },
  {
   "cell_type": "code",
   "execution_count": 315,
   "id": "4c09f8ab",
   "metadata": {},
   "outputs": [],
   "source": [
    "# Obtain optimal complexity parameter to prune tree.\n",
    "cp.selected <- which.min(ct.cptable$xerror)\n",
    "cp.optimal <- ct.cptable[cp.selected, \"CP\"]"
   ]
  },
  {
   "cell_type": "code",
   "execution_count": 316,
   "id": "05f30cef",
   "metadata": {},
   "outputs": [],
   "source": [
    "# Prune the tree at optimal complexity parameter.\n",
    "ct.pruned <- prune(tree=ct.unpruned, cp=cp.optimal)"
   ]
  },
  {
   "cell_type": "code",
   "execution_count": 317,
   "id": "d654ef8e",
   "metadata": {},
   "outputs": [],
   "source": [
    "# Predict point estimates (on estimation sample)\n",
    "tau.hat.est <- predict(ct.pruned, newdata=data_clean[indices$est,])\n",
    "\n",
    "# Create a factor column 'leaf' indicating leaf assignment in the estimation set\n",
    "num.leaves <- length(unique(tau.hat.est))\n",
    "leaf <- factor(tau.hat.est, levels=sort(unique(tau.hat.est)), labels = seq(num.leaves))"
   ]
  },
  {
   "cell_type": "code",
   "execution_count": 318,
   "id": "55658b18",
   "metadata": {},
   "outputs": [
    {
     "data": {
      "text/html": [
       "11"
      ],
      "text/latex": [
       "11"
      ],
      "text/markdown": [
       "11"
      ],
      "text/plain": [
       "[1] 11"
      ]
     },
     "metadata": {},
     "output_type": "display_data"
    }
   ],
   "source": [
    "num.leaves"
   ]
  },
  {
   "cell_type": "code",
   "execution_count": 319,
   "id": "50abfcd2",
   "metadata": {},
   "outputs": [
    {
     "data": {
      "image/png": "[encoded data removed]",
      "text/plain": [
       "plot without title"
      ]
     },
     "metadata": {
      "image/png": {
       "height": 420,
       "width": 420
      }
     },
     "output_type": "display_data"
    }
   ],
   "source": [
    "rpart.plot(\n",
    "  x=ct.pruned,        # Pruned tree\n",
    "  type=3,             # Draw separate split labels for the left and right directions\n",
    "  fallen=TRUE,        # Position the leaf nodes at the bottom of the graph\n",
    "  leaf.round=1,       # Rounding of the corners of the leaf node boxes\n",
    "  extra=100,          # Display the percentage of observations in the node\n",
    "  branch=.1,          # Shape of the branch lines\n",
    "  box.palette=\"RdBu\") # Palette for coloring the node"
   ]
  },
  {
   "cell_type": "markdown",
   "id": "fb32ef90",
   "metadata": {},
   "source": [
    "# Using Lat and Longitud"
   ]
  },
  {
   "cell_type": "code",
   "execution_count": 327,
   "id": "0c6b29ba",
   "metadata": {},
   "outputs": [
    {
     "data": {
      "text/plain": [
       "stay ~ tenured + sex + age + factor(level) + factor(clasification) + \n",
       "    cpelec + cpwater + nlat_ie + nlong_ie"
      ]
     },
     "metadata": {},
     "output_type": "display_data"
    }
   ],
   "source": [
    "fmla <- formula(stay ~  tenured + sex + age + \n",
    "                        factor(level) + factor(clasification)\n",
    "                        + cpelec + cpwater + nlat_ie + nlong_ie)\n",
    "fmla"
   ]
  },
  {
   "cell_type": "code",
   "execution_count": 328,
   "id": "855a58b7",
   "metadata": {},
   "outputs": [
    {
     "name": "stdout",
     "output_type": "stream",
     "text": [
      "[1] 2\n",
      "[1] \"CT\"\n"
     ]
    },
    {
     "data": {
      "image/png": "[encoded data removed]",
      "text/plain": [
       "plot without title"
      ]
     },
     "metadata": {
      "image/png": {
       "height": 420,
       "width": 420
      }
     },
     "output_type": "display_data"
    }
   ],
   "source": [
    "# Fitting the forest\n",
    "ct.unpruned <- honest.causalTree(\n",
    "  formula=fmla,            # Define the model\n",
    "  data=data_clean[indices$split,],\n",
    "  treatment=data_clean[indices$split, treatment],\n",
    "  est_data=data_clean[indices$est,],\n",
    "  est_treatment=data_clean[indices$est, treatment],\n",
    "  minsize=120,                 # Min. number of treatment and control cases in each leaf\n",
    "  HonestSampleSize=length(indices$est), #  Num obs used in estimation after splitting\n",
    "  # We recommend not changing the parameters below\n",
    "  split.Rule=\"CT\",            # Define the splitting option\n",
    "  cv.option=\"TOT\",            # Cross validation options\n",
    "  cp=0,                       # Complexity parameter\n",
    "  split.Honest=TRUE,          # Use honesty when splitting\n",
    "  cv.Honest=TRUE              # Use honesty when performing cross-validation\n",
    ")\n",
    "\n",
    "# Table of cross-validated values by tuning parameter.\n",
    "ct.cptable <- as.data.frame(ct.unpruned$cptable)\n",
    "\n",
    "# Obtain optimal complexity parameter to prune tree.\n",
    "cp.selected <- which.min(ct.cptable$xerror)\n",
    "cp.optimal <- ct.cptable[cp.selected, \"CP\"]\n",
    "\n",
    "# Prune the tree at optimal complexity parameter.\n",
    "ct.pruned <- prune(tree=ct.unpruned, cp=cp.optimal)\n",
    "\n",
    "# Predict point estimates (on estimation sample)\n",
    "tau.hat.est <- predict(ct.pruned, newdata=data_clean[indices$est,])\n",
    "\n",
    "# Create a factor column 'leaf' indicating leaf assignment in the estimation set\n",
    "num.leaves <- length(unique(tau.hat.est))\n",
    "leaf <- factor(tau.hat.est, levels=sort(unique(tau.hat.est)), labels = seq(num.leaves))\n",
    "\n",
    "rpart.plot(\n",
    "  x=ct.pruned,        # Pruned tree\n",
    "  type=3,             # Draw separate split labels for the left and right directions\n",
    "  fallen=TRUE,        # Position the leaf nodes at the bottom of the graph\n",
    "  leaf.round=1,       # Rounding of the corners of the leaf node boxes\n",
    "  extra=100,          # Display the percentage of observations in the node\n",
    "  branch=.1,          # Shape of the branch lines\n",
    "  box.palette=\"RdBu\") # Palette for coloring the node"
   ]
  },
  {
   "cell_type": "code",
   "execution_count": 251,
   "id": "34533f1f",
   "metadata": {},
   "outputs": [
    {
     "data": {
      "text/html": [
       "<table class=\"dataframe\">\n",
       "<caption>A data.frame: 51170 × 14</caption>\n",
       "<thead>\n",
       "\t<tr><th></th><th scope=col>stay</th><th scope=col>treat12</th><th scope=col>tenured</th><th scope=col>level</th><th scope=col>sex</th><th scope=col>age</th><th scope=col>clasification</th><th scope=col>cpelec</th><th scope=col>cpwater</th><th scope=col>nlat_ie</th><th scope=col>nlong_ie</th><th scope=col>x_dim</th><th scope=col>y_dim</th><th scope=col>ano</th></tr>\n",
       "\t<tr><th></th><th scope=col>&lt;dbl&gt;</th><th scope=col>&lt;dbl&gt;</th><th scope=col>&lt;dbl&gt;</th><th scope=col>&lt;fct&gt;</th><th scope=col>&lt;dbl+lbl&gt;</th><th scope=col>&lt;dbl&gt;</th><th scope=col>&lt;fct&gt;</th><th scope=col>&lt;dbl&gt;</th><th scope=col>&lt;dbl&gt;</th><th scope=col>&lt;dbl&gt;</th><th scope=col>&lt;dbl&gt;</th><th scope=col>&lt;dbl&gt;</th><th scope=col>&lt;dbl&gt;</th><th scope=col>&lt;dbl&gt;</th></tr>\n",
       "</thead>\n",
       "<tbody>\n",
       "\t<tr><th scope=row>31</th><td>1</td><td>0</td><td>1</td><td>2</td><td>1</td><td>61</td><td>1</td><td>1</td><td>0</td><td>-14.16780</td><td>-72.79500</td><td>947.9789</td><td>460.7175</td><td>2016</td></tr>\n",
       "\t<tr><th scope=row>33</th><td>1</td><td>0</td><td>1</td><td>2</td><td>0</td><td>61</td><td>2</td><td>1</td><td>1</td><td>-14.14340</td><td>-72.73650</td><td>954.4911</td><td>463.4155</td><td>2016</td></tr>\n",
       "\t<tr><th scope=row>35</th><td>1</td><td>0</td><td>1</td><td>2</td><td>1</td><td>51</td><td>2</td><td>1</td><td>1</td><td>-14.14340</td><td>-72.73650</td><td>954.4911</td><td>463.4155</td><td>2016</td></tr>\n",
       "\t<tr><th scope=row>37</th><td>1</td><td>0</td><td>1</td><td>2</td><td>0</td><td>56</td><td>2</td><td>1</td><td>1</td><td>-14.14340</td><td>-72.73650</td><td>954.4911</td><td>463.4155</td><td>2016</td></tr>\n",
       "\t<tr><th scope=row>46</th><td>0</td><td>0</td><td>1</td><td>2</td><td>1</td><td>58</td><td>2</td><td>1</td><td>1</td><td>-14.19309</td><td>-72.79635</td><td>947.8286</td><td>457.9212</td><td>2016</td></tr>\n",
       "\t<tr><th scope=row>50</th><td>1</td><td>0</td><td>1</td><td>2</td><td>0</td><td>64</td><td>2</td><td>1</td><td>1</td><td>-14.19309</td><td>-72.79635</td><td>947.8286</td><td>457.9212</td><td>2016</td></tr>\n",
       "\t<tr><th scope=row>70</th><td>1</td><td>0</td><td>1</td><td>2</td><td>1</td><td>48</td><td>2</td><td>1</td><td>0</td><td>-14.00080</td><td>-72.57580</td><td>972.3802</td><td>479.1827</td><td>2016</td></tr>\n",
       "\t<tr><th scope=row>71</th><td>1</td><td>0</td><td>1</td><td>2</td><td>1</td><td>42</td><td>2</td><td>1</td><td>0</td><td>-14.00080</td><td>-72.57580</td><td>972.3802</td><td>479.1827</td><td>2016</td></tr>\n",
       "\t<tr><th scope=row>74</th><td>1</td><td>0</td><td>1</td><td>2</td><td>0</td><td>50</td><td>2</td><td>1</td><td>0</td><td>-14.00080</td><td>-72.57580</td><td>972.3802</td><td>479.1827</td><td>2016</td></tr>\n",
       "\t<tr><th scope=row>96</th><td>1</td><td>1</td><td>1</td><td>2</td><td>0</td><td>37</td><td>1</td><td>1</td><td>0</td><td>-13.99538</td><td>-72.59298</td><td>970.4677</td><td>479.7820</td><td>2016</td></tr>\n",
       "\t<tr><th scope=row>100</th><td>1</td><td>0</td><td>1</td><td>2</td><td>0</td><td>55</td><td>2</td><td>1</td><td>1</td><td>-13.92740</td><td>-72.48020</td><td>983.0224</td><td>487.2986</td><td>2016</td></tr>\n",
       "\t<tr><th scope=row>110</th><td>0</td><td>0</td><td>1</td><td>2</td><td>0</td><td>43</td><td>2</td><td>1</td><td>1</td><td>-13.92740</td><td>-72.48020</td><td>983.0224</td><td>487.2986</td><td>2016</td></tr>\n",
       "\t<tr><th scope=row>112</th><td>0</td><td>0</td><td>0</td><td>2</td><td>0</td><td>50</td><td>2</td><td>1</td><td>1</td><td>-13.92740</td><td>-72.48020</td><td>983.0224</td><td>487.2986</td><td>2016</td></tr>\n",
       "\t<tr><th scope=row>115</th><td>1</td><td>0</td><td>1</td><td>2</td><td>1</td><td>60</td><td>2</td><td>1</td><td>1</td><td>-13.92740</td><td>-72.48020</td><td>983.0224</td><td>487.2986</td><td>2016</td></tr>\n",
       "\t<tr><th scope=row>121</th><td>1</td><td>0</td><td>1</td><td>2</td><td>0</td><td>42</td><td>2</td><td>1</td><td>1</td><td>-13.92740</td><td>-72.48020</td><td>983.0224</td><td>487.2986</td><td>2016</td></tr>\n",
       "\t<tr><th scope=row>122</th><td>1</td><td>0</td><td>1</td><td>2</td><td>1</td><td>44</td><td>2</td><td>1</td><td>1</td><td>-13.92740</td><td>-72.48020</td><td>983.0224</td><td>487.2986</td><td>2016</td></tr>\n",
       "\t<tr><th scope=row>129</th><td>1</td><td>1</td><td>1</td><td>2</td><td>0</td><td>61</td><td>2</td><td>1</td><td>1</td><td>-13.97441</td><td>-72.52696</td><td>977.8171</td><td>482.1007</td><td>2016</td></tr>\n",
       "\t<tr><th scope=row>130</th><td>0</td><td>1</td><td>1</td><td>2</td><td>0</td><td>51</td><td>2</td><td>1</td><td>1</td><td>-13.97441</td><td>-72.52696</td><td>977.8171</td><td>482.1007</td><td>2016</td></tr>\n",
       "\t<tr><th scope=row>135</th><td>1</td><td>1</td><td>1</td><td>2</td><td>0</td><td>51</td><td>2</td><td>1</td><td>1</td><td>-13.97441</td><td>-72.52696</td><td>977.8171</td><td>482.1007</td><td>2016</td></tr>\n",
       "\t<tr><th scope=row>142</th><td>1</td><td>1</td><td>1</td><td>2</td><td>0</td><td>56</td><td>2</td><td>1</td><td>1</td><td>-14.24810</td><td>-72.57250</td><td>972.7476</td><td>451.8388</td><td>2016</td></tr>\n",
       "\t<tr><th scope=row>147</th><td>1</td><td>1</td><td>1</td><td>2</td><td>0</td><td>57</td><td>2</td><td>1</td><td>1</td><td>-14.24810</td><td>-72.57250</td><td>972.7476</td><td>451.8388</td><td>2016</td></tr>\n",
       "\t<tr><th scope=row>152</th><td>1</td><td>1</td><td>1</td><td>2</td><td>1</td><td>48</td><td>2</td><td>1</td><td>1</td><td>-13.87260</td><td>-72.50610</td><td>980.1392</td><td>493.3578</td><td>2016</td></tr>\n",
       "\t<tr><th scope=row>155</th><td>1</td><td>1</td><td>1</td><td>2</td><td>0</td><td>45</td><td>2</td><td>1</td><td>1</td><td>-13.87260</td><td>-72.50610</td><td>980.1392</td><td>493.3578</td><td>2016</td></tr>\n",
       "\t<tr><th scope=row>168</th><td>1</td><td>1</td><td>1</td><td>2</td><td>1</td><td>48</td><td>2</td><td>1</td><td>1</td><td>-13.87260</td><td>-72.50610</td><td>980.1392</td><td>493.3578</td><td>2016</td></tr>\n",
       "\t<tr><th scope=row>169</th><td>1</td><td>1</td><td>1</td><td>2</td><td>0</td><td>58</td><td>2</td><td>1</td><td>1</td><td>-13.90584</td><td>-72.52444</td><td>978.0976</td><td>489.6825</td><td>2016</td></tr>\n",
       "\t<tr><th scope=row>170</th><td>0</td><td>1</td><td>0</td><td>2</td><td>1</td><td>34</td><td>2</td><td>1</td><td>1</td><td>-13.90584</td><td>-72.52444</td><td>978.0976</td><td>489.6825</td><td>2016</td></tr>\n",
       "\t<tr><th scope=row>177</th><td>1</td><td>1</td><td>1</td><td>2</td><td>0</td><td>57</td><td>2</td><td>1</td><td>1</td><td>-13.83510</td><td>-72.56840</td><td>973.2040</td><td>497.5042</td><td>2016</td></tr>\n",
       "\t<tr><th scope=row>178</th><td>1</td><td>1</td><td>1</td><td>2</td><td>1</td><td>44</td><td>2</td><td>1</td><td>1</td><td>-13.83510</td><td>-72.56840</td><td>973.2040</td><td>497.5042</td><td>2016</td></tr>\n",
       "\t<tr><th scope=row>182</th><td>1</td><td>1</td><td>1</td><td>2</td><td>0</td><td>52</td><td>2</td><td>1</td><td>1</td><td>-13.81370</td><td>-72.56080</td><td>974.0500</td><td>499.8704</td><td>2016</td></tr>\n",
       "\t<tr><th scope=row>190</th><td>1</td><td>1</td><td>1</td><td>2</td><td>0</td><td>47</td><td>2</td><td>1</td><td>1</td><td>-13.78590</td><td>-72.49600</td><td>981.2635</td><td>502.9442</td><td>2016</td></tr>\n",
       "\t<tr><th scope=row>...</th><td>...</td><td>...</td><td>...</td><td>...</td><td>...</td><td>...</td><td>...</td><td>...</td><td>...</td><td>...</td><td>...</td><td>...</td><td>...</td><td>...</td></tr>\n",
       "\t<tr><th scope=row>251141</th><td>0</td><td>1</td><td>0</td><td>3</td><td>0</td><td>29</td><td>3</td><td>1</td><td>0</td><td> -4.72095</td><td>-79.54707</td><td> 196.3384</td><td>1505.2558</td><td>2016</td></tr>\n",
       "\t<tr><th scope=row>251147</th><td>0</td><td>1</td><td>0</td><td>3</td><td>0</td><td>41</td><td>3</td><td>1</td><td>0</td><td> -4.82832</td><td>-80.01748</td><td> 143.9724</td><td>1493.3839</td><td>2016</td></tr>\n",
       "\t<tr><th scope=row>251148</th><td>0</td><td>1</td><td>0</td><td>3</td><td>0</td><td>56</td><td>3</td><td>1</td><td>0</td><td> -4.82832</td><td>-80.01748</td><td> 143.9724</td><td>1493.3839</td><td>2016</td></tr>\n",
       "\t<tr><th scope=row>251150</th><td>0</td><td>1</td><td>0</td><td>3</td><td>0</td><td>29</td><td>3</td><td>1</td><td>0</td><td> -4.82832</td><td>-80.01748</td><td> 143.9724</td><td>1493.3839</td><td>2016</td></tr>\n",
       "\t<tr><th scope=row>251153</th><td>0</td><td>1</td><td>0</td><td>3</td><td>0</td><td>23</td><td>3</td><td>1</td><td>0</td><td> -6.56440</td><td>-76.05610</td><td> 584.9532</td><td>1301.4255</td><td>2016</td></tr>\n",
       "\t<tr><th scope=row>251158</th><td>0</td><td>1</td><td>0</td><td>1</td><td>1</td><td>34</td><td>1</td><td>1</td><td>1</td><td> -7.21170</td><td>-78.13997</td><td> 352.9768</td><td>1229.8535</td><td>2016</td></tr>\n",
       "\t<tr><th scope=row>251164</th><td>0</td><td>1</td><td>0</td><td>3</td><td>1</td><td>44</td><td>3</td><td>0</td><td>0</td><td>-13.33272</td><td>-74.69027</td><td> 736.9974</td><td> 553.0523</td><td>2016</td></tr>\n",
       "\t<tr><th scope=row>251165</th><td>0</td><td>1</td><td>0</td><td>3</td><td>0</td><td>36</td><td>3</td><td>0</td><td>0</td><td>-13.33272</td><td>-74.69027</td><td> 736.9974</td><td> 553.0523</td><td>2016</td></tr>\n",
       "\t<tr><th scope=row>251168</th><td>0</td><td>1</td><td>0</td><td>3</td><td>0</td><td>42</td><td>3</td><td>1</td><td>0</td><td> -8.74767</td><td>-77.33960</td><td> 442.0740</td><td>1060.0213</td><td>2016</td></tr>\n",
       "\t<tr><th scope=row>251173</th><td>0</td><td>1</td><td>0</td><td>3</td><td>0</td><td>47</td><td>3</td><td>1</td><td>0</td><td> -8.74767</td><td>-77.33960</td><td> 442.0740</td><td>1060.0213</td><td>2016</td></tr>\n",
       "\t<tr><th scope=row>251175</th><td>0</td><td>1</td><td>0</td><td>3</td><td>0</td><td>31</td><td>3</td><td>0</td><td>0</td><td> -4.34440</td><td>-77.69887</td><td> 402.0800</td><td>1546.8909</td><td>2016</td></tr>\n",
       "\t<tr><th scope=row>251178</th><td>0</td><td>1</td><td>0</td><td>3</td><td>0</td><td>38</td><td>3</td><td>0</td><td>0</td><td> -4.34440</td><td>-77.69887</td><td> 402.0800</td><td>1546.8909</td><td>2016</td></tr>\n",
       "\t<tr><th scope=row>251190</th><td>0</td><td>1</td><td>0</td><td>3</td><td>0</td><td>40</td><td>3</td><td>0</td><td>0</td><td> -4.34440</td><td>-77.69887</td><td> 402.0800</td><td>1546.8909</td><td>2016</td></tr>\n",
       "\t<tr><th scope=row>251193</th><td>1</td><td>1</td><td>0</td><td>3</td><td>0</td><td>27</td><td>3</td><td>0</td><td>0</td><td> -4.34440</td><td>-77.69887</td><td> 402.0800</td><td>1546.8909</td><td>2016</td></tr>\n",
       "\t<tr><th scope=row>251194</th><td>0</td><td>1</td><td>0</td><td>3</td><td>0</td><td>34</td><td>3</td><td>1</td><td>0</td><td> -4.71318</td><td>-77.89439</td><td> 380.3148</td><td>1506.1149</td><td>2016</td></tr>\n",
       "\t<tr><th scope=row>251195</th><td>0</td><td>1</td><td>0</td><td>3</td><td>0</td><td>34</td><td>3</td><td>1</td><td>0</td><td> -4.71318</td><td>-77.89439</td><td> 380.3148</td><td>1506.1149</td><td>2016</td></tr>\n",
       "\t<tr><th scope=row>251196</th><td>0</td><td>1</td><td>0</td><td>3</td><td>0</td><td>44</td><td>3</td><td>1</td><td>0</td><td> -4.71318</td><td>-77.89439</td><td> 380.3148</td><td>1506.1149</td><td>2016</td></tr>\n",
       "\t<tr><th scope=row>251203</th><td>1</td><td>1</td><td>0</td><td>3</td><td>0</td><td>32</td><td>3</td><td>1</td><td>0</td><td> -4.71318</td><td>-77.89439</td><td> 380.3148</td><td>1506.1149</td><td>2016</td></tr>\n",
       "\t<tr><th scope=row>251205</th><td>1</td><td>1</td><td>0</td><td>3</td><td>0</td><td>26</td><td>3</td><td>1</td><td>0</td><td> -4.04788</td><td>-77.86178</td><td> 383.9449</td><td>1579.6771</td><td>2016</td></tr>\n",
       "\t<tr><th scope=row>251206</th><td>0</td><td>1</td><td>0</td><td>3</td><td>0</td><td>38</td><td>3</td><td>1</td><td>0</td><td> -4.04788</td><td>-77.86178</td><td> 383.9449</td><td>1579.6771</td><td>2016</td></tr>\n",
       "\t<tr><th scope=row>251210</th><td>0</td><td>1</td><td>0</td><td>3</td><td>0</td><td>26</td><td>3</td><td>1</td><td>0</td><td> -4.04788</td><td>-77.86178</td><td> 383.9449</td><td>1579.6771</td><td>2016</td></tr>\n",
       "\t<tr><th scope=row>251214</th><td>0</td><td>1</td><td>0</td><td>3</td><td>0</td><td>37</td><td>3</td><td>1</td><td>0</td><td> -8.41776</td><td>-78.32431</td><td> 332.4561</td><td>1096.4995</td><td>2016</td></tr>\n",
       "\t<tr><th scope=row>251216</th><td>0</td><td>1</td><td>0</td><td>3</td><td>1</td><td>40</td><td>3</td><td>1</td><td>0</td><td> -8.41776</td><td>-78.32431</td><td> 332.4561</td><td>1096.4995</td><td>2016</td></tr>\n",
       "\t<tr><th scope=row>251218</th><td>0</td><td>1</td><td>0</td><td>3</td><td>0</td><td>34</td><td>3</td><td>1</td><td>0</td><td> -8.41776</td><td>-78.32431</td><td> 332.4561</td><td>1096.4995</td><td>2016</td></tr>\n",
       "\t<tr><th scope=row>251240</th><td>0</td><td>1</td><td>0</td><td>2</td><td>0</td><td>27</td><td>3</td><td>0</td><td>0</td><td>-11.09603</td><td>-74.99964</td><td> 702.5583</td><td> 800.3632</td><td>2016</td></tr>\n",
       "\t<tr><th scope=row>251249</th><td>0</td><td>1</td><td>0</td><td>2</td><td>1</td><td>33</td><td>3</td><td>0</td><td>0</td><td>-10.45439</td><td>-74.03034</td><td> 810.4608</td><td> 871.3093</td><td>2016</td></tr>\n",
       "\t<tr><th scope=row>251250</th><td>0</td><td>1</td><td>1</td><td>2</td><td>0</td><td>51</td><td>3</td><td>0</td><td>0</td><td>-10.45439</td><td>-74.03034</td><td> 810.4608</td><td> 871.3093</td><td>2016</td></tr>\n",
       "\t<tr><th scope=row>251256</th><td>0</td><td>1</td><td>0</td><td>3</td><td>1</td><td>42</td><td>3</td><td>1</td><td>0</td><td>-16.09626</td><td>-70.73082</td><td>1177.7634</td><td> 247.4877</td><td>2016</td></tr>\n",
       "\t<tr><th scope=row>251259</th><td>0</td><td>1</td><td>0</td><td>3</td><td>1</td><td>46</td><td>3</td><td>1</td><td>0</td><td>-16.09626</td><td>-70.73082</td><td>1177.7634</td><td> 247.4877</td><td>2016</td></tr>\n",
       "\t<tr><th scope=row>251282</th><td>0</td><td>0</td><td>0</td><td>2</td><td>1</td><td>29</td><td>3</td><td>1</td><td>0</td><td>-13.68835</td><td>-71.28724</td><td>1115.8227</td><td> 513.7303</td><td>2016</td></tr>\n",
       "</tbody>\n",
       "</table>\n"
      ],
      "text/latex": [
       "A data.frame: 51170 × 14\n",
       "\\begin{tabular}{r|llllllllllllll}\n",
       "  & stay & treat12 & tenured & level & sex & age & clasification & cpelec & cpwater & nlat\\_ie & nlong\\_ie & x\\_dim & y\\_dim & ano\\\\\n",
       "  & <dbl> & <dbl> & <dbl> & <fct> & <dbl+lbl> & <dbl> & <fct> & <dbl> & <dbl> & <dbl> & <dbl> & <dbl> & <dbl> & <dbl>\\\\\n",
       "\\hline\n",
       "\t31 & 1 & 0 & 1 & 2 & 1 & 61 & 1 & 1 & 0 & -14.16780 & -72.79500 & 947.9789 & 460.7175 & 2016\\\\\n",
       "\t33 & 1 & 0 & 1 & 2 & 0 & 61 & 2 & 1 & 1 & -14.14340 & -72.73650 & 954.4911 & 463.4155 & 2016\\\\\n",
       "\t35 & 1 & 0 & 1 & 2 & 1 & 51 & 2 & 1 & 1 & -14.14340 & -72.73650 & 954.4911 & 463.4155 & 2016\\\\\n",
       "\t37 & 1 & 0 & 1 & 2 & 0 & 56 & 2 & 1 & 1 & -14.14340 & -72.73650 & 954.4911 & 463.4155 & 2016\\\\\n",
       "\t46 & 0 & 0 & 1 & 2 & 1 & 58 & 2 & 1 & 1 & -14.19309 & -72.79635 & 947.8286 & 457.9212 & 2016\\\\\n",
       "\t50 & 1 & 0 & 1 & 2 & 0 & 64 & 2 & 1 & 1 & -14.19309 & -72.79635 & 947.8286 & 457.9212 & 2016\\\\\n",
       "\t70 & 1 & 0 & 1 & 2 & 1 & 48 & 2 & 1 & 0 & -14.00080 & -72.57580 & 972.3802 & 479.1827 & 2016\\\\\n",
       "\t71 & 1 & 0 & 1 & 2 & 1 & 42 & 2 & 1 & 0 & -14.00080 & -72.57580 & 972.3802 & 479.1827 & 2016\\\\\n",
       "\t74 & 1 & 0 & 1 & 2 & 0 & 50 & 2 & 1 & 0 & -14.00080 & -72.57580 & 972.3802 & 479.1827 & 2016\\\\\n",
       "\t96 & 1 & 1 & 1 & 2 & 0 & 37 & 1 & 1 & 0 & -13.99538 & -72.59298 & 970.4677 & 479.7820 & 2016\\\\\n",
       "\t100 & 1 & 0 & 1 & 2 & 0 & 55 & 2 & 1 & 1 & -13.92740 & -72.48020 & 983.0224 & 487.2986 & 2016\\\\\n",
       "\t110 & 0 & 0 & 1 & 2 & 0 & 43 & 2 & 1 & 1 & -13.92740 & -72.48020 & 983.0224 & 487.2986 & 2016\\\\\n",
       "\t112 & 0 & 0 & 0 & 2 & 0 & 50 & 2 & 1 & 1 & -13.92740 & -72.48020 & 983.0224 & 487.2986 & 2016\\\\\n",
       "\t115 & 1 & 0 & 1 & 2 & 1 & 60 & 2 & 1 & 1 & -13.92740 & -72.48020 & 983.0224 & 487.2986 & 2016\\\\\n",
       "\t121 & 1 & 0 & 1 & 2 & 0 & 42 & 2 & 1 & 1 & -13.92740 & -72.48020 & 983.0224 & 487.2986 & 2016\\\\\n",
       "\t122 & 1 & 0 & 1 & 2 & 1 & 44 & 2 & 1 & 1 & -13.92740 & -72.48020 & 983.0224 & 487.2986 & 2016\\\\\n",
       "\t129 & 1 & 1 & 1 & 2 & 0 & 61 & 2 & 1 & 1 & -13.97441 & -72.52696 & 977.8171 & 482.1007 & 2016\\\\\n",
       "\t130 & 0 & 1 & 1 & 2 & 0 & 51 & 2 & 1 & 1 & -13.97441 & -72.52696 & 977.8171 & 482.1007 & 2016\\\\\n",
       "\t135 & 1 & 1 & 1 & 2 & 0 & 51 & 2 & 1 & 1 & -13.97441 & -72.52696 & 977.8171 & 482.1007 & 2016\\\\\n",
       "\t142 & 1 & 1 & 1 & 2 & 0 & 56 & 2 & 1 & 1 & -14.24810 & -72.57250 & 972.7476 & 451.8388 & 2016\\\\\n",
       "\t147 & 1 & 1 & 1 & 2 & 0 & 57 & 2 & 1 & 1 & -14.24810 & -72.57250 & 972.7476 & 451.8388 & 2016\\\\\n",
       "\t152 & 1 & 1 & 1 & 2 & 1 & 48 & 2 & 1 & 1 & -13.87260 & -72.50610 & 980.1392 & 493.3578 & 2016\\\\\n",
       "\t155 & 1 & 1 & 1 & 2 & 0 & 45 & 2 & 1 & 1 & -13.87260 & -72.50610 & 980.1392 & 493.3578 & 2016\\\\\n",
       "\t168 & 1 & 1 & 1 & 2 & 1 & 48 & 2 & 1 & 1 & -13.87260 & -72.50610 & 980.1392 & 493.3578 & 2016\\\\\n",
       "\t169 & 1 & 1 & 1 & 2 & 0 & 58 & 2 & 1 & 1 & -13.90584 & -72.52444 & 978.0976 & 489.6825 & 2016\\\\\n",
       "\t170 & 0 & 1 & 0 & 2 & 1 & 34 & 2 & 1 & 1 & -13.90584 & -72.52444 & 978.0976 & 489.6825 & 2016\\\\\n",
       "\t177 & 1 & 1 & 1 & 2 & 0 & 57 & 2 & 1 & 1 & -13.83510 & -72.56840 & 973.2040 & 497.5042 & 2016\\\\\n",
       "\t178 & 1 & 1 & 1 & 2 & 1 & 44 & 2 & 1 & 1 & -13.83510 & -72.56840 & 973.2040 & 497.5042 & 2016\\\\\n",
       "\t182 & 1 & 1 & 1 & 2 & 0 & 52 & 2 & 1 & 1 & -13.81370 & -72.56080 & 974.0500 & 499.8704 & 2016\\\\\n",
       "\t190 & 1 & 1 & 1 & 2 & 0 & 47 & 2 & 1 & 1 & -13.78590 & -72.49600 & 981.2635 & 502.9442 & 2016\\\\\n",
       "\t... & ... & ... & ... & ... & ... & ... & ... & ... & ... & ... & ... & ... & ... & ...\\\\\n",
       "\t251141 & 0 & 1 & 0 & 3 & 0 & 29 & 3 & 1 & 0 &  -4.72095 & -79.54707 &  196.3384 & 1505.2558 & 2016\\\\\n",
       "\t251147 & 0 & 1 & 0 & 3 & 0 & 41 & 3 & 1 & 0 &  -4.82832 & -80.01748 &  143.9724 & 1493.3839 & 2016\\\\\n",
       "\t251148 & 0 & 1 & 0 & 3 & 0 & 56 & 3 & 1 & 0 &  -4.82832 & -80.01748 &  143.9724 & 1493.3839 & 2016\\\\\n",
       "\t251150 & 0 & 1 & 0 & 3 & 0 & 29 & 3 & 1 & 0 &  -4.82832 & -80.01748 &  143.9724 & 1493.3839 & 2016\\\\\n",
       "\t251153 & 0 & 1 & 0 & 3 & 0 & 23 & 3 & 1 & 0 &  -6.56440 & -76.05610 &  584.9532 & 1301.4255 & 2016\\\\\n",
       "\t251158 & 0 & 1 & 0 & 1 & 1 & 34 & 1 & 1 & 1 &  -7.21170 & -78.13997 &  352.9768 & 1229.8535 & 2016\\\\\n",
       "\t251164 & 0 & 1 & 0 & 3 & 1 & 44 & 3 & 0 & 0 & -13.33272 & -74.69027 &  736.9974 &  553.0523 & 2016\\\\\n",
       "\t251165 & 0 & 1 & 0 & 3 & 0 & 36 & 3 & 0 & 0 & -13.33272 & -74.69027 &  736.9974 &  553.0523 & 2016\\\\\n",
       "\t251168 & 0 & 1 & 0 & 3 & 0 & 42 & 3 & 1 & 0 &  -8.74767 & -77.33960 &  442.0740 & 1060.0213 & 2016\\\\\n",
       "\t251173 & 0 & 1 & 0 & 3 & 0 & 47 & 3 & 1 & 0 &  -8.74767 & -77.33960 &  442.0740 & 1060.0213 & 2016\\\\\n",
       "\t251175 & 0 & 1 & 0 & 3 & 0 & 31 & 3 & 0 & 0 &  -4.34440 & -77.69887 &  402.0800 & 1546.8909 & 2016\\\\\n",
       "\t251178 & 0 & 1 & 0 & 3 & 0 & 38 & 3 & 0 & 0 &  -4.34440 & -77.69887 &  402.0800 & 1546.8909 & 2016\\\\\n",
       "\t251190 & 0 & 1 & 0 & 3 & 0 & 40 & 3 & 0 & 0 &  -4.34440 & -77.69887 &  402.0800 & 1546.8909 & 2016\\\\\n",
       "\t251193 & 1 & 1 & 0 & 3 & 0 & 27 & 3 & 0 & 0 &  -4.34440 & -77.69887 &  402.0800 & 1546.8909 & 2016\\\\\n",
       "\t251194 & 0 & 1 & 0 & 3 & 0 & 34 & 3 & 1 & 0 &  -4.71318 & -77.89439 &  380.3148 & 1506.1149 & 2016\\\\\n",
       "\t251195 & 0 & 1 & 0 & 3 & 0 & 34 & 3 & 1 & 0 &  -4.71318 & -77.89439 &  380.3148 & 1506.1149 & 2016\\\\\n",
       "\t251196 & 0 & 1 & 0 & 3 & 0 & 44 & 3 & 1 & 0 &  -4.71318 & -77.89439 &  380.3148 & 1506.1149 & 2016\\\\\n",
       "\t251203 & 1 & 1 & 0 & 3 & 0 & 32 & 3 & 1 & 0 &  -4.71318 & -77.89439 &  380.3148 & 1506.1149 & 2016\\\\\n",
       "\t251205 & 1 & 1 & 0 & 3 & 0 & 26 & 3 & 1 & 0 &  -4.04788 & -77.86178 &  383.9449 & 1579.6771 & 2016\\\\\n",
       "\t251206 & 0 & 1 & 0 & 3 & 0 & 38 & 3 & 1 & 0 &  -4.04788 & -77.86178 &  383.9449 & 1579.6771 & 2016\\\\\n",
       "\t251210 & 0 & 1 & 0 & 3 & 0 & 26 & 3 & 1 & 0 &  -4.04788 & -77.86178 &  383.9449 & 1579.6771 & 2016\\\\\n",
       "\t251214 & 0 & 1 & 0 & 3 & 0 & 37 & 3 & 1 & 0 &  -8.41776 & -78.32431 &  332.4561 & 1096.4995 & 2016\\\\\n",
       "\t251216 & 0 & 1 & 0 & 3 & 1 & 40 & 3 & 1 & 0 &  -8.41776 & -78.32431 &  332.4561 & 1096.4995 & 2016\\\\\n",
       "\t251218 & 0 & 1 & 0 & 3 & 0 & 34 & 3 & 1 & 0 &  -8.41776 & -78.32431 &  332.4561 & 1096.4995 & 2016\\\\\n",
       "\t251240 & 0 & 1 & 0 & 2 & 0 & 27 & 3 & 0 & 0 & -11.09603 & -74.99964 &  702.5583 &  800.3632 & 2016\\\\\n",
       "\t251249 & 0 & 1 & 0 & 2 & 1 & 33 & 3 & 0 & 0 & -10.45439 & -74.03034 &  810.4608 &  871.3093 & 2016\\\\\n",
       "\t251250 & 0 & 1 & 1 & 2 & 0 & 51 & 3 & 0 & 0 & -10.45439 & -74.03034 &  810.4608 &  871.3093 & 2016\\\\\n",
       "\t251256 & 0 & 1 & 0 & 3 & 1 & 42 & 3 & 1 & 0 & -16.09626 & -70.73082 & 1177.7634 &  247.4877 & 2016\\\\\n",
       "\t251259 & 0 & 1 & 0 & 3 & 1 & 46 & 3 & 1 & 0 & -16.09626 & -70.73082 & 1177.7634 &  247.4877 & 2016\\\\\n",
       "\t251282 & 0 & 0 & 0 & 2 & 1 & 29 & 3 & 1 & 0 & -13.68835 & -71.28724 & 1115.8227 &  513.7303 & 2016\\\\\n",
       "\\end{tabular}\n"
      ],
      "text/markdown": [
       "\n",
       "A data.frame: 51170 × 14\n",
       "\n",
       "| <!--/--> | stay &lt;dbl&gt; | treat12 &lt;dbl&gt; | tenured &lt;dbl&gt; | level &lt;fct&gt; | sex &lt;dbl+lbl&gt; | age &lt;dbl&gt; | clasification &lt;fct&gt; | cpelec &lt;dbl&gt; | cpwater &lt;dbl&gt; | nlat_ie &lt;dbl&gt; | nlong_ie &lt;dbl&gt; | x_dim &lt;dbl&gt; | y_dim &lt;dbl&gt; | ano &lt;dbl&gt; |\n",
       "|---|---|---|---|---|---|---|---|---|---|---|---|---|---|---|\n",
       "| 31 | 1 | 0 | 1 | 2 | 1 | 61 | 1 | 1 | 0 | -14.16780 | -72.79500 | 947.9789 | 460.7175 | 2016 |\n",
       "| 33 | 1 | 0 | 1 | 2 | 0 | 61 | 2 | 1 | 1 | -14.14340 | -72.73650 | 954.4911 | 463.4155 | 2016 |\n",
       "| 35 | 1 | 0 | 1 | 2 | 1 | 51 | 2 | 1 | 1 | -14.14340 | -72.73650 | 954.4911 | 463.4155 | 2016 |\n",
       "| 37 | 1 | 0 | 1 | 2 | 0 | 56 | 2 | 1 | 1 | -14.14340 | -72.73650 | 954.4911 | 463.4155 | 2016 |\n",
       "| 46 | 0 | 0 | 1 | 2 | 1 | 58 | 2 | 1 | 1 | -14.19309 | -72.79635 | 947.8286 | 457.9212 | 2016 |\n",
       "| 50 | 1 | 0 | 1 | 2 | 0 | 64 | 2 | 1 | 1 | -14.19309 | -72.79635 | 947.8286 | 457.9212 | 2016 |\n",
       "| 70 | 1 | 0 | 1 | 2 | 1 | 48 | 2 | 1 | 0 | -14.00080 | -72.57580 | 972.3802 | 479.1827 | 2016 |\n",
       "| 71 | 1 | 0 | 1 | 2 | 1 | 42 | 2 | 1 | 0 | -14.00080 | -72.57580 | 972.3802 | 479.1827 | 2016 |\n",
       "| 74 | 1 | 0 | 1 | 2 | 0 | 50 | 2 | 1 | 0 | -14.00080 | -72.57580 | 972.3802 | 479.1827 | 2016 |\n",
       "| 96 | 1 | 1 | 1 | 2 | 0 | 37 | 1 | 1 | 0 | -13.99538 | -72.59298 | 970.4677 | 479.7820 | 2016 |\n",
       "| 100 | 1 | 0 | 1 | 2 | 0 | 55 | 2 | 1 | 1 | -13.92740 | -72.48020 | 983.0224 | 487.2986 | 2016 |\n",
       "| 110 | 0 | 0 | 1 | 2 | 0 | 43 | 2 | 1 | 1 | -13.92740 | -72.48020 | 983.0224 | 487.2986 | 2016 |\n",
       "| 112 | 0 | 0 | 0 | 2 | 0 | 50 | 2 | 1 | 1 | -13.92740 | -72.48020 | 983.0224 | 487.2986 | 2016 |\n",
       "| 115 | 1 | 0 | 1 | 2 | 1 | 60 | 2 | 1 | 1 | -13.92740 | -72.48020 | 983.0224 | 487.2986 | 2016 |\n",
       "| 121 | 1 | 0 | 1 | 2 | 0 | 42 | 2 | 1 | 1 | -13.92740 | -72.48020 | 983.0224 | 487.2986 | 2016 |\n",
       "| 122 | 1 | 0 | 1 | 2 | 1 | 44 | 2 | 1 | 1 | -13.92740 | -72.48020 | 983.0224 | 487.2986 | 2016 |\n",
       "| 129 | 1 | 1 | 1 | 2 | 0 | 61 | 2 | 1 | 1 | -13.97441 | -72.52696 | 977.8171 | 482.1007 | 2016 |\n",
       "| 130 | 0 | 1 | 1 | 2 | 0 | 51 | 2 | 1 | 1 | -13.97441 | -72.52696 | 977.8171 | 482.1007 | 2016 |\n",
       "| 135 | 1 | 1 | 1 | 2 | 0 | 51 | 2 | 1 | 1 | -13.97441 | -72.52696 | 977.8171 | 482.1007 | 2016 |\n",
       "| 142 | 1 | 1 | 1 | 2 | 0 | 56 | 2 | 1 | 1 | -14.24810 | -72.57250 | 972.7476 | 451.8388 | 2016 |\n",
       "| 147 | 1 | 1 | 1 | 2 | 0 | 57 | 2 | 1 | 1 | -14.24810 | -72.57250 | 972.7476 | 451.8388 | 2016 |\n",
       "| 152 | 1 | 1 | 1 | 2 | 1 | 48 | 2 | 1 | 1 | -13.87260 | -72.50610 | 980.1392 | 493.3578 | 2016 |\n",
       "| 155 | 1 | 1 | 1 | 2 | 0 | 45 | 2 | 1 | 1 | -13.87260 | -72.50610 | 980.1392 | 493.3578 | 2016 |\n",
       "| 168 | 1 | 1 | 1 | 2 | 1 | 48 | 2 | 1 | 1 | -13.87260 | -72.50610 | 980.1392 | 493.3578 | 2016 |\n",
       "| 169 | 1 | 1 | 1 | 2 | 0 | 58 | 2 | 1 | 1 | -13.90584 | -72.52444 | 978.0976 | 489.6825 | 2016 |\n",
       "| 170 | 0 | 1 | 0 | 2 | 1 | 34 | 2 | 1 | 1 | -13.90584 | -72.52444 | 978.0976 | 489.6825 | 2016 |\n",
       "| 177 | 1 | 1 | 1 | 2 | 0 | 57 | 2 | 1 | 1 | -13.83510 | -72.56840 | 973.2040 | 497.5042 | 2016 |\n",
       "| 178 | 1 | 1 | 1 | 2 | 1 | 44 | 2 | 1 | 1 | -13.83510 | -72.56840 | 973.2040 | 497.5042 | 2016 |\n",
       "| 182 | 1 | 1 | 1 | 2 | 0 | 52 | 2 | 1 | 1 | -13.81370 | -72.56080 | 974.0500 | 499.8704 | 2016 |\n",
       "| 190 | 1 | 1 | 1 | 2 | 0 | 47 | 2 | 1 | 1 | -13.78590 | -72.49600 | 981.2635 | 502.9442 | 2016 |\n",
       "| ... | ... | ... | ... | ... | ... | ... | ... | ... | ... | ... | ... | ... | ... | ... |\n",
       "| 251141 | 0 | 1 | 0 | 3 | 0 | 29 | 3 | 1 | 0 |  -4.72095 | -79.54707 |  196.3384 | 1505.2558 | 2016 |\n",
       "| 251147 | 0 | 1 | 0 | 3 | 0 | 41 | 3 | 1 | 0 |  -4.82832 | -80.01748 |  143.9724 | 1493.3839 | 2016 |\n",
       "| 251148 | 0 | 1 | 0 | 3 | 0 | 56 | 3 | 1 | 0 |  -4.82832 | -80.01748 |  143.9724 | 1493.3839 | 2016 |\n",
       "| 251150 | 0 | 1 | 0 | 3 | 0 | 29 | 3 | 1 | 0 |  -4.82832 | -80.01748 |  143.9724 | 1493.3839 | 2016 |\n",
       "| 251153 | 0 | 1 | 0 | 3 | 0 | 23 | 3 | 1 | 0 |  -6.56440 | -76.05610 |  584.9532 | 1301.4255 | 2016 |\n",
       "| 251158 | 0 | 1 | 0 | 1 | 1 | 34 | 1 | 1 | 1 |  -7.21170 | -78.13997 |  352.9768 | 1229.8535 | 2016 |\n",
       "| 251164 | 0 | 1 | 0 | 3 | 1 | 44 | 3 | 0 | 0 | -13.33272 | -74.69027 |  736.9974 |  553.0523 | 2016 |\n",
       "| 251165 | 0 | 1 | 0 | 3 | 0 | 36 | 3 | 0 | 0 | -13.33272 | -74.69027 |  736.9974 |  553.0523 | 2016 |\n",
       "| 251168 | 0 | 1 | 0 | 3 | 0 | 42 | 3 | 1 | 0 |  -8.74767 | -77.33960 |  442.0740 | 1060.0213 | 2016 |\n",
       "| 251173 | 0 | 1 | 0 | 3 | 0 | 47 | 3 | 1 | 0 |  -8.74767 | -77.33960 |  442.0740 | 1060.0213 | 2016 |\n",
       "| 251175 | 0 | 1 | 0 | 3 | 0 | 31 | 3 | 0 | 0 |  -4.34440 | -77.69887 |  402.0800 | 1546.8909 | 2016 |\n",
       "| 251178 | 0 | 1 | 0 | 3 | 0 | 38 | 3 | 0 | 0 |  -4.34440 | -77.69887 |  402.0800 | 1546.8909 | 2016 |\n",
       "| 251190 | 0 | 1 | 0 | 3 | 0 | 40 | 3 | 0 | 0 |  -4.34440 | -77.69887 |  402.0800 | 1546.8909 | 2016 |\n",
       "| 251193 | 1 | 1 | 0 | 3 | 0 | 27 | 3 | 0 | 0 |  -4.34440 | -77.69887 |  402.0800 | 1546.8909 | 2016 |\n",
       "| 251194 | 0 | 1 | 0 | 3 | 0 | 34 | 3 | 1 | 0 |  -4.71318 | -77.89439 |  380.3148 | 1506.1149 | 2016 |\n",
       "| 251195 | 0 | 1 | 0 | 3 | 0 | 34 | 3 | 1 | 0 |  -4.71318 | -77.89439 |  380.3148 | 1506.1149 | 2016 |\n",
       "| 251196 | 0 | 1 | 0 | 3 | 0 | 44 | 3 | 1 | 0 |  -4.71318 | -77.89439 |  380.3148 | 1506.1149 | 2016 |\n",
       "| 251203 | 1 | 1 | 0 | 3 | 0 | 32 | 3 | 1 | 0 |  -4.71318 | -77.89439 |  380.3148 | 1506.1149 | 2016 |\n",
       "| 251205 | 1 | 1 | 0 | 3 | 0 | 26 | 3 | 1 | 0 |  -4.04788 | -77.86178 |  383.9449 | 1579.6771 | 2016 |\n",
       "| 251206 | 0 | 1 | 0 | 3 | 0 | 38 | 3 | 1 | 0 |  -4.04788 | -77.86178 |  383.9449 | 1579.6771 | 2016 |\n",
       "| 251210 | 0 | 1 | 0 | 3 | 0 | 26 | 3 | 1 | 0 |  -4.04788 | -77.86178 |  383.9449 | 1579.6771 | 2016 |\n",
       "| 251214 | 0 | 1 | 0 | 3 | 0 | 37 | 3 | 1 | 0 |  -8.41776 | -78.32431 |  332.4561 | 1096.4995 | 2016 |\n",
       "| 251216 | 0 | 1 | 0 | 3 | 1 | 40 | 3 | 1 | 0 |  -8.41776 | -78.32431 |  332.4561 | 1096.4995 | 2016 |\n",
       "| 251218 | 0 | 1 | 0 | 3 | 0 | 34 | 3 | 1 | 0 |  -8.41776 | -78.32431 |  332.4561 | 1096.4995 | 2016 |\n",
       "| 251240 | 0 | 1 | 0 | 2 | 0 | 27 | 3 | 0 | 0 | -11.09603 | -74.99964 |  702.5583 |  800.3632 | 2016 |\n",
       "| 251249 | 0 | 1 | 0 | 2 | 1 | 33 | 3 | 0 | 0 | -10.45439 | -74.03034 |  810.4608 |  871.3093 | 2016 |\n",
       "| 251250 | 0 | 1 | 1 | 2 | 0 | 51 | 3 | 0 | 0 | -10.45439 | -74.03034 |  810.4608 |  871.3093 | 2016 |\n",
       "| 251256 | 0 | 1 | 0 | 3 | 1 | 42 | 3 | 1 | 0 | -16.09626 | -70.73082 | 1177.7634 |  247.4877 | 2016 |\n",
       "| 251259 | 0 | 1 | 0 | 3 | 1 | 46 | 3 | 1 | 0 | -16.09626 | -70.73082 | 1177.7634 |  247.4877 | 2016 |\n",
       "| 251282 | 0 | 0 | 0 | 2 | 1 | 29 | 3 | 1 | 0 | -13.68835 | -71.28724 | 1115.8227 |  513.7303 | 2016 |\n",
       "\n"
      ],
      "text/plain": [
       "       stay treat12 tenured level sex age clasification cpelec cpwater\n",
       "31     1    0       1       2     1   61  1             1      0      \n",
       "33     1    0       1       2     0   61  2             1      1      \n",
       "35     1    0       1       2     1   51  2             1      1      \n",
       "37     1    0       1       2     0   56  2             1      1      \n",
       "46     0    0       1       2     1   58  2             1      1      \n",
       "50     1    0       1       2     0   64  2             1      1      \n",
       "70     1    0       1       2     1   48  2             1      0      \n",
       "71     1    0       1       2     1   42  2             1      0      \n",
       "74     1    0       1       2     0   50  2             1      0      \n",
       "96     1    1       1       2     0   37  1             1      0      \n",
       "100    1    0       1       2     0   55  2             1      1      \n",
       "110    0    0       1       2     0   43  2             1      1      \n",
       "112    0    0       0       2     0   50  2             1      1      \n",
       "115    1    0       1       2     1   60  2             1      1      \n",
       "121    1    0       1       2     0   42  2             1      1      \n",
       "122    1    0       1       2     1   44  2             1      1      \n",
       "129    1    1       1       2     0   61  2             1      1      \n",
       "130    0    1       1       2     0   51  2             1      1      \n",
       "135    1    1       1       2     0   51  2             1      1      \n",
       "142    1    1       1       2     0   56  2             1      1      \n",
       "147    1    1       1       2     0   57  2             1      1      \n",
       "152    1    1       1       2     1   48  2             1      1      \n",
       "155    1    1       1       2     0   45  2             1      1      \n",
       "168    1    1       1       2     1   48  2             1      1      \n",
       "169    1    1       1       2     0   58  2             1      1      \n",
       "170    0    1       0       2     1   34  2             1      1      \n",
       "177    1    1       1       2     0   57  2             1      1      \n",
       "178    1    1       1       2     1   44  2             1      1      \n",
       "182    1    1       1       2     0   52  2             1      1      \n",
       "190    1    1       1       2     0   47  2             1      1      \n",
       "...    ...  ...     ...     ...   ... ... ...           ...    ...    \n",
       "251141 0    1       0       3     0   29  3             1      0      \n",
       "251147 0    1       0       3     0   41  3             1      0      \n",
       "251148 0    1       0       3     0   56  3             1      0      \n",
       "251150 0    1       0       3     0   29  3             1      0      \n",
       "251153 0    1       0       3     0   23  3             1      0      \n",
       "251158 0    1       0       1     1   34  1             1      1      \n",
       "251164 0    1       0       3     1   44  3             0      0      \n",
       "251165 0    1       0       3     0   36  3             0      0      \n",
       "251168 0    1       0       3     0   42  3             1      0      \n",
       "251173 0    1       0       3     0   47  3             1      0      \n",
       "251175 0    1       0       3     0   31  3             0      0      \n",
       "251178 0    1       0       3     0   38  3             0      0      \n",
       "251190 0    1       0       3     0   40  3             0      0      \n",
       "251193 1    1       0       3     0   27  3             0      0      \n",
       "251194 0    1       0       3     0   34  3             1      0      \n",
       "251195 0    1       0       3     0   34  3             1      0      \n",
       "251196 0    1       0       3     0   44  3             1      0      \n",
       "251203 1    1       0       3     0   32  3             1      0      \n",
       "251205 1    1       0       3     0   26  3             1      0      \n",
       "251206 0    1       0       3     0   38  3             1      0      \n",
       "251210 0    1       0       3     0   26  3             1      0      \n",
       "251214 0    1       0       3     0   37  3             1      0      \n",
       "251216 0    1       0       3     1   40  3             1      0      \n",
       "251218 0    1       0       3     0   34  3             1      0      \n",
       "251240 0    1       0       2     0   27  3             0      0      \n",
       "251249 0    1       0       2     1   33  3             0      0      \n",
       "251250 0    1       1       2     0   51  3             0      0      \n",
       "251256 0    1       0       3     1   42  3             1      0      \n",
       "251259 0    1       0       3     1   46  3             1      0      \n",
       "251282 0    0       0       2     1   29  3             1      0      \n",
       "       nlat_ie   nlong_ie  x_dim     y_dim     ano \n",
       "31     -14.16780 -72.79500 947.9789  460.7175  2016\n",
       "33     -14.14340 -72.73650 954.4911  463.4155  2016\n",
       "35     -14.14340 -72.73650 954.4911  463.4155  2016\n",
       "37     -14.14340 -72.73650 954.4911  463.4155  2016\n",
       "46     -14.19309 -72.79635 947.8286  457.9212  2016\n",
       "50     -14.19309 -72.79635 947.8286  457.9212  2016\n",
       "70     -14.00080 -72.57580 972.3802  479.1827  2016\n",
       "71     -14.00080 -72.57580 972.3802  479.1827  2016\n",
       "74     -14.00080 -72.57580 972.3802  479.1827  2016\n",
       "96     -13.99538 -72.59298 970.4677  479.7820  2016\n",
       "100    -13.92740 -72.48020 983.0224  487.2986  2016\n",
       "110    -13.92740 -72.48020 983.0224  487.2986  2016\n",
       "112    -13.92740 -72.48020 983.0224  487.2986  2016\n",
       "115    -13.92740 -72.48020 983.0224  487.2986  2016\n",
       "121    -13.92740 -72.48020 983.0224  487.2986  2016\n",
       "122    -13.92740 -72.48020 983.0224  487.2986  2016\n",
       "129    -13.97441 -72.52696 977.8171  482.1007  2016\n",
       "130    -13.97441 -72.52696 977.8171  482.1007  2016\n",
       "135    -13.97441 -72.52696 977.8171  482.1007  2016\n",
       "142    -14.24810 -72.57250 972.7476  451.8388  2016\n",
       "147    -14.24810 -72.57250 972.7476  451.8388  2016\n",
       "152    -13.87260 -72.50610 980.1392  493.3578  2016\n",
       "155    -13.87260 -72.50610 980.1392  493.3578  2016\n",
       "168    -13.87260 -72.50610 980.1392  493.3578  2016\n",
       "169    -13.90584 -72.52444 978.0976  489.6825  2016\n",
       "170    -13.90584 -72.52444 978.0976  489.6825  2016\n",
       "177    -13.83510 -72.56840 973.2040  497.5042  2016\n",
       "178    -13.83510 -72.56840 973.2040  497.5042  2016\n",
       "182    -13.81370 -72.56080 974.0500  499.8704  2016\n",
       "190    -13.78590 -72.49600 981.2635  502.9442  2016\n",
       "...    ...       ...       ...       ...       ... \n",
       "251141  -4.72095 -79.54707  196.3384 1505.2558 2016\n",
       "251147  -4.82832 -80.01748  143.9724 1493.3839 2016\n",
       "251148  -4.82832 -80.01748  143.9724 1493.3839 2016\n",
       "251150  -4.82832 -80.01748  143.9724 1493.3839 2016\n",
       "251153  -6.56440 -76.05610  584.9532 1301.4255 2016\n",
       "251158  -7.21170 -78.13997  352.9768 1229.8535 2016\n",
       "251164 -13.33272 -74.69027  736.9974  553.0523 2016\n",
       "251165 -13.33272 -74.69027  736.9974  553.0523 2016\n",
       "251168  -8.74767 -77.33960  442.0740 1060.0213 2016\n",
       "251173  -8.74767 -77.33960  442.0740 1060.0213 2016\n",
       "251175  -4.34440 -77.69887  402.0800 1546.8909 2016\n",
       "251178  -4.34440 -77.69887  402.0800 1546.8909 2016\n",
       "251190  -4.34440 -77.69887  402.0800 1546.8909 2016\n",
       "251193  -4.34440 -77.69887  402.0800 1546.8909 2016\n",
       "251194  -4.71318 -77.89439  380.3148 1506.1149 2016\n",
       "251195  -4.71318 -77.89439  380.3148 1506.1149 2016\n",
       "251196  -4.71318 -77.89439  380.3148 1506.1149 2016\n",
       "251203  -4.71318 -77.89439  380.3148 1506.1149 2016\n",
       "251205  -4.04788 -77.86178  383.9449 1579.6771 2016\n",
       "251206  -4.04788 -77.86178  383.9449 1579.6771 2016\n",
       "251210  -4.04788 -77.86178  383.9449 1579.6771 2016\n",
       "251214  -8.41776 -78.32431  332.4561 1096.4995 2016\n",
       "251216  -8.41776 -78.32431  332.4561 1096.4995 2016\n",
       "251218  -8.41776 -78.32431  332.4561 1096.4995 2016\n",
       "251240 -11.09603 -74.99964  702.5583  800.3632 2016\n",
       "251249 -10.45439 -74.03034  810.4608  871.3093 2016\n",
       "251250 -10.45439 -74.03034  810.4608  871.3093 2016\n",
       "251256 -16.09626 -70.73082 1177.7634  247.4877 2016\n",
       "251259 -16.09626 -70.73082 1177.7634  247.4877 2016\n",
       "251282 -13.68835 -71.28724 1115.8227  513.7303 2016"
      ]
     },
     "metadata": {},
     "output_type": "display_data"
    }
   ],
   "source": [
    "data_clean_2016"
   ]
  },
  {
   "cell_type": "code",
   "execution_count": 255,
   "id": "146bbd91",
   "metadata": {},
   "outputs": [],
   "source": [
    "# # Dividing data into three subsets\n",
    "# indices <- split(seq(nrow(data_clean_2016)), sort(seq(nrow(data_clean_2016)) %% 3))\n",
    "# names(indices) <- c('split', 'est', 'test')"
   ]
  },
  {
   "cell_type": "code",
   "execution_count": 344,
   "id": "ca273671",
   "metadata": {},
   "outputs": [],
   "source": [
    "# fmla <- formula(stay ~  tenured + sex + age + \n",
    "#                         factor(level) + factor(clasification)\n",
    "#                         + cpelec + cpwater )\n",
    "\n",
    "# # Fitting the forest\n",
    "# ct.unpruned <- honest.causalTree(\n",
    "#   formula=fmla,            # Define the model\n",
    "#   data=data_clean_2016[indices$split,],\n",
    "#   treatment=data_clean_2016[indices$split, treatment],\n",
    "#   est_data=data_clean_2016[indices$est,],\n",
    "#   est_treatment=data_clean_2016[indices$est, treatment],\n",
    "#   minsize=1,                 # Min. number of treatment and control cases in each leaf\n",
    "#   HonestSampleSize=length(indices$est), #  Num obs used in estimation after splitting\n",
    "#   # We recommend not changing the parameters below\n",
    "#   split.Rule=\"CT\",            # Define the splitting option\n",
    "#   cv.option=\"TOT\",            # Cross validation options\n",
    "#   cp=0,                       # Complexity parameter\n",
    "#   split.Honest=TRUE,          # Use honesty when splitting\n",
    "#   cv.Honest=TRUE              # Use honesty when performing cross-validation\n",
    "# )\n",
    "\n",
    "# # Table of cross-validated values by tuning parameter.\n",
    "# ct.cptable <- as.data.frame(ct.unpruned$cptable)\n",
    "\n",
    "# # Obtain optimal complexity parameter to prune tree.\n",
    "# cp.selected <- which.min(ct.cptable$xerror)\n",
    "# cp.optimal <- ct.cptable[cp.selected, \"CP\"]\n",
    "\n",
    "# # Prune the tree at optimal complexity parameter.\n",
    "# ct.pruned <- prune(tree=ct.unpruned, cp=cp.optimal)\n",
    "\n",
    "# # Predict point estimates (on estimation sample)\n",
    "# tau.hat.est <- predict(ct.pruned, newdata=data_clean_2016[indices$est,])\n",
    "\n",
    "# # Create a factor column 'leaf' indicating leaf assignment in the estimation set\n",
    "# num.leaves <- length(unique(tau.hat.est))\n",
    "# leaf <- factor(tau.hat.est, levels=sort(unique(tau.hat.est)), labels = seq(num.leaves))\n",
    "\n",
    "# rpart.plot(\n",
    "#   x=ct.pruned,        # Pruned tree\n",
    "#   type=3,             # Draw separate split labels for the left and right directions\n",
    "#   fallen=TRUE,        # Position the leaf nodes at the bottom of the graph\n",
    "#   leaf.round=1,       # Rounding of the corners of the leaf node boxes\n",
    "#   extra=100,          # Display the percentage of observations in the node\n",
    "#   branch=.1,          # Shape of the branch lines\n",
    "#   box.palette=\"RdBu\") # Palette for coloring the node"
   ]
  },
  {
   "cell_type": "code",
   "execution_count": 192,
   "id": "b6be4695",
   "metadata": {},
   "outputs": [],
   "source": [
    "# Assuming discontinuity generates RCT"
   ]
  },
  {
   "cell_type": "code",
   "execution_count": 221,
   "id": "d4aff1f6",
   "metadata": {},
   "outputs": [],
   "source": [
    "# Auxiliary function to computes adjusted p-values \n",
    "# following the Romano-Wolf method.\n",
    "# For a reference, see http://ftp.iza.org/dp12845.pdf page 8\n",
    "#  t.orig: vector of t-statistics from original model\n",
    "#  t.boot: matrix of t-statistics from bootstrapped models\n",
    "romano_wolf_correction <- function(t.orig, t.boot) {\n",
    "  abs.t.orig <- abs(t.orig)\n",
    "  abs.t.boot <- abs(t.boot)\n",
    "  abs.t.sorted <- sort(abs.t.orig, decreasing = TRUE)\n",
    "\n",
    "  max.order <- order(abs.t.orig, decreasing = TRUE)\n",
    "  rev.order <- order(max.order)\n",
    "\n",
    "  M <- nrow(t.boot)\n",
    "  S <- ncol(t.boot)\n",
    "\n",
    "  p.adj <- rep(0, S)\n",
    "  p.adj[1] <- mean(apply(abs.t.boot, 1, max) > abs.t.sorted[1])\n",
    "  for (s in seq(2, S)) {\n",
    "    cur.index <- max.order[s:S]\n",
    "    p.init <- mean(apply(abs.t.boot[, cur.index, drop=FALSE], 1, max) > abs.t.sorted[s])\n",
    "    p.adj[s] <- max(p.init, p.adj[s-1])\n",
    "  }\n",
    "  p.adj[rev.order]\n",
    "}\n",
    "\n",
    "# Computes adjusted p-values for linear regression (lm) models.\n",
    "#    model: object of lm class (i.e., a linear reg model)\n",
    "#    indices: vector of integers for the coefficients that will be tested\n",
    "#    cov.type: type of standard error (to be passed to sandwich::vcovHC)\n",
    "#    num.boot: number of null bootstrap samples. Increase to stabilize across runs.\n",
    "# Note: results are probabilitistic and may change slightly at every run. \n",
    "#\n",
    "# Adapted from the p_adjust from from the hdm package, written by Philipp Bach.\n",
    "# https://github.com/PhilippBach/hdm_prev/blob/master/R/p_adjust.R\n",
    "summary_rw_lm <- function(model, indices=NULL, cov.type=\"HC2\", num.boot=10000) {\n",
    "\n",
    "  if (is.null(indices)) {\n",
    "    indices <- 1:nrow(coef(summary(model)))\n",
    "  }\n",
    "  # Grab the original t values.\n",
    "  summary <- coef(summary(model))[indices,,drop=FALSE]\n",
    "  t.orig <- summary[, \"t value\"]\n",
    "\n",
    "  # Null resampling.\n",
    "  # This is a trick to speed up bootstrapping linear models.\n",
    "  # Here, we don't really need to re-fit linear regressions, which would be a bit slow.\n",
    "  # We know that betahat ~ N(beta, Sigma), and we have an estimate Sigmahat.\n",
    "  # So we can approximate \"null t-values\" by\n",
    "  #  - Draw beta.boot ~ N(0, Sigma-hat) --- note the 0 here, this is what makes it a *null* t-value.\n",
    "  #  - Compute t.boot = beta.boot / sqrt(diag(Sigma.hat))\n",
    "  Sigma.hat <- vcovHC(model, type=cov.type)[indices, indices]\n",
    "  se.orig <- sqrt(diag(Sigma.hat))\n",
    "  num.coef <- length(se.orig)\n",
    "  beta.boot <- mvrnorm(n=num.boot, mu=rep(0, num.coef), Sigma=Sigma.hat)\n",
    "  t.boot <- sweep(beta.boot, 2, se.orig, \"/\")\n",
    "  p.adj <- romano_wolf_correction(t.orig, t.boot)\n",
    "\n",
    "  result <- cbind(summary[,c(1,2,4),drop=F], p.adj)\n",
    "  colnames(result) <- c('Estimate', 'Std. Error', 'Orig. p-value', 'Adj. p-value')\n",
    "  result\n",
    "}"
   ]
  },
  {
   "cell_type": "code",
   "execution_count": 222,
   "id": "556224e6",
   "metadata": {},
   "outputs": [
    {
     "data": {
      "text/html": [
       "<table class=\"dataframe\">\n",
       "<caption>A matrix: 8 × 4 of type dbl</caption>\n",
       "<thead>\n",
       "\t<tr><th></th><th scope=col>Estimate</th><th scope=col>Std. Error</th><th scope=col>Orig. p-value</th><th scope=col>Adj. p-value</th></tr>\n",
       "</thead>\n",
       "<tbody>\n",
       "\t<tr><th scope=row>treat12:leaf2</th><td>0.04072883</td><td>0.01182084</td><td>5.704043e-04</td><td>0.0012</td></tr>\n",
       "\t<tr><th scope=row>treat12:leaf3</th><td>0.05738517</td><td>0.02129724</td><td>7.051787e-03</td><td>0.0060</td></tr>\n",
       "\t<tr><th scope=row>treat12:leaf4</th><td>0.06006751</td><td>0.01923481</td><td>1.791984e-03</td><td>0.0028</td></tr>\n",
       "\t<tr><th scope=row>treat12:leaf5</th><td>0.11523462</td><td>0.01697153</td><td>1.133560e-11</td><td>0.0000</td></tr>\n",
       "\t<tr><th scope=row>treat12:leaf6</th><td>0.12835512</td><td>0.01266306</td><td>4.006649e-24</td><td>0.0000</td></tr>\n",
       "\t<tr><th scope=row>treat12:leaf7</th><td>0.14007956</td><td>0.02479708</td><td>1.621405e-08</td><td>0.0000</td></tr>\n",
       "\t<tr><th scope=row>treat12:leaf8</th><td>0.14244341</td><td>0.02613091</td><td>5.025883e-08</td><td>0.0000</td></tr>\n",
       "\t<tr><th scope=row>treat12:leaf9</th><td>0.15301739</td><td>0.01527962</td><td>1.378796e-23</td><td>0.0000</td></tr>\n",
       "</tbody>\n",
       "</table>\n"
      ],
      "text/latex": [
       "A matrix: 8 × 4 of type dbl\n",
       "\\begin{tabular}{r|llll}\n",
       "  & Estimate & Std. Error & Orig. p-value & Adj. p-value\\\\\n",
       "\\hline\n",
       "\ttreat12:leaf2 & 0.04072883 & 0.01182084 & 5.704043e-04 & 0.0012\\\\\n",
       "\ttreat12:leaf3 & 0.05738517 & 0.02129724 & 7.051787e-03 & 0.0060\\\\\n",
       "\ttreat12:leaf4 & 0.06006751 & 0.01923481 & 1.791984e-03 & 0.0028\\\\\n",
       "\ttreat12:leaf5 & 0.11523462 & 0.01697153 & 1.133560e-11 & 0.0000\\\\\n",
       "\ttreat12:leaf6 & 0.12835512 & 0.01266306 & 4.006649e-24 & 0.0000\\\\\n",
       "\ttreat12:leaf7 & 0.14007956 & 0.02479708 & 1.621405e-08 & 0.0000\\\\\n",
       "\ttreat12:leaf8 & 0.14244341 & 0.02613091 & 5.025883e-08 & 0.0000\\\\\n",
       "\ttreat12:leaf9 & 0.15301739 & 0.01527962 & 1.378796e-23 & 0.0000\\\\\n",
       "\\end{tabular}\n"
      ],
      "text/markdown": [
       "\n",
       "A matrix: 8 × 4 of type dbl\n",
       "\n",
       "| <!--/--> | Estimate | Std. Error | Orig. p-value | Adj. p-value |\n",
       "|---|---|---|---|---|\n",
       "| treat12:leaf2 | 0.04072883 | 0.01182084 | 5.704043e-04 | 0.0012 |\n",
       "| treat12:leaf3 | 0.05738517 | 0.02129724 | 7.051787e-03 | 0.0060 |\n",
       "| treat12:leaf4 | 0.06006751 | 0.01923481 | 1.791984e-03 | 0.0028 |\n",
       "| treat12:leaf5 | 0.11523462 | 0.01697153 | 1.133560e-11 | 0.0000 |\n",
       "| treat12:leaf6 | 0.12835512 | 0.01266306 | 4.006649e-24 | 0.0000 |\n",
       "| treat12:leaf7 | 0.14007956 | 0.02479708 | 1.621405e-08 | 0.0000 |\n",
       "| treat12:leaf8 | 0.14244341 | 0.02613091 | 5.025883e-08 | 0.0000 |\n",
       "| treat12:leaf9 | 0.15301739 | 0.01527962 | 1.378796e-23 | 0.0000 |\n",
       "\n"
      ],
      "text/plain": [
       "              Estimate   Std. Error Orig. p-value Adj. p-value\n",
       "treat12:leaf2 0.04072883 0.01182084 5.704043e-04  0.0012      \n",
       "treat12:leaf3 0.05738517 0.02129724 7.051787e-03  0.0060      \n",
       "treat12:leaf4 0.06006751 0.01923481 1.791984e-03  0.0028      \n",
       "treat12:leaf5 0.11523462 0.01697153 1.133560e-11  0.0000      \n",
       "treat12:leaf6 0.12835512 0.01266306 4.006649e-24  0.0000      \n",
       "treat12:leaf7 0.14007956 0.02479708 1.621405e-08  0.0000      \n",
       "treat12:leaf8 0.14244341 0.02613091 5.025883e-08  0.0000      \n",
       "treat12:leaf9 0.15301739 0.01527962 1.378796e-23  0.0000      "
      ]
     },
     "metadata": {},
     "output_type": "display_data"
    }
   ],
   "source": [
    "# This is only valid in randomized datasets.\n",
    "fmla <- paste0(outcome, ' ~ ', paste0(treatment, '* leaf'))\n",
    "if (num.leaves == 1) {\n",
    "  print(\"Skipping since there's a single leaf.\")\n",
    "\n",
    "} else if (num.leaves == 2) {\n",
    "  # if there are only two leaves, no need to correct for multiple hypotheses\n",
    "  ols <- lm(fmla, data=transform(data[indices$est,], leaf=leaf))\n",
    "  coeftest(ols, vcov=vcovHC(ols, 'HC2'))[4,,drop=F]\n",
    "\n",
    "} else {\n",
    "  # if there are three or more leaves, use Romano-Wolf test correction \n",
    "  ols <- lm(fmla, data=transform(data[indices$est,], leaf=leaf))\n",
    "  interact <- which(sapply(names(coef(ols)), function(x) grepl(paste0(treatment, \":\"), x)))\n",
    "  summary_rw_lm(ols, indices=interact, cov.type = 'HC2')\n",
    "}"
   ]
  },
  {
   "cell_type": "code",
   "execution_count": null,
   "id": "422cb04d",
   "metadata": {},
   "outputs": [],
   "source": [
    "data "
   ]
  },
  {
   "cell_type": "markdown",
   "id": "71b946a8",
   "metadata": {},
   "source": [
    "# Average Covariate values wihtin each leaf"
   ]
  },
  {
   "cell_type": "code",
   "execution_count": 226,
   "id": "827f1b1e",
   "metadata": {},
   "outputs": [],
   "source": [
    "covariates = c(\"tenured\", \"sex\", \"age\", \"cpelec\", \"cpwater\", \"nlat_ie\", \"nlong_ie\")"
   ]
  },
  {
   "cell_type": "code",
   "execution_count": 206,
   "id": "e2035a93",
   "metadata": {},
   "outputs": [],
   "source": [
    "data <- data_clean"
   ]
  },
  {
   "cell_type": "code",
   "execution_count": 229,
   "id": "9eb7f9f2",
   "metadata": {},
   "outputs": [],
   "source": [
    "# covariate = \"clasification\"\n",
    "\n",
    "# fmla <- formula(paste0(covariate, \"~ 0 + leaf\"))\n",
    "# ols <- lm(fmla, data=transform(data[indices$est,], leaf=leaf))\n",
    "# ols.res <- coeftest(ols, vcov=vcovHC(ols, \"HC2\"))\n",
    "\n",
    "# # Retrieve results\n",
    "# avg <- ols.res[,1]\n",
    "# stderr <- ols.res[,2]\n",
    "\n",
    "# # Tally up results\n",
    "# data.frame(covariate, avg, stderr, leaf=paste0(\"Leaf\", seq(num.leaves)), \n",
    "#          # Used for coloring\n",
    "#          scaling=pnorm((avg - mean(avg))/sd(avg)), \n",
    "#          # We will order based on how much variation is 'explain' by the averages\n",
    "#          # relative to the total variation of the covariate in the data\n",
    "#          variation=sd(avg) / sd(data[,covariate]),\n",
    "#          # String to print in each cell in heatmap below\n",
    "#          labels=paste0(signif(avg, 3), \"\\n\", \"(\", signif(stderr, 3), \")\"))"
   ]
  },
  {
   "cell_type": "code",
   "execution_count": 230,
   "id": "e11efe85",
   "metadata": {},
   "outputs": [
    {
     "data": {
      "image/png": "[encoded data removed]",
      "text/plain": [
       "plot without title"
      ]
     },
     "metadata": {
      "image/png": {
       "height": 420,
       "width": 420
      }
     },
     "output_type": "display_data"
    }
   ],
   "source": [
    "df <- mapply(function(covariate) {\n",
    "      # Looping over covariate names\n",
    "      # Compute average covariate value per leaf (with correct standard errors)\n",
    "      fmla <- formula(paste0(covariate, \"~ 0 + leaf\"))\n",
    "      ols <- lm(fmla, data=transform(data[indices$est,], leaf=leaf))\n",
    "      ols.res <- coeftest(ols, vcov=vcovHC(ols, \"HC2\"))\n",
    "    \n",
    "      # Retrieve results\n",
    "      avg <- ols.res[,1]\n",
    "      stderr <- ols.res[,2]\n",
    "      \n",
    "      # Tally up results\n",
    "      data.frame(covariate, avg, stderr, leaf=paste0(\"Leaf\", seq(num.leaves)), \n",
    "                 # Used for coloring\n",
    "                 scaling=pnorm((avg - mean(avg))/sd(avg)), \n",
    "                 # We will order based on how much variation is 'explain' by the averages\n",
    "                 # relative to the total variation of the covariate in the data\n",
    "                 variation=sd(avg) / sd(data[,covariate]),\n",
    "                 # String to print in each cell in heatmap below\n",
    "                 labels=paste0(signif(avg, 3), \"\\n\", \"(\", signif(stderr, 3), \")\"))\n",
    "}, covariates, SIMPLIFY = FALSE)\n",
    "\n",
    "df <- do.call(rbind, df)\n",
    "\n",
    "# a small optional trick to ensure heatmap will be in decreasing order of 'variation'\n",
    "df$covariate <- reorder(df$covariate, order(df$variation))\n",
    "\n",
    "# plot heatmap\n",
    "ggplot(df) +\n",
    "    aes(leaf, covariate) +\n",
    "    geom_tile(aes(fill = scaling)) + \n",
    "    geom_text(aes(label = labels)) +\n",
    "    scale_fill_gradient(low = \"#E1BE6A\", high = \"#40B0A6\") +\n",
    "    ggtitle(paste0(\"Average covariate values within each leaf\")) +\n",
    "    theme_minimal() + \n",
    "    ylab(\"\") + xlab(\"\") +\n",
    "    theme(plot.title = element_text(size = 12, face = \"bold\"),\n",
    "          axis.text=element_text(size=11))"
   ]
  },
  {
   "cell_type": "markdown",
   "id": "ea72f176",
   "metadata": {},
   "source": [
    "# Via grf"
   ]
  },
  {
   "cell_type": "code",
   "execution_count": 345,
   "id": "5da19d2c",
   "metadata": {},
   "outputs": [],
   "source": [
    "covariates = c(\"tenured\", \"level\", \"sex\", \"age\", \"clasification\", \n",
    "               \"cpelec\", \"cpwater\", \"nlat_ie\", \"nlong_ie\")"
   ]
  },
  {
   "cell_type": "code",
   "execution_count": 232,
   "id": "b2eb6195",
   "metadata": {},
   "outputs": [],
   "source": [
    "# Preparing data to fit a causal forest\n",
    "fmla <- formula(paste0(\"~ 0 +\", paste0(covariates, collapse=\"+\")))\n",
    "XX <- model.matrix(fmla, data)\n",
    "W <- data[,treatment]\n",
    "Y <- data[,outcome]"
   ]
  },
  {
   "cell_type": "code",
   "execution_count": 237,
   "id": "3136de20",
   "metadata": {},
   "outputs": [],
   "source": [
    "forest.tau <- causal_forest(XX, Y, W)"
   ]
  },
  {
   "cell_type": "code",
   "execution_count": 238,
   "id": "1810f85a",
   "metadata": {},
   "outputs": [],
   "source": [
    "# Get predictions from forest fitted above.\n",
    "tau.hat <- predict(forest.tau)$predictions  # tau(X) estimates"
   ]
  },
  {
   "cell_type": "code",
   "execution_count": 239,
   "id": "911b2648",
   "metadata": {},
   "outputs": [
    {
     "data": {
      "image/png": "[encoded data removed]",
      "text/plain": [
       "Plot with title \"CATE estimates\""
      ]
     },
     "metadata": {
      "image/png": {
       "height": 420,
       "width": 420
      }
     },
     "output_type": "display_data"
    }
   ],
   "source": [
    "# Do not use this for assessing heterogeneity. See text above.\n",
    "hist(tau.hat, main=\"CATE estimates\", freq=F)"
   ]
  },
  {
   "cell_type": "code",
   "execution_count": 240,
   "id": "5f40c48c",
   "metadata": {},
   "outputs": [
    {
     "data": {
      "text/html": [
       "<style>\n",
       ".dl-inline {width: auto; margin:0; padding: 0}\n",
       ".dl-inline>dt, .dl-inline>dd {float: none; width: auto; display: inline-block}\n",
       ".dl-inline>dt::after {content: \":\\0020\"; padding-right: .5ex}\n",
       ".dl-inline>dt:not(:first-of-type) {padding-left: .5ex}\n",
       "</style><dl class=dl-inline><dt>1</dt><dd>0.273485030443833</dd><dt>2</dt><dd>0.189120527907229</dd><dt>level</dt><dd>0.152611614999075</dd><dt>tenured</dt><dd>0.11451622982838</dd><dt>cpelec</dt><dd>0.103861983062798</dd></dl>\n"
      ],
      "text/latex": [
       "\\begin{description*}\n",
       "\\item[1] 0.273485030443833\n",
       "\\item[2] 0.189120527907229\n",
       "\\item[level] 0.152611614999075\n",
       "\\item[tenured] 0.11451622982838\n",
       "\\item[cpelec] 0.103861983062798\n",
       "\\end{description*}\n"
      ],
      "text/markdown": [
       "1\n",
       ":   0.2734850304438332\n",
       ":   0.189120527907229level\n",
       ":   0.152611614999075tenured\n",
       ":   0.11451622982838cpelec\n",
       ":   0.103861983062798\n",
       "\n"
      ],
      "text/plain": [
       "     <NA>      <NA>     level   tenured    cpelec \n",
       "0.2734850 0.1891205 0.1526116 0.1145162 0.1038620 "
      ]
     },
     "metadata": {},
     "output_type": "display_data"
    }
   ],
   "source": [
    "# measure of variable importance that indicates how often a variable was used in a tree split. \n",
    "var_imp <- c(variable_importance(forest.tau))\n",
    "names(var_imp) <- covariates\n",
    "sorted_var_imp <- sort(var_imp, decreasing = TRUE)\n",
    "sorted_var_imp[1:5]  # showing only first few"
   ]
  },
  {
   "cell_type": "code",
   "execution_count": null,
   "id": "4ccaa75e",
   "metadata": {},
   "outputs": [],
   "source": []
  }
 ],
 "metadata": {
  "kernelspec": {
   "display_name": "R",
   "language": "R",
   "name": "ir"
  },
  "language_info": {
   "codemirror_mode": "r",
   "file_extension": ".r",
   "mimetype": "text/x-r-source",
   "name": "R",
   "pygments_lexer": "r",
   "version": "4.1.2"
  }
 },
 "nbformat": 4,
 "nbformat_minor": 5
}
