{
 "cells": [
  {
   "cell_type": "code",
   "execution_count": 8,
   "id": "b02ec788",
   "metadata": {},
   "outputs": [
    {
     "name": "stderr",
     "output_type": "stream",
     "text": [
      "Installing package into 'C:/Users/sandr/OneDrive/Documentos/R/win-library/4.1'\n",
      "(as 'lib' is unspecified)\n",
      "\n"
     ]
    },
    {
     "name": "stdout",
     "output_type": "stream",
     "text": [
      "package 'devtools' successfully unpacked and MD5 sums checked\n",
      "\n",
      "The downloaded binary packages are in\n",
      "\tC:\\Users\\sandr\\AppData\\Local\\Temp\\RtmpeQ3gYy\\downloaded_packages\n"
     ]
    }
   ],
   "source": [
    "# The causalTree package is not in CRAN, the most common R repository.\n",
    "# To install it, uncomment the next lines as appropriate.\n",
    "# install.packages(\"devtools\")  # if you don't have this installed yet.\n",
    "# devtools::install_github('susanathey/causalTree') "
   ]
  },
  {
   "cell_type": "code",
   "execution_count": 270,
   "id": "9a798aee",
   "metadata": {},
   "outputs": [],
   "source": [
    "library(causalTree)\n",
    "# use e.g., install.packages(\"grf\") to install any of the following packages.\n",
    "library(grf)\n",
    "library(rpart)\n",
    "library(glmnet)\n",
    "library(splines)\n",
    "library(MASS)\n",
    "library(lmtest)\n",
    "library(sandwich)\n",
    "library(ggplot2)\n",
    "library(haven)"
   ]
  },
  {
   "cell_type": "code",
   "execution_count": 271,
   "id": "84fc2db3",
   "metadata": {},
   "outputs": [],
   "source": [
    "data <- read_dta(\"C:/Users/sandr/Dropbox/MGTECON634_Project/data/matching_panel5_treat12.dta\")"
   ]
  },
  {
   "cell_type": "code",
   "execution_count": 272,
   "id": "a7017d1a",
   "metadata": {},
   "outputs": [
    {
     "data": {
      "text/html": [
       "TRUE"
      ],
      "text/latex": [
       "TRUE"
      ],
      "text/markdown": [
       "TRUE"
      ],
      "text/plain": [
       "[1] TRUE"
      ]
     },
     "metadata": {},
     "output_type": "display_data"
    }
   ],
   "source": [
    "is.data.frame(data)"
   ]
  },
  {
   "cell_type": "code",
   "execution_count": 13,
   "id": "1715cc99",
   "metadata": {},
   "outputs": [],
   "source": [
    "# stay treat12 tenured level sex age clasification cpelec cpwater"
   ]
  },
  {
   "cell_type": "markdown",
   "id": "1f1b17e6",
   "metadata": {},
   "source": [
    "# Clean Data"
   ]
  },
  {
   "cell_type": "code",
   "execution_count": 273,
   "id": "8296c22d",
   "metadata": {},
   "outputs": [],
   "source": [
    "# Dummy for sex, and categorical values for level and clasification \n",
    "data$sex[data$sex == 1] <- 1\n",
    "data$sex[data$sex == 2] <- 0\n",
    "data$level <- as.factor(data$level)\n",
    "data$clasification <- as.factor(data$clasification)"
   ]
  },
  {
   "cell_type": "code",
   "execution_count": 274,
   "id": "3cf0ba40",
   "metadata": {},
   "outputs": [],
   "source": [
    "outcome <- \"stay\"\n",
    "treatment <- \"treat12\"\n",
    "covariates = c(\"tenured\", \"level\", \"sex\", \"age\", \"clasification\", \n",
    "               \"cpelec\", \"cpwater\", \"nlat_ie\", \"nlong_ie\")"
   ]
  },
  {
   "cell_type": "markdown",
   "id": "9ca74493",
   "metadata": {},
   "source": [
    "# Replicate main Results"
   ]
  },
  {
   "cell_type": "code",
   "execution_count": 275,
   "id": "660f967a",
   "metadata": {},
   "outputs": [
    {
     "data": {
      "text/plain": [
       "\n",
       "Call:\n",
       "lm(formula = fmla, data = subset(data, tenured == 1 & strict_qualified == \n",
       "    1 & ano == 2016))\n",
       "\n",
       "Residuals:\n",
       "     Min       1Q   Median       3Q      Max \n",
       "-0.98581  0.05739  0.08545  0.11004  0.19524 \n",
       "\n",
       "Coefficients: (1 not defined because of singularities)\n",
       "                         Estimate Std. Error t value Pr(>|t|)    \n",
       "(Intercept)             0.7054709  0.0176330  40.009   <2e-16 ***\n",
       "treat12                 0.0002453  0.0040631   0.060   0.9519    \n",
       "tenured                        NA         NA      NA       NA    \n",
       "sex                    -0.0094226  0.0040820  -2.308   0.0210 *  \n",
       "age                     0.0037790  0.0002617  14.439   <2e-16 ***\n",
       "factor(level)2          0.0083060  0.0099193   0.837   0.4024    \n",
       "factor(level)3          0.0049741  0.0113954   0.436   0.6625    \n",
       "factor(clasification)2 -0.0086832  0.0065443  -1.327   0.1846    \n",
       "factor(clasification)3 -0.0004257  0.0073458  -0.058   0.9538    \n",
       "cpelec                  0.0227707  0.0094413   2.412   0.0159 *  \n",
       "cpwater                 0.0109387  0.0042788   2.557   0.0106 *  \n",
       "---\n",
       "Signif. codes:  0 '***' 0.001 '**' 0.01 '*' 0.05 '.' 0.1 ' ' 1\n",
       "\n",
       "Residual standard error: 0.2855 on 21554 degrees of freedom\n",
       "  (872 observations deleted due to missingness)\n",
       "Multiple R-squared:  0.01253,\tAdjusted R-squared:  0.01211 \n",
       "F-statistic: 30.38 on 9 and 21554 DF,  p-value: < 2.2e-16\n"
      ]
     },
     "metadata": {},
     "output_type": "display_data"
    }
   ],
   "source": [
    "# Treatment Effect on Retention for Teachers at Isolated/Rural Boundary\n",
    "# Permanent\n",
    "fmla <- formula(stay ~  treat12 + tenured + sex + age + \n",
    "                        factor(level) + factor(clasification) \n",
    "                        + cpelec + cpwater)\n",
    "ols <- lm(fmla, data=subset(data, tenured==1 & strict_qualified == 1 & ano== 2016 ))\n",
    "ols.res <- coeftest(ols, vcov=vcovHC(ols, type='HC2'))\n",
    "#ols.res\n",
    "summary(ols)"
   ]
  },
  {
   "cell_type": "code",
   "execution_count": 277,
   "id": "8e93fbc0",
   "metadata": {},
   "outputs": [
    {
     "data": {
      "text/plain": [
       "\n",
       "Call:\n",
       "lm(formula = fmla, data = subset(data, tenured == 0 & strict_qualified == \n",
       "    1 & ano == 2016))\n",
       "\n",
       "Residuals:\n",
       "    Min      1Q  Median      3Q     Max \n",
       "-0.4330 -0.2964 -0.2522  0.6522  0.8336 \n",
       "\n",
       "Coefficients: (1 not defined because of singularities)\n",
       "                        Estimate Std. Error t value Pr(>|t|)    \n",
       "(Intercept)             0.110352   0.020276   5.442 5.30e-08 ***\n",
       "treat12                 0.047713   0.006041   7.898 2.94e-15 ***\n",
       "tenured                       NA         NA      NA       NA    \n",
       "sex                     0.007348   0.006219   1.181   0.2374    \n",
       "age                     0.003071   0.000405   7.584 3.47e-14 ***\n",
       "factor(level)2          0.004622   0.008742   0.529   0.5970    \n",
       "factor(level)3          0.009403   0.011835   0.794   0.4269    \n",
       "factor(clasification)2 -0.008398   0.009140  -0.919   0.3582    \n",
       "factor(clasification)3  0.062801   0.010961   5.729 1.02e-08 ***\n",
       "cpelec                 -0.020036   0.010036  -1.996   0.0459 *  \n",
       "cpwater                 0.009932   0.006043   1.644   0.1003    \n",
       "---\n",
       "Signif. codes:  0 '***' 0.001 '**' 0.01 '*' 0.05 '.' 0.1 ' ' 1\n",
       "\n",
       "Residual standard error: 0.4469 on 25560 degrees of freedom\n",
       "  (3207 observations deleted due to missingness)\n",
       "Multiple R-squared:  0.01102,\tAdjusted R-squared:  0.01067 \n",
       "F-statistic: 31.65 on 9 and 25560 DF,  p-value: < 2.2e-16\n"
      ]
     },
     "metadata": {},
     "output_type": "display_data"
    }
   ],
   "source": [
    "# Treatment Effect on Retention for Teachers at Isolated/Rural Boundary\n",
    "# Qualified Temporary\n",
    "fmla <- formula(stay ~  treat12 + tenured + sex + age + \n",
    "                        factor(level) + factor(clasification) \n",
    "                        + cpelec + cpwater)\n",
    "ols <- lm(fmla, data=subset(data, tenured==0 & strict_qualified == 1 & ano== 2016 ))\n",
    "ols.res <- coeftest(ols, vcov=vcovHC(ols, type='HC2'))\n",
    "#ols.res\n",
    "summary(ols)"
   ]
  },
  {
   "cell_type": "code",
   "execution_count": 278,
   "id": "9b9ebe4d",
   "metadata": {},
   "outputs": [
    {
     "data": {
      "text/plain": [
       "\n",
       "t test of coefficients:\n",
       "\n",
       "                         Estimate Std. Error t value  Pr(>|t|)    \n",
       "(Intercept)             0.1248870  0.0494152  2.5273 0.0115435 *  \n",
       "treat12                 0.0408633  0.0209398  1.9515 0.0510916 .  \n",
       "sex                    -0.0022900  0.0201888 -0.1134 0.9096973    \n",
       "age                     0.0040742  0.0010582  3.8501 0.0001205 ***\n",
       "factor(level)2         -0.0560187  0.0254597 -2.2003 0.0278596 *  \n",
       "factor(level)3         -0.0599011  0.0321866 -1.8611 0.0628302 .  \n",
       "factor(clasification)2  0.0320481  0.0249825  1.2828 0.1996507    \n",
       "factor(clasification)3  0.0912484  0.0297241  3.0698 0.0021602 ** \n",
       "cpelec                 -0.0072515  0.0189478 -0.3827 0.7019619    \n",
       "cpwater                -0.0298502  0.0211662 -1.4103 0.1585591    \n",
       "---\n",
       "Signif. codes:  0 '***' 0.001 '**' 0.01 '*' 0.05 '.' 0.1 ' ' 1\n"
      ]
     },
     "metadata": {},
     "output_type": "display_data"
    }
   ],
   "source": [
    "# Treatment Effect on Retention for Teachers at Isolated/Rural Boundary\n",
    "# Unqualified Temporary\n",
    "fmla <- formula(stay ~  treat12 + tenured + sex + age + \n",
    "                        factor(level) + factor(clasification) \n",
    "                        + cpelec + cpwater)\n",
    "ols <- lm(fmla, data=subset(data, tenured==0 & strict_qualified == 0 & ano== 2016 ))\n",
    "ols.res <- coeftest(ols, vcov=vcovHC(ols, type='HC2'))\n",
    "ols.res"
   ]
  },
  {
   "cell_type": "markdown",
   "id": "9c89a054",
   "metadata": {},
   "source": [
    "# Via causal trees"
   ]
  },
  {
   "cell_type": "code",
   "execution_count": 161,
   "id": "1ab04529",
   "metadata": {},
   "outputs": [],
   "source": [
    "# # Only valid for randomized data!\n",
    "# fmla <- paste(outcome, \" ~\", paste(covariates, collapse = \" + \"))\n",
    "# X <- model.matrix(fmla, data)"
   ]
  },
  {
   "cell_type": "code",
   "execution_count": 162,
   "id": "f3c12aaa",
   "metadata": {},
   "outputs": [],
   "source": [
    "# fmla <- formula(stay ~  tenured + sex + age)\n",
    "# fmla"
   ]
  },
  {
   "cell_type": "code",
   "execution_count": 163,
   "id": "375c4ba6",
   "metadata": {},
   "outputs": [],
   "source": [
    "# # Prepare dataset\n",
    "# fmla <- formula(paste0(\"~ 0 + \", paste0(covariates, collapse=\"+\")))\n",
    "# X <- model.matrix(fmla, data)"
   ]
  },
  {
   "cell_type": "code",
   "execution_count": 164,
   "id": "139a6260",
   "metadata": {},
   "outputs": [],
   "source": [
    "#stay treat12 tenured level sex age clasification cpelec cpwater"
   ]
  },
  {
   "cell_type": "markdown",
   "id": "4db2fbd2",
   "metadata": {},
   "source": [
    "## Data from temporary teachers in 2016"
   ]
  },
  {
   "cell_type": "code",
   "execution_count": 279,
   "id": "2fecc6ab",
   "metadata": {},
   "outputs": [],
   "source": [
    "data_main_col <- data.frame(data$stay, data$treat12,data$tenured, \n",
    "                            data$level, data$sex, data$age, data$clasification, \n",
    "                            data$cpelec, data$cpwater, data$nlat_ie, data$nlong_ie,\n",
    "                           data$x_dim, data$y_dim, data$ano)\n",
    " \n",
    "names(data_main_col) <- c('stay', 'treat12', 'tenured', 'level', 'sex', 'age', \n",
    "                       'clasification', 'cpelec', 'cpwater', \"nlat_ie\", \"nlong_ie\", \"x_dim\", \"y_dim\", \"ano\")\n",
    "data_clean = na.omit(data_main_col)"
   ]
  },
  {
   "cell_type": "code",
   "execution_count": 280,
   "id": "8cf1b573",
   "metadata": {},
   "outputs": [],
   "source": [
    "data_clean <- subset(data_clean, ano== 2016 & tenured == 0)"
   ]
  },
  {
   "cell_type": "code",
   "execution_count": 281,
   "id": "cf60999b",
   "metadata": {},
   "outputs": [
    {
     "data": {
      "text/html": [
       "<style>\n",
       ".list-inline {list-style: none; margin:0; padding: 0}\n",
       ".list-inline>li {display: inline-block}\n",
       ".list-inline>li:not(:last-child)::after {content: \"\\00b7\"; padding: 0 .5ex}\n",
       "</style>\n",
       "<ol class=list-inline><li>29606</li><li>14</li></ol>\n"
      ],
      "text/latex": [
       "\\begin{enumerate*}\n",
       "\\item 29606\n",
       "\\item 14\n",
       "\\end{enumerate*}\n"
      ],
      "text/markdown": [
       "1. 29606\n",
       "2. 14\n",
       "\n",
       "\n"
      ],
      "text/plain": [
       "[1] 29606    14"
      ]
     },
     "metadata": {},
     "output_type": "display_data"
    }
   ],
   "source": [
    "dim(data_clean)"
   ]
  },
  {
   "cell_type": "markdown",
   "id": "c0d43162",
   "metadata": {},
   "source": [
    "# Using Blocks"
   ]
  },
  {
   "cell_type": "code",
   "execution_count": 293,
   "id": "3f2d2ef5",
   "metadata": {},
   "outputs": [
    {
     "data": {
      "text/plain": [
       "\n",
       "Call:\n",
       "lm(formula = fmla, data = data_clean)\n",
       "\n",
       "Residuals:\n",
       "    Min      1Q  Median      3Q     Max \n",
       "-0.5335 -0.2946 -0.2451  0.6407  0.8880 \n",
       "\n",
       "Coefficients: (1 not defined because of singularities)\n",
       "                         Estimate Std. Error t value Pr(>|t|)    \n",
       "(Intercept)            -9.879e-02  2.594e-02  -3.808  0.00014 ***\n",
       "treat12                 4.380e-02  5.730e-03   7.645 2.16e-14 ***\n",
       "tenured                        NA         NA      NA       NA    \n",
       "sex                     6.050e-03  5.816e-03   1.040  0.29832    \n",
       "age                     3.172e-03  3.581e-04   8.858  < 2e-16 ***\n",
       "factor(level)2         -4.513e-03  8.048e-03  -0.561  0.57491    \n",
       "factor(level)3          1.109e-03  1.080e-02   0.103  0.91825    \n",
       "factor(clasification)2 -3.321e-03  8.413e-03  -0.395  0.69304    \n",
       "factor(clasification)3  6.420e-02  1.002e-02   6.407 1.51e-10 ***\n",
       "cpelec                  3.368e-03  8.505e-03   0.396  0.69208    \n",
       "cpwater                 2.863e-02  5.929e-03   4.829 1.38e-06 ***\n",
       "x_dim                   9.829e-05  1.296e-05   7.587 3.38e-14 ***\n",
       "y_dim                   1.206e-04  1.012e-05  11.917  < 2e-16 ***\n",
       "---\n",
       "Signif. codes:  0 '***' 0.001 '**' 0.01 '*' 0.05 '.' 0.1 ' ' 1\n",
       "\n",
       "Residual standard error: 0.4454 on 29594 degrees of freedom\n",
       "Multiple R-squared:  0.01499,\tAdjusted R-squared:  0.01462 \n",
       "F-statistic: 40.94 on 11 and 29594 DF,  p-value: < 2.2e-16\n"
      ]
     },
     "metadata": {},
     "output_type": "display_data"
    }
   ],
   "source": [
    "# Treatment Effect on Retention for Teachers at Isolated/Rural Boundary\n",
    "# Permanent\n",
    "fmla <- formula(stay ~  treat12 + tenured + sex + age + \n",
    "                        factor(level) + factor(clasification) \n",
    "                        + cpelec + cpwater + x_dim + y_dim)\n",
    "ols <- lm(fmla, data=data_clean)\n",
    "ols.res <- coeftest(ols, vcov=vcovHC(ols, type='HC2'))\n",
    "#ols.res\n",
    "summary(ols)"
   ]
  },
  {
   "cell_type": "code",
   "execution_count": 294,
   "id": "6fcc1dfb",
   "metadata": {},
   "outputs": [],
   "source": [
    "# Dividing data into three subsets\n",
    "indices <- split(seq(nrow(data_clean)), sort(seq(nrow(data_clean)) %% 3))\n",
    "names(indices) <- c('split', 'est', 'test')"
   ]
  },
  {
   "cell_type": "code",
   "execution_count": 295,
   "id": "34fd0e5a",
   "metadata": {},
   "outputs": [
    {
     "data": {
      "text/plain": [
       "stay ~ tenured + sex + age + factor(level) + factor(clasification) + \n",
       "    cpelec + cpwater + x_dim + y_dim"
      ]
     },
     "metadata": {},
     "output_type": "display_data"
    }
   ],
   "source": [
    "fmla <- formula(stay ~  tenured + sex + age + \n",
    "                        factor(level) + factor(clasification)\n",
    "                        + cpelec + cpwater + x_dim + y_dim)\n",
    "fmla"
   ]
  },
  {
   "cell_type": "code",
   "execution_count": 296,
   "id": "6bb53bc5",
   "metadata": {},
   "outputs": [
    {
     "data": {
      "text/html": [
       "<style>\n",
       ".list-inline {list-style: none; margin:0; padding: 0}\n",
       ".list-inline>li {display: inline-block}\n",
       ".list-inline>li:not(:last-child)::after {content: \"\\00b7\"; padding: 0 .5ex}\n",
       "</style>\n",
       "<ol class=list-inline><li>29606</li><li>14</li></ol>\n"
      ],
      "text/latex": [
       "\\begin{enumerate*}\n",
       "\\item 29606\n",
       "\\item 14\n",
       "\\end{enumerate*}\n"
      ],
      "text/markdown": [
       "1. 29606\n",
       "2. 14\n",
       "\n",
       "\n"
      ],
      "text/plain": [
       "[1] 29606    14"
      ]
     },
     "metadata": {},
     "output_type": "display_data"
    }
   ],
   "source": [
    "dim(data_clean)"
   ]
  },
  {
   "cell_type": "code",
   "execution_count": 297,
   "id": "88b7e4b7",
   "metadata": {},
   "outputs": [
    {
     "name": "stdout",
     "output_type": "stream",
     "text": [
      "[1] 2\n",
      "[1] \"CT\"\n"
     ]
    }
   ],
   "source": [
    "# Fitting the forest\n",
    "ct.unpruned <- honest.causalTree(\n",
    "  formula=fmla,            # Define the model\n",
    "  data=data_clean[indices$split,],\n",
    "  treatment=data_clean[indices$split, treatment],\n",
    "  est_data=data_clean[indices$est,],\n",
    "  est_treatment=data_clean[indices$est, treatment],\n",
    "  minsize=100,                 # Min. number of treatment and control cases in each leaf\n",
    "  HonestSampleSize=length(indices$est), #  Num obs used in estimation after splitting\n",
    "  # We recommend not changing the parameters below\n",
    "  split.Rule=\"CT\",            # Define the splitting option\n",
    "  cv.option=\"TOT\",            # Cross validation options\n",
    "  cp=0,                       # Complexity parameter\n",
    "  split.Honest=TRUE,          # Use honesty when splitting\n",
    "  cv.Honest=TRUE              # Use honesty when performing cross-validation\n",
    ")\n"
   ]
  },
  {
   "cell_type": "code",
   "execution_count": 298,
   "id": "f01bb1f4",
   "metadata": {},
   "outputs": [],
   "source": [
    "# Table of cross-validated values by tuning parameter.\n",
    "ct.cptable <- as.data.frame(ct.unpruned$cptable)"
   ]
  },
  {
   "cell_type": "code",
   "execution_count": 299,
   "id": "4c09f8ab",
   "metadata": {},
   "outputs": [],
   "source": [
    "# Obtain optimal complexity parameter to prune tree.\n",
    "cp.selected <- which.min(ct.cptable$xerror)\n",
    "cp.optimal <- ct.cptable[cp.selected, \"CP\"]"
   ]
  },
  {
   "cell_type": "code",
   "execution_count": 300,
   "id": "05f30cef",
   "metadata": {},
   "outputs": [],
   "source": [
    "# Prune the tree at optimal complexity parameter.\n",
    "ct.pruned <- prune(tree=ct.unpruned, cp=cp.optimal)"
   ]
  },
  {
   "cell_type": "code",
   "execution_count": 301,
   "id": "d654ef8e",
   "metadata": {},
   "outputs": [],
   "source": [
    "# Predict point estimates (on estimation sample)\n",
    "tau.hat.est <- predict(ct.pruned, newdata=data_clean[indices$est,])\n",
    "\n",
    "# Create a factor column 'leaf' indicating leaf assignment in the estimation set\n",
    "num.leaves <- length(unique(tau.hat.est))\n",
    "leaf <- factor(tau.hat.est, levels=sort(unique(tau.hat.est)), labels = seq(num.leaves))"
   ]
  },
  {
   "cell_type": "code",
   "execution_count": 303,
   "id": "55658b18",
   "metadata": {},
   "outputs": [
    {
     "data": {
      "text/html": [
       "4"
      ],
      "text/latex": [
       "4"
      ],
      "text/markdown": [
       "4"
      ],
      "text/plain": [
       "[1] 4"
      ]
     },
     "metadata": {},
     "output_type": "display_data"
    }
   ],
   "source": [
    "num.leaves"
   ]
  },
  {
   "cell_type": "code",
   "execution_count": 305,
   "id": "50abfcd2",
   "metadata": {},
   "outputs": [
    {
     "data": {
      "image/png": "[encoded data removed]",
      "text/plain": [
       "plot without title"
      ]
     },
     "metadata": {
      "image/png": {
       "height": 600,
       "width": 900
      }
     },
     "output_type": "display_data"
    }
   ],
   "source": [
    "rpart.plot(\n",
    "  x=ct.pruned,        # Pruned tree\n",
    "  type=3,             # Draw separate split labels for the left and right directions\n",
    "  fallen=TRUE,        # Position the leaf nodes at the bottom of the graph\n",
    "  leaf.round=1,       # Rounding of the corners of the leaf node boxes\n",
    "  extra=100,          # Display the percentage of observations in the node\n",
    "  branch=.1,          # Shape of the branch lines\n",
    "  box.palette=\"RdBu\", # Palette for coloring the node\n",
    "  cex = 1.5)   "
   ]
  },
  {
   "cell_type": "markdown",
   "id": "fb32ef90",
   "metadata": {},
   "source": [
    "# Using Lat and Longitud"
   ]
  },
  {
   "cell_type": "code",
   "execution_count": 306,
   "id": "0c6b29ba",
   "metadata": {},
   "outputs": [
    {
     "data": {
      "text/plain": [
       "stay ~ tenured + sex + age + factor(level) + factor(clasification) + \n",
       "    cpelec + cpwater + nlat_ie + nlong_ie"
      ]
     },
     "metadata": {},
     "output_type": "display_data"
    }
   ],
   "source": [
    "fmla <- formula(stay ~  tenured + sex + age + \n",
    "                        factor(level) + factor(clasification)\n",
    "                        + cpelec + cpwater + nlat_ie + nlong_ie)\n",
    "fmla"
   ]
  },
  {
   "cell_type": "code",
   "execution_count": 307,
   "id": "855a58b7",
   "metadata": {
    "scrolled": false
   },
   "outputs": [
    {
     "name": "stdout",
     "output_type": "stream",
     "text": [
      "[1] 2\n",
      "[1] \"CT\"\n"
     ]
    },
    {
     "data": {
      "image/png": "[encoded data removed]",
      "text/plain": [
       "plot without title"
      ]
     },
     "metadata": {
      "image/png": {
       "height": 600,
       "width": 900
      }
     },
     "output_type": "display_data"
    }
   ],
   "source": [
    "# Fitting the forest\n",
    "ct.unpruned <- honest.causalTree(\n",
    "  formula=fmla,            # Define the model\n",
    "  data=data_clean[indices$split,],\n",
    "  treatment=data_clean[indices$split, treatment],\n",
    "  est_data=data_clean[indices$est,],\n",
    "  est_treatment=data_clean[indices$est, treatment],\n",
    "  minsize=120,                 # Min. number of treatment and control cases in each leaf\n",
    "  HonestSampleSize=length(indices$est), #  Num obs used in estimation after splitting\n",
    "  # We recommend not changing the parameters below\n",
    "  split.Rule=\"CT\",            # Define the splitting option\n",
    "  cv.option=\"TOT\",            # Cross validation options\n",
    "  cp=0,                       # Complexity parameter\n",
    "  split.Honest=TRUE,          # Use honesty when splitting\n",
    "  cv.Honest=TRUE              # Use honesty when performing cross-validation\n",
    ")\n",
    "\n",
    "# Table of cross-validated values by tuning parameter.\n",
    "ct.cptable <- as.data.frame(ct.unpruned$cptable)\n",
    "\n",
    "# Obtain optimal complexity parameter to prune tree.\n",
    "cp.selected <- which.min(ct.cptable$xerror)\n",
    "cp.optimal <- ct.cptable[cp.selected, \"CP\"]\n",
    "\n",
    "# Prune the tree at optimal complexity parameter.\n",
    "ct.pruned <- prune(tree=ct.unpruned, cp=cp.optimal)\n",
    "\n",
    "# Predict point estimates (on estimation sample)\n",
    "tau.hat.est <- predict(ct.pruned, newdata=data_clean[indices$est,])\n",
    "\n",
    "# Create a factor column 'leaf' indicating leaf assignment in the estimation set\n",
    "num.leaves <- length(unique(tau.hat.est))\n",
    "leaf <- factor(tau.hat.est, levels=sort(unique(tau.hat.est)), labels = seq(num.leaves))\n",
    "\n",
    "plot <- rpart.plot(\n",
    "  x=ct.pruned,        # Pruned tree\n",
    "  type=3,             # Draw separate split labels for the left and right directions\n",
    "  fallen=TRUE,        # Position the leaf nodes at the bottom of the graph\n",
    "  leaf.round=1,       # Rounding of the corners of the leaf node boxes\n",
    "  extra=100,          # Display the percentage of observations in the node\n",
    "  branch=.1,          # Shape of the branch lines\n",
    "  box.palette=\"RdBu\", # Palette for coloring the node\n",
    "  cex = 1)"
   ]
  },
  {
   "cell_type": "code",
   "execution_count": 255,
   "id": "146bbd91",
   "metadata": {},
   "outputs": [],
   "source": [
    "# # Dividing data into three subsets\n",
    "# indices <- split(seq(nrow(data_clean_2016)), sort(seq(nrow(data_clean_2016)) %% 3))\n",
    "# names(indices) <- c('split', 'est', 'test')"
   ]
  },
  {
   "cell_type": "code",
   "execution_count": 344,
   "id": "ca273671",
   "metadata": {},
   "outputs": [],
   "source": [
    "# fmla <- formula(stay ~  tenured + sex + age + \n",
    "#                         factor(level) + factor(clasification)\n",
    "#                         + cpelec + cpwater )\n",
    "\n",
    "# # Fitting the forest\n",
    "# ct.unpruned <- honest.causalTree(\n",
    "#   formula=fmla,            # Define the model\n",
    "#   data=data_clean_2016[indices$split,],\n",
    "#   treatment=data_clean_2016[indices$split, treatment],\n",
    "#   est_data=data_clean_2016[indices$est,],\n",
    "#   est_treatment=data_clean_2016[indices$est, treatment],\n",
    "#   minsize=1,                 # Min. number of treatment and control cases in each leaf\n",
    "#   HonestSampleSize=length(indices$est), #  Num obs used in estimation after splitting\n",
    "#   # We recommend not changing the parameters below\n",
    "#   split.Rule=\"CT\",            # Define the splitting option\n",
    "#   cv.option=\"TOT\",            # Cross validation options\n",
    "#   cp=0,                       # Complexity parameter\n",
    "#   split.Honest=TRUE,          # Use honesty when splitting\n",
    "#   cv.Honest=TRUE              # Use honesty when performing cross-validation\n",
    "# )\n",
    "\n",
    "# # Table of cross-validated values by tuning parameter.\n",
    "# ct.cptable <- as.data.frame(ct.unpruned$cptable)\n",
    "\n",
    "# # Obtain optimal complexity parameter to prune tree.\n",
    "# cp.selected <- which.min(ct.cptable$xerror)\n",
    "# cp.optimal <- ct.cptable[cp.selected, \"CP\"]\n",
    "\n",
    "# # Prune the tree at optimal complexity parameter.\n",
    "# ct.pruned <- prune(tree=ct.unpruned, cp=cp.optimal)\n",
    "\n",
    "# # Predict point estimates (on estimation sample)\n",
    "# tau.hat.est <- predict(ct.pruned, newdata=data_clean_2016[indices$est,])\n",
    "\n",
    "# # Create a factor column 'leaf' indicating leaf assignment in the estimation set\n",
    "# num.leaves <- length(unique(tau.hat.est))\n",
    "# leaf <- factor(tau.hat.est, levels=sort(unique(tau.hat.est)), labels = seq(num.leaves))\n",
    "\n",
    "# rpart.plot(\n",
    "#   x=ct.pruned,        # Pruned tree\n",
    "#   type=3,             # Draw separate split labels for the left and right directions\n",
    "#   fallen=TRUE,        # Position the leaf nodes at the bottom of the graph\n",
    "#   leaf.round=1,       # Rounding of the corners of the leaf node boxes\n",
    "#   extra=100,          # Display the percentage of observations in the node\n",
    "#   branch=.1,          # Shape of the branch lines\n",
    "#   box.palette=\"RdBu\") # Palette for coloring the node"
   ]
  },
  {
   "cell_type": "code",
   "execution_count": 192,
   "id": "b6be4695",
   "metadata": {},
   "outputs": [],
   "source": [
    "# Assuming discontinuity generates RCT"
   ]
  },
  {
   "cell_type": "code",
   "execution_count": 308,
   "id": "d4aff1f6",
   "metadata": {},
   "outputs": [],
   "source": [
    "# Auxiliary function to computes adjusted p-values \n",
    "# following the Romano-Wolf method.\n",
    "# For a reference, see http://ftp.iza.org/dp12845.pdf page 8\n",
    "#  t.orig: vector of t-statistics from original model\n",
    "#  t.boot: matrix of t-statistics from bootstrapped models\n",
    "romano_wolf_correction <- function(t.orig, t.boot) {\n",
    "  abs.t.orig <- abs(t.orig)\n",
    "  abs.t.boot <- abs(t.boot)\n",
    "  abs.t.sorted <- sort(abs.t.orig, decreasing = TRUE)\n",
    "\n",
    "  max.order <- order(abs.t.orig, decreasing = TRUE)\n",
    "  rev.order <- order(max.order)\n",
    "\n",
    "  M <- nrow(t.boot)\n",
    "  S <- ncol(t.boot)\n",
    "\n",
    "  p.adj <- rep(0, S)\n",
    "  p.adj[1] <- mean(apply(abs.t.boot, 1, max) > abs.t.sorted[1])\n",
    "  for (s in seq(2, S)) {\n",
    "    cur.index <- max.order[s:S]\n",
    "    p.init <- mean(apply(abs.t.boot[, cur.index, drop=FALSE], 1, max) > abs.t.sorted[s])\n",
    "    p.adj[s] <- max(p.init, p.adj[s-1])\n",
    "  }\n",
    "  p.adj[rev.order]\n",
    "}\n",
    "\n",
    "# Computes adjusted p-values for linear regression (lm) models.\n",
    "#    model: object of lm class (i.e., a linear reg model)\n",
    "#    indices: vector of integers for the coefficients that will be tested\n",
    "#    cov.type: type of standard error (to be passed to sandwich::vcovHC)\n",
    "#    num.boot: number of null bootstrap samples. Increase to stabilize across runs.\n",
    "# Note: results are probabilitistic and may change slightly at every run. \n",
    "#\n",
    "# Adapted from the p_adjust from from the hdm package, written by Philipp Bach.\n",
    "# https://github.com/PhilippBach/hdm_prev/blob/master/R/p_adjust.R\n",
    "summary_rw_lm <- function(model, indices=NULL, cov.type=\"HC2\", num.boot=10000) {\n",
    "\n",
    "  if (is.null(indices)) {\n",
    "    indices <- 1:nrow(coef(summary(model)))\n",
    "  }\n",
    "  # Grab the original t values.\n",
    "  summary <- coef(summary(model))[indices,,drop=FALSE]\n",
    "  t.orig <- summary[, \"t value\"]\n",
    "\n",
    "  # Null resampling.\n",
    "  # This is a trick to speed up bootstrapping linear models.\n",
    "  # Here, we don't really need to re-fit linear regressions, which would be a bit slow.\n",
    "  # We know that betahat ~ N(beta, Sigma), and we have an estimate Sigmahat.\n",
    "  # So we can approximate \"null t-values\" by\n",
    "  #  - Draw beta.boot ~ N(0, Sigma-hat) --- note the 0 here, this is what makes it a *null* t-value.\n",
    "  #  - Compute t.boot = beta.boot / sqrt(diag(Sigma.hat))\n",
    "  Sigma.hat <- vcovHC(model, type=cov.type)[indices, indices]\n",
    "  se.orig <- sqrt(diag(Sigma.hat))\n",
    "  num.coef <- length(se.orig)\n",
    "  beta.boot <- mvrnorm(n=num.boot, mu=rep(0, num.coef), Sigma=Sigma.hat)\n",
    "  t.boot <- sweep(beta.boot, 2, se.orig, \"/\")\n",
    "  p.adj <- romano_wolf_correction(t.orig, t.boot)\n",
    "\n",
    "  result <- cbind(summary[,c(1,2,4),drop=F], p.adj)\n",
    "  colnames(result) <- c('Estimate', 'Std. Error', 'Orig. p-value', 'Adj. p-value')\n",
    "  result\n",
    "}"
   ]
  },
  {
   "cell_type": "code",
   "execution_count": 309,
   "id": "556224e6",
   "metadata": {},
   "outputs": [
    {
     "data": {
      "text/html": [
       "<table class=\"dataframe\">\n",
       "<caption>A matrix: 8 × 4 of type dbl</caption>\n",
       "<thead>\n",
       "\t<tr><th></th><th scope=col>Estimate</th><th scope=col>Std. Error</th><th scope=col>Orig. p-value</th><th scope=col>Adj. p-value</th></tr>\n",
       "</thead>\n",
       "<tbody>\n",
       "\t<tr><th scope=row>treat12:leaf2</th><td>-0.020445698</td><td>0.06691998</td><td>0.7599754</td><td>0.9790</td></tr>\n",
       "\t<tr><th scope=row>treat12:leaf3</th><td> 0.099243629</td><td>0.07876434</td><td>0.2077074</td><td>0.5992</td></tr>\n",
       "\t<tr><th scope=row>treat12:leaf4</th><td>-0.029849596</td><td>0.06692670</td><td>0.6556075</td><td>0.9790</td></tr>\n",
       "\t<tr><th scope=row>treat12:leaf5</th><td>-0.040622018</td><td>0.06072736</td><td>0.5035650</td><td>0.9185</td></tr>\n",
       "\t<tr><th scope=row>treat12:leaf6</th><td>-0.092716693</td><td>0.07650021</td><td>0.2255597</td><td>0.5992</td></tr>\n",
       "\t<tr><th scope=row>treat12:leaf7</th><td> 0.026422591</td><td>0.07638179</td><td>0.7294070</td><td>0.9790</td></tr>\n",
       "\t<tr><th scope=row>treat12:leaf8</th><td> 0.026939916</td><td>0.06914017</td><td>0.6968127</td><td>0.9790</td></tr>\n",
       "\t<tr><th scope=row>treat12:leaf9</th><td>-0.005272767</td><td>0.09226452</td><td>0.9544286</td><td>0.9790</td></tr>\n",
       "</tbody>\n",
       "</table>\n"
      ],
      "text/latex": [
       "A matrix: 8 × 4 of type dbl\n",
       "\\begin{tabular}{r|llll}\n",
       "  & Estimate & Std. Error & Orig. p-value & Adj. p-value\\\\\n",
       "\\hline\n",
       "\ttreat12:leaf2 & -0.020445698 & 0.06691998 & 0.7599754 & 0.9790\\\\\n",
       "\ttreat12:leaf3 &  0.099243629 & 0.07876434 & 0.2077074 & 0.5992\\\\\n",
       "\ttreat12:leaf4 & -0.029849596 & 0.06692670 & 0.6556075 & 0.9790\\\\\n",
       "\ttreat12:leaf5 & -0.040622018 & 0.06072736 & 0.5035650 & 0.9185\\\\\n",
       "\ttreat12:leaf6 & -0.092716693 & 0.07650021 & 0.2255597 & 0.5992\\\\\n",
       "\ttreat12:leaf7 &  0.026422591 & 0.07638179 & 0.7294070 & 0.9790\\\\\n",
       "\ttreat12:leaf8 &  0.026939916 & 0.06914017 & 0.6968127 & 0.9790\\\\\n",
       "\ttreat12:leaf9 & -0.005272767 & 0.09226452 & 0.9544286 & 0.9790\\\\\n",
       "\\end{tabular}\n"
      ],
      "text/markdown": [
       "\n",
       "A matrix: 8 × 4 of type dbl\n",
       "\n",
       "| <!--/--> | Estimate | Std. Error | Orig. p-value | Adj. p-value |\n",
       "|---|---|---|---|---|\n",
       "| treat12:leaf2 | -0.020445698 | 0.06691998 | 0.7599754 | 0.9790 |\n",
       "| treat12:leaf3 |  0.099243629 | 0.07876434 | 0.2077074 | 0.5992 |\n",
       "| treat12:leaf4 | -0.029849596 | 0.06692670 | 0.6556075 | 0.9790 |\n",
       "| treat12:leaf5 | -0.040622018 | 0.06072736 | 0.5035650 | 0.9185 |\n",
       "| treat12:leaf6 | -0.092716693 | 0.07650021 | 0.2255597 | 0.5992 |\n",
       "| treat12:leaf7 |  0.026422591 | 0.07638179 | 0.7294070 | 0.9790 |\n",
       "| treat12:leaf8 |  0.026939916 | 0.06914017 | 0.6968127 | 0.9790 |\n",
       "| treat12:leaf9 | -0.005272767 | 0.09226452 | 0.9544286 | 0.9790 |\n",
       "\n"
      ],
      "text/plain": [
       "              Estimate     Std. Error Orig. p-value Adj. p-value\n",
       "treat12:leaf2 -0.020445698 0.06691998 0.7599754     0.9790      \n",
       "treat12:leaf3  0.099243629 0.07876434 0.2077074     0.5992      \n",
       "treat12:leaf4 -0.029849596 0.06692670 0.6556075     0.9790      \n",
       "treat12:leaf5 -0.040622018 0.06072736 0.5035650     0.9185      \n",
       "treat12:leaf6 -0.092716693 0.07650021 0.2255597     0.5992      \n",
       "treat12:leaf7  0.026422591 0.07638179 0.7294070     0.9790      \n",
       "treat12:leaf8  0.026939916 0.06914017 0.6968127     0.9790      \n",
       "treat12:leaf9 -0.005272767 0.09226452 0.9544286     0.9790      "
      ]
     },
     "metadata": {},
     "output_type": "display_data"
    }
   ],
   "source": [
    "# This is only valid in randomized datasets.\n",
    "fmla <- paste0(outcome, ' ~ ', paste0(treatment, '* leaf'))\n",
    "if (num.leaves == 1) {\n",
    "  print(\"Skipping since there's a single leaf.\")\n",
    "\n",
    "} else if (num.leaves == 2) {\n",
    "  # if there are only two leaves, no need to correct for multiple hypotheses\n",
    "  ols <- lm(fmla, data=transform(data[indices$est,], leaf=leaf))\n",
    "  coeftest(ols, vcov=vcovHC(ols, 'HC2'))[4,,drop=F]\n",
    "\n",
    "} else {\n",
    "  # if there are three or more leaves, use Romano-Wolf test correction \n",
    "  ols <- lm(fmla, data=transform(data[indices$est,], leaf=leaf))\n",
    "  interact <- which(sapply(names(coef(ols)), function(x) grepl(paste0(treatment, \":\"), x)))\n",
    "  summary_rw_lm(ols, indices=interact, cov.type = 'HC2')\n",
    "}"
   ]
  },
  {
   "cell_type": "code",
   "execution_count": 253,
   "id": "422cb04d",
   "metadata": {
    "scrolled": true
   },
   "outputs": [],
   "source": [
    "# data "
   ]
  },
  {
   "cell_type": "markdown",
   "id": "71b946a8",
   "metadata": {},
   "source": [
    "# Average Covariate values wihtin each leaf"
   ]
  },
  {
   "cell_type": "code",
   "execution_count": 325,
   "id": "827f1b1e",
   "metadata": {},
   "outputs": [],
   "source": [
    "covariates = c(\"tenured\", \"sex\", \"age\", \"cpelec\", \"cpwater\", \"nlat_ie\", \"nlong_ie\")"
   ]
  },
  {
   "cell_type": "code",
   "execution_count": 326,
   "id": "e2035a93",
   "metadata": {},
   "outputs": [],
   "source": [
    "data <- data_clean"
   ]
  },
  {
   "cell_type": "code",
   "execution_count": 229,
   "id": "9eb7f9f2",
   "metadata": {},
   "outputs": [],
   "source": [
    "# covariate = \"clasification\"\n",
    "\n",
    "# fmla <- formula(paste0(covariate, \"~ 0 + leaf\"))\n",
    "# ols <- lm(fmla, data=transform(data[indices$est,], leaf=leaf))\n",
    "# ols.res <- coeftest(ols, vcov=vcovHC(ols, \"HC2\"))\n",
    "\n",
    "# # Retrieve results\n",
    "# avg <- ols.res[,1]\n",
    "# stderr <- ols.res[,2]\n",
    "\n",
    "# # Tally up results\n",
    "# data.frame(covariate, avg, stderr, leaf=paste0(\"Leaf\", seq(num.leaves)), \n",
    "#          # Used for coloring\n",
    "#          scaling=pnorm((avg - mean(avg))/sd(avg)), \n",
    "#          # We will order based on how much variation is 'explain' by the averages\n",
    "#          # relative to the total variation of the covariate in the data\n",
    "#          variation=sd(avg) / sd(data[,covariate]),\n",
    "#          # String to print in each cell in heatmap below\n",
    "#          labels=paste0(signif(avg, 3), \"\\n\", \"(\", signif(stderr, 3), \")\"))"
   ]
  },
  {
   "cell_type": "code",
   "execution_count": 363,
   "id": "e11efe85",
   "metadata": {},
   "outputs": [
    {
     "data": {
      "image/png": "[encoded data removed]",
      "text/plain": [
       "plot without title"
      ]
     },
     "metadata": {
      "image/png": {
       "height": 600,
       "width": 900
      }
     },
     "output_type": "display_data"
    }
   ],
   "source": [
    "df <- mapply(function(covariate) {\n",
    "      # Looping over covariate names\n",
    "      # Compute average covariate value per leaf (with correct standard errors)\n",
    "      fmla <- formula(paste0(covariate, \"~ 0 + leaf\"))\n",
    "      ols <- lm(fmla, data=transform(data[indices$est,], leaf=leaf))\n",
    "      ols.res <- coeftest(ols, vcov=vcovHC(ols, \"HC2\"))\n",
    "    \n",
    "      # Retrieve results\n",
    "      avg <- ols.res[,1]\n",
    "      stderr <- ols.res[,2]\n",
    "      \n",
    "      # Tally up results\n",
    "      data.frame(covariate, avg, stderr, leaf=paste0(\"Leaf\", seq(num.leaves)), \n",
    "                 # Used for coloring\n",
    "                 scaling=pnorm((avg - mean(avg))/sd(avg)), \n",
    "                 # We will order based on how much variation is 'explain' by the averages\n",
    "                 # relative to the total variation of the covariate in the data\n",
    "                 variation=sd(avg) / sd(data[,covariate]),\n",
    "                 # String to print in each cell in heatmap below\n",
    "                 labels=paste0(signif(avg, 3), \"\\n\", \"(\", signif(stderr, 3), \")\"))\n",
    "}, covariates, SIMPLIFY = FALSE)\n",
    "\n",
    "df <- do.call(rbind, df)\n",
    "\n",
    "# a small optional trick to ensure heatmap will be in decreasing order of 'variation'\n",
    "df$covariate <- reorder(df$covariate, order(df$variation))\n",
    "\n",
    "# plot heatmap\n",
    "\n",
    "ggplot(df) + \n",
    "    aes(leaf, covariate, fig(50,50)) +\n",
    "    geom_tile(aes(fill = scaling)) + \n",
    "    geom_text(aes(label = labels)) +\n",
    "    scale_fill_gradient(low = \"#E1BE6A\", high = \"#40B0A6\") +\n",
    "    ggtitle(paste0(\"Average covariate values within each leaf\")) +\n",
    "    theme_minimal() + \n",
    "    ylab(\"\") + xlab(\"\") +\n",
    "    theme(plot.title = element_text(size = 25, face = \"bold\"),\n",
    "          axis.text=element_text(size=15), \n",
    "          legend.text = element_text(size=15)) "
   ]
  },
  {
   "cell_type": "markdown",
   "id": "ea72f176",
   "metadata": {},
   "source": [
    "# Via grf"
   ]
  },
  {
   "cell_type": "markdown",
   "id": "9e305345",
   "metadata": {},
   "source": [
    "## 1. Using LATITUDE and LONGITUDE"
   ]
  },
  {
   "cell_type": "code",
   "execution_count": 374,
   "id": "5da19d2c",
   "metadata": {},
   "outputs": [],
   "source": [
    "fmla <- formula(stay ~  tenured + sex + age + \n",
    "                        factor(level) + factor(clasification)\n",
    "                        + cpelec + cpwater + nlat_ie + nlong_ie)"
   ]
  },
  {
   "cell_type": "code",
   "execution_count": 375,
   "id": "b2eb6195",
   "metadata": {},
   "outputs": [],
   "source": [
    "# Preparing data to fit a causal forest\n",
    "# fmla <- formula(paste0(\"~ 0 +\", paste0(covariates, collapse=\"+\")))\n",
    "XX <- model.matrix(fmla, data)\n",
    "W <- data[,treatment]\n",
    "Y <- data[,outcome]"
   ]
  },
  {
   "cell_type": "code",
   "execution_count": null,
   "id": "3136de20",
   "metadata": {},
   "outputs": [],
   "source": [
    "forest.tau <- causal_forest(XX, Y, W)"
   ]
  },
  {
   "cell_type": "code",
   "execution_count": null,
   "id": "1810f85a",
   "metadata": {},
   "outputs": [],
   "source": [
    "# Get predictions from forest fitted above.\n",
    "tau.hat <- predict(forest.tau)$predictions  # tau(X) estimates"
   ]
  },
  {
   "cell_type": "code",
   "execution_count": null,
   "id": "911b2648",
   "metadata": {},
   "outputs": [],
   "source": [
    "# Do not use this for assessing heterogeneity. See text above.\n",
    "hist(tau.hat, main=\"CATE estimates\", freq=F)"
   ]
  },
  {
   "cell_type": "markdown",
   "id": "9fd3bb9d",
   "metadata": {},
   "source": [
    "### Data-driven subgroups"
   ]
  },
  {
   "cell_type": "code",
   "execution_count": 348,
   "id": "f76c012c",
   "metadata": {},
   "outputs": [],
   "source": [
    "# Valid randomized data and observational data with unconfoundedness+overlap.\n",
    "# Note: read the comments below carefully. \n",
    "# In randomized settings, do not estimate forest.e and e.hat; use known assignment probs.\n",
    "\n",
    "# Prepare dataset\n",
    "fmla <- formula(stay ~  tenured + sex + age + \n",
    "                        factor(level) + factor(clasification)\n",
    "                        + cpelec + cpwater + nlat_ie + nlong_ie)\n",
    "X <- model.matrix(fmla, data)\n",
    "W <- data[,treatment]\n",
    "Y <- data[,outcome]\n",
    "n <- nrow(data)\n",
    "\n",
    "# Number of rankings that the predictions will be ranking on \n",
    "# (e.g., 2 for above/below median estimated CATE, 5 for estimated CATE quintiles, etc.)\n",
    "num.rankings <- 5  \n",
    "\n",
    "# Prepare for data.splitting\n",
    "# Assign a fold number to each observation.\n",
    "# The argument 'clusters' in the next step will mimick K-fold cross-fitting.\n",
    "num.folds <- 10\n",
    "folds <- sort(seq(n) %% num.folds) + 1\n",
    "\n",
    "# Comment or uncomment depending on your setting.\n",
    "# Observational setting with unconfoundedness+overlap (unknown assignment probs):\n",
    "# forest <- causal_forest(X, Y, W, clusters = folds)\n",
    "# Randomized settings with fixed and known probabilities (here: 0.5).\n",
    "forest <- causal_forest(X, Y, W, W.hat=.5, clusters = folds)\n",
    "\n",
    "# Retrieve out-of-bag predictions.\n",
    "# Predictions for observation in fold k will be computed using \n",
    "# trees that were not trained using observations for that fold.\n",
    "tau.hat <- predict(forest)$predictions\n",
    "\n",
    "\n",
    "# Rank observations *within each fold* into quintiles according to their CATE predictions.\n",
    "ranking <- rep(NA, n)\n",
    "for (fold in seq(num.folds)) {\n",
    "  tau.hat.quantiles <- quantile(tau.hat[folds == fold], probs = seq(0, 1, by=1/num.rankings))\n",
    "  ranking[folds == fold] <- cut(tau.hat[folds == fold], tau.hat.quantiles, include.lowest=TRUE,labels=seq(num.rankings))\n",
    "}"
   ]
  },
  {
   "cell_type": "code",
   "execution_count": 349,
   "id": "f052f252",
   "metadata": {},
   "outputs": [
    {
     "data": {
      "text/html": [
       "<table class=\"dataframe\">\n",
       "<caption>A data.frame: 5 × 4</caption>\n",
       "<thead>\n",
       "\t<tr><th scope=col>method</th><th scope=col>ranking</th><th scope=col>estimate</th><th scope=col>std.err</th></tr>\n",
       "\t<tr><th scope=col>&lt;chr&gt;</th><th scope=col>&lt;chr&gt;</th><th scope=col>&lt;dbl&gt;</th><th scope=col>&lt;dbl&gt;</th></tr>\n",
       "</thead>\n",
       "<tbody>\n",
       "\t<tr><td>ols</td><td>Q1</td><td>-0.0006833534</td><td>0.01184416</td></tr>\n",
       "\t<tr><td>ols</td><td>Q2</td><td> 0.0376376965</td><td>0.01190606</td></tr>\n",
       "\t<tr><td>ols</td><td>Q3</td><td> 0.0508374746</td><td>0.01201781</td></tr>\n",
       "\t<tr><td>ols</td><td>Q4</td><td> 0.0581020361</td><td>0.01220382</td></tr>\n",
       "\t<tr><td>ols</td><td>Q5</td><td> 0.0660135698</td><td>0.01197571</td></tr>\n",
       "</tbody>\n",
       "</table>\n"
      ],
      "text/latex": [
       "A data.frame: 5 × 4\n",
       "\\begin{tabular}{llll}\n",
       " method & ranking & estimate & std.err\\\\\n",
       " <chr> & <chr> & <dbl> & <dbl>\\\\\n",
       "\\hline\n",
       "\t ols & Q1 & -0.0006833534 & 0.01184416\\\\\n",
       "\t ols & Q2 &  0.0376376965 & 0.01190606\\\\\n",
       "\t ols & Q3 &  0.0508374746 & 0.01201781\\\\\n",
       "\t ols & Q4 &  0.0581020361 & 0.01220382\\\\\n",
       "\t ols & Q5 &  0.0660135698 & 0.01197571\\\\\n",
       "\\end{tabular}\n"
      ],
      "text/markdown": [
       "\n",
       "A data.frame: 5 × 4\n",
       "\n",
       "| method &lt;chr&gt; | ranking &lt;chr&gt; | estimate &lt;dbl&gt; | std.err &lt;dbl&gt; |\n",
       "|---|---|---|---|\n",
       "| ols | Q1 | -0.0006833534 | 0.01184416 |\n",
       "| ols | Q2 |  0.0376376965 | 0.01190606 |\n",
       "| ols | Q3 |  0.0508374746 | 0.01201781 |\n",
       "| ols | Q4 |  0.0581020361 | 0.01220382 |\n",
       "| ols | Q5 |  0.0660135698 | 0.01197571 |\n",
       "\n"
      ],
      "text/plain": [
       "  method ranking estimate      std.err   \n",
       "1 ols    Q1      -0.0006833534 0.01184416\n",
       "2 ols    Q2       0.0376376965 0.01190606\n",
       "3 ols    Q3       0.0508374746 0.01201781\n",
       "4 ols    Q4       0.0581020361 0.01220382\n",
       "5 ols    Q5       0.0660135698 0.01197571"
      ]
     },
     "metadata": {},
     "output_type": "display_data"
    }
   ],
   "source": [
    "# Valid only in randomized settings.\n",
    "# Average difference-in-means within each ranking\n",
    "\n",
    "# Formula y ~ 0 + ranking + ranking:w\n",
    "fmla <- paste0(outcome, \" ~ 0 + ranking + ranking:\", treatment)\n",
    "ols.ate <- lm(fmla, data=transform(data, ranking=factor(ranking)))\n",
    "ols.ate <- coeftest(ols.ate, vcov=vcovHC(ols.ate, type='HC2'))\n",
    "interact <- which(grepl(\":\", rownames(ols.ate)))\n",
    "ols.ate <- data.frame(\"ols\", paste0(\"Q\", seq(num.rankings)), ols.ate[interact, 1:2])\n",
    "rownames(ols.ate) <- NULL # just for display\n",
    "colnames(ols.ate) <- c(\"method\", \"ranking\", \"estimate\", \"std.err\")\n",
    "ols.ate"
   ]
  },
  {
   "cell_type": "code",
   "execution_count": 350,
   "id": "803434d5",
   "metadata": {},
   "outputs": [
    {
     "data": {
      "text/html": [
       "<table class=\"dataframe\">\n",
       "<caption>A data.frame: 5 × 4</caption>\n",
       "<thead>\n",
       "\t<tr><th scope=col>method</th><th scope=col>ranking</th><th scope=col>estimate</th><th scope=col>std.err</th></tr>\n",
       "\t<tr><th scope=col>&lt;chr&gt;</th><th scope=col>&lt;chr&gt;</th><th scope=col>&lt;dbl&gt;</th><th scope=col>&lt;dbl&gt;</th></tr>\n",
       "</thead>\n",
       "<tbody>\n",
       "\t<tr><td>aipw</td><td>Q1</td><td>-0.003066489</td><td>0.01139729</td></tr>\n",
       "\t<tr><td>aipw</td><td>Q2</td><td> 0.030122044</td><td>0.01148100</td></tr>\n",
       "\t<tr><td>aipw</td><td>Q3</td><td> 0.031517965</td><td>0.01144457</td></tr>\n",
       "\t<tr><td>aipw</td><td>Q4</td><td> 0.037579282</td><td>0.01157194</td></tr>\n",
       "\t<tr><td>aipw</td><td>Q5</td><td> 0.039376233</td><td>0.01154666</td></tr>\n",
       "</tbody>\n",
       "</table>\n"
      ],
      "text/latex": [
       "A data.frame: 5 × 4\n",
       "\\begin{tabular}{llll}\n",
       " method & ranking & estimate & std.err\\\\\n",
       " <chr> & <chr> & <dbl> & <dbl>\\\\\n",
       "\\hline\n",
       "\t aipw & Q1 & -0.003066489 & 0.01139729\\\\\n",
       "\t aipw & Q2 &  0.030122044 & 0.01148100\\\\\n",
       "\t aipw & Q3 &  0.031517965 & 0.01144457\\\\\n",
       "\t aipw & Q4 &  0.037579282 & 0.01157194\\\\\n",
       "\t aipw & Q5 &  0.039376233 & 0.01154666\\\\\n",
       "\\end{tabular}\n"
      ],
      "text/markdown": [
       "\n",
       "A data.frame: 5 × 4\n",
       "\n",
       "| method &lt;chr&gt; | ranking &lt;chr&gt; | estimate &lt;dbl&gt; | std.err &lt;dbl&gt; |\n",
       "|---|---|---|---|\n",
       "| aipw | Q1 | -0.003066489 | 0.01139729 |\n",
       "| aipw | Q2 |  0.030122044 | 0.01148100 |\n",
       "| aipw | Q3 |  0.031517965 | 0.01144457 |\n",
       "| aipw | Q4 |  0.037579282 | 0.01157194 |\n",
       "| aipw | Q5 |  0.039376233 | 0.01154666 |\n",
       "\n"
      ],
      "text/plain": [
       "  method ranking estimate     std.err   \n",
       "1 aipw   Q1      -0.003066489 0.01139729\n",
       "2 aipw   Q2       0.030122044 0.01148100\n",
       "3 aipw   Q3       0.031517965 0.01144457\n",
       "4 aipw   Q4       0.037579282 0.01157194\n",
       "5 aipw   Q5       0.039376233 0.01154666"
      ]
     },
     "metadata": {},
     "output_type": "display_data"
    }
   ],
   "source": [
    "# Computing AIPW scores.\n",
    "tau.hat <- predict(forest)$predictions\n",
    "e.hat <- forest$W.hat # P[W=1|X]\n",
    "m.hat <- forest$Y.hat # E[Y|X]\n",
    "\n",
    "# Estimating mu.hat(X, 1) and mu.hat(X, 0) for obs in held-out sample\n",
    "# Note: to understand this, read equations 6-8 in this vignette:\n",
    "# https://grf-labs.github.io/grf/articles/muhats.html\n",
    "mu.hat.0 <- m.hat - e.hat * tau.hat        # E[Y|X,W=0] = E[Y|X] - e(X)*tau(X)\n",
    "mu.hat.1 <- m.hat + (1 - e.hat) * tau.hat  # E[Y|X,W=1] = E[Y|X] + (1 - e(X))*tau(X)\n",
    "\n",
    "# AIPW scores\n",
    "aipw.scores <- tau.hat + W / e.hat * (Y -  mu.hat.1) - (1 - W) / (1 - e.hat) * (Y -  mu.hat.0)\n",
    "ols <- lm(aipw.scores ~ 0 + factor(ranking))\n",
    "forest.ate <- data.frame(\"aipw\", paste0(\"Q\", seq(num.rankings)), coeftest(ols, vcov=vcovHC(ols, \"HC2\"))[,1:2])\n",
    "colnames(forest.ate) <- c(\"method\", \"ranking\", \"estimate\", \"std.err\")\n",
    "rownames(forest.ate) <- NULL # just for display\n",
    "forest.ate"
   ]
  },
  {
   "cell_type": "code",
   "execution_count": 361,
   "id": "4da3d645",
   "metadata": {},
   "outputs": [
    {
     "data": {
      "image/png": "[encoded data removed]",
      "text/plain": [
       "plot without title"
      ]
     },
     "metadata": {
      "image/png": {
       "height": 600,
       "width": 900
      }
     },
     "output_type": "display_data"
    }
   ],
   "source": [
    "# Concatenate the two results.\n",
    "res <- rbind(forest.ate, ols.ate)\n",
    "\n",
    "# Plotting the point estimate of average treatment effect \n",
    "# and 95% confidence intervals around it.\n",
    "ggplot(res) +\n",
    "  aes(x = ranking, y = estimate, group=method, color=method, fig(50,50)) + \n",
    "  geom_point(position=position_dodge(0.2)) +\n",
    "  geom_errorbar(aes(ymin=estimate-2*std.err, ymax=estimate+2*std.err), width=.2, position=position_dodge(0.2)) +\n",
    "  ylab(\"\") + xlab(\"\") +\n",
    "  ggtitle(\"Average CATE within each ranking (as defined by predicted CATE)\") +\n",
    "  theme_minimal() +\n",
    "  theme(plot.title = element_text(size = 15, face = \"bold\"),\n",
    "        axis.text=element_text(size=15), \n",
    "        legend.position=\"bottom\", legend.title = element_blank(), legend.text = element_text(size=20))"
   ]
  },
  {
   "cell_type": "markdown",
   "id": "944d1a90",
   "metadata": {},
   "source": [
    "### Test predictions using difference-in-means estimator"
   ]
  },
  {
   "cell_type": "code",
   "execution_count": null,
   "id": "c3140032",
   "metadata": {},
   "outputs": [],
   "source": [
    "# Valid in randomized settings only.\n",
    "\n",
    "# y ~ ranking + w + ranking:w\n",
    "fmla <- paste0(outcome, \"~ ranking + \", treatment, \" + ranking:\", treatment) \n",
    "ols <- lm(fmla, data=transform(data, ranking=factor(ranking)))\n",
    "interact <- which(sapply(names(coef(ols)), function(x) grepl(\":\", x)))\n",
    "res <- summary_rw_lm(ols, indices=interact)\n",
    "rownames(res) <- paste(\"Rank\", 2:num.rankings, \"- Rank 1\") # just for display\n",
    "res"
   ]
  },
  {
   "cell_type": "code",
   "execution_count": 365,
   "id": "54ec767a",
   "metadata": {},
   "outputs": [
    {
     "data": {
      "text/html": [
       "<table class=\"dataframe\">\n",
       "<caption>A matrix: 4 × 4 of type dbl</caption>\n",
       "<thead>\n",
       "\t<tr><th></th><th scope=col>Estimate</th><th scope=col>Std. Error</th><th scope=col>Orig. p-value</th><th scope=col>Adj. p-value</th></tr>\n",
       "</thead>\n",
       "<tbody>\n",
       "\t<tr><th scope=row>Rank 2 - Rank 1</th><td>0.03318853</td><td>0.01624464</td><td>0.041056746</td><td>0.0615</td></tr>\n",
       "\t<tr><th scope=row>Rank 3 - Rank 1</th><td>0.03458445</td><td>0.01624464</td><td>0.033264400</td><td>0.0615</td></tr>\n",
       "\t<tr><th scope=row>Rank 4 - Rank 1</th><td>0.04064577</td><td>0.01624326</td><td>0.012343736</td><td>0.0347</td></tr>\n",
       "\t<tr><th scope=row>Rank 5 - Rank 1</th><td>0.04244272</td><td>0.01624601</td><td>0.008992769</td><td>0.0335</td></tr>\n",
       "</tbody>\n",
       "</table>\n"
      ],
      "text/latex": [
       "A matrix: 4 × 4 of type dbl\n",
       "\\begin{tabular}{r|llll}\n",
       "  & Estimate & Std. Error & Orig. p-value & Adj. p-value\\\\\n",
       "\\hline\n",
       "\tRank 2 - Rank 1 & 0.03318853 & 0.01624464 & 0.041056746 & 0.0615\\\\\n",
       "\tRank 3 - Rank 1 & 0.03458445 & 0.01624464 & 0.033264400 & 0.0615\\\\\n",
       "\tRank 4 - Rank 1 & 0.04064577 & 0.01624326 & 0.012343736 & 0.0347\\\\\n",
       "\tRank 5 - Rank 1 & 0.04244272 & 0.01624601 & 0.008992769 & 0.0335\\\\\n",
       "\\end{tabular}\n"
      ],
      "text/markdown": [
       "\n",
       "A matrix: 4 × 4 of type dbl\n",
       "\n",
       "| <!--/--> | Estimate | Std. Error | Orig. p-value | Adj. p-value |\n",
       "|---|---|---|---|---|\n",
       "| Rank 2 - Rank 1 | 0.03318853 | 0.01624464 | 0.041056746 | 0.0615 |\n",
       "| Rank 3 - Rank 1 | 0.03458445 | 0.01624464 | 0.033264400 | 0.0615 |\n",
       "| Rank 4 - Rank 1 | 0.04064577 | 0.01624326 | 0.012343736 | 0.0347 |\n",
       "| Rank 5 - Rank 1 | 0.04244272 | 0.01624601 | 0.008992769 | 0.0335 |\n",
       "\n"
      ],
      "text/plain": [
       "                Estimate   Std. Error Orig. p-value Adj. p-value\n",
       "Rank 2 - Rank 1 0.03318853 0.01624464 0.041056746   0.0615      \n",
       "Rank 3 - Rank 1 0.03458445 0.01624464 0.033264400   0.0615      \n",
       "Rank 4 - Rank 1 0.04064577 0.01624326 0.012343736   0.0347      \n",
       "Rank 5 - Rank 1 0.04244272 0.01624601 0.008992769   0.0335      "
      ]
     },
     "metadata": {},
     "output_type": "display_data"
    }
   ],
   "source": [
    "# Valid in randomized and observational settings with unconfoundedness+overlap.\n",
    "\n",
    "# Using AIPW scores computed above\n",
    "ols <- lm(aipw.scores ~ 1 + factor(ranking))\n",
    "res <- summary_rw_lm(ols, indices=2:num.rankings)\n",
    "rownames(res) <- paste(\"Rank\", 2:num.rankings, \"- Rank 1\") # just for display\n",
    "res"
   ]
  },
  {
   "cell_type": "code",
   "execution_count": 366,
   "id": "b631f8cd",
   "metadata": {},
   "outputs": [
    {
     "data": {
      "image/png": "[encoded data removed]",
      "text/plain": [
       "plot without title"
      ]
     },
     "metadata": {
      "image/png": {
       "height": 600,
       "width": 900
      }
     },
     "output_type": "display_data"
    }
   ],
   "source": [
    "covariates = c(\"tenured\", \"sex\", \"age\", \"cpelec\", \"cpwater\", \"nlat_ie\", \"nlong_ie\")\n",
    "df <- mapply(function(covariate) {\n",
    "      # Looping over covariate names\n",
    "      # Compute average covariate value per ranking (with correct standard errors)\n",
    "      fmla <- formula(paste0(covariate, \"~ 0 + ranking\"))\n",
    "      ols <- lm(fmla, data=transform(data, ranking=factor(ranking)))\n",
    "      ols.res <- coeftest(ols, vcov=vcovHC(ols, \"HC2\"))\n",
    "    \n",
    "      # Retrieve results\n",
    "      avg <- ols.res[,1]\n",
    "      stderr <- ols.res[,2]\n",
    "      \n",
    "      # Tally up results\n",
    "      data.frame(covariate, avg, stderr, ranking=paste0(\"Q\", seq(num.rankings)), \n",
    "                 # Used for coloring\n",
    "                 scaling=pnorm((avg - mean(avg))/sd(avg)), \n",
    "                 # We will order based on how much variation is 'explain' by the averages\n",
    "                 # relative to the total variation of the covariate in the data\n",
    "                 variation=sd(avg) / sd(data[,covariate]),\n",
    "                 # String to print in each cell in heatmap below\n",
    "                 labels=paste0(signif(avg, 3), \"\\n\", \"(\", signif(stderr, 3), \")\"))\n",
    "}, covariates, SIMPLIFY = FALSE)\n",
    "df <- do.call(rbind, df)\n",
    "\n",
    "\n",
    "# a small optional trick to ensure heatmap will be in decreasing order of 'variation'\n",
    "df$covariate <- reorder(df$covariate, order(df$variation))\n",
    "\n",
    "# plot heatmap\n",
    "ggplot(df) +\n",
    "    aes(ranking, covariate) +\n",
    "    geom_tile(aes(fill = scaling)) + \n",
    "    geom_text(aes(label = labels)) +\n",
    "    scale_fill_gradient(low = \"#E1BE6A\", high = \"#40B0A6\") +\n",
    "    ggtitle(paste0(\"Average covariate values within group (based on CATE estimate ranking)\")) +\n",
    "    theme_minimal() + \n",
    "    ylab(\"\") + xlab(\"CATE estimate ranking\") +\n",
    "    theme(plot.title = element_text(size = 11, face = \"bold\"),\n",
    "          axis.text=element_text(size=11)) "
   ]
  },
  {
   "cell_type": "markdown",
   "id": "69e7f7f6",
   "metadata": {},
   "source": [
    "### Best linear projection"
   ]
  },
  {
   "cell_type": "code",
   "execution_count": 367,
   "id": "f49d82b1",
   "metadata": {},
   "outputs": [
    {
     "data": {
      "text/plain": [
       "\n",
       "Best linear projection of the conditional average treatment effect.\n",
       "Confidence intervals are cluster- and heteroskedasticity-robust (HC3):\n",
       "\n",
       "                          Estimate  Std. Error t value Pr(>|t|)   \n",
       "(Intercept)             5.7431e-02  5.2265e-02  1.0988 0.271847   \n",
       "sex                    -2.8068e-02  9.9715e-03 -2.8149 0.004883 **\n",
       "age                     5.2252e-04  5.1451e-04  1.0156 0.309847   \n",
       "factor.level.2         -4.0124e-02  2.5636e-02 -1.5651 0.117567   \n",
       "factor.level.3         -2.6681e-02  3.2277e-02 -0.8266 0.408457   \n",
       "factor.clasification.2  1.4319e-02  2.0062e-02  0.7137 0.475402   \n",
       "factor.clasification.3  3.2632e-03  2.4939e-02  0.1308 0.895897   \n",
       "cpelec                  1.5693e-03  1.0247e-02  0.1531 0.878287   \n",
       "cpwater                -4.9811e-03  1.4939e-02 -0.3334 0.738815   \n",
       "x_dim                  -2.0410e-05  4.1090e-05 -0.4967 0.619389   \n",
       "y_dim                  -1.2215e-06  2.8058e-05 -0.0435 0.965277   \n",
       "---\n",
       "Signif. codes:  0 '***' 0.001 '**' 0.01 '*' 0.05 '.' 0.1 ' ' 1\n"
      ]
     },
     "metadata": {},
     "output_type": "display_data"
    }
   ],
   "source": [
    "# Best linear projection of the conditional average treatment effect on covariates\n",
    "best_linear_projection(forest.tau, X)\n"
   ]
  },
  {
   "cell_type": "markdown",
   "id": "029216f5",
   "metadata": {},
   "source": [
    "### Assessing heterogeneity"
   ]
  },
  {
   "cell_type": "code",
   "execution_count": null,
   "id": "6a84a76e",
   "metadata": {},
   "outputs": [],
   "source": [
    "test_calibration(forest.tau)"
   ]
  },
  {
   "cell_type": "markdown",
   "id": "d10edfa7",
   "metadata": {},
   "source": [
    "## 2. Using LATITUDE and LONGITUDE escalated"
   ]
  },
  {
   "cell_type": "code",
   "execution_count": 319,
   "id": "60aa3dc7",
   "metadata": {},
   "outputs": [],
   "source": [
    "# covariates = c(\"tenured\", \"level\", \"sex\", \"age\", \"clasification\", \n",
    "#                \"cpelec\", \"cpwater\", \"nlat_ie\", \"nlong_ie\")\n",
    "fmla <- formula(stay ~  tenured + sex + age + \n",
    "                        factor(level) + factor(clasification)\n",
    "                        + cpelec + cpwater + x_dim + y_dim)"
   ]
  },
  {
   "cell_type": "code",
   "execution_count": 320,
   "id": "b2eb6195",
   "metadata": {},
   "outputs": [],
   "source": [
    "# Preparing data to fit a causal forest\n",
    "# fmla <- formula(paste0(\"~ 0 +\", paste0(covariates, collapse=\"+\")))\n",
    "XX <- model.matrix(fmla, data)\n",
    "W <- data[,treatment]\n",
    "Y <- data[,outcome]"
   ]
  },
  {
   "cell_type": "code",
   "execution_count": 321,
   "id": "3136de20",
   "metadata": {},
   "outputs": [],
   "source": [
    "forest.tau <- causal_forest(XX, Y, W)"
   ]
  },
  {
   "cell_type": "code",
   "execution_count": 322,
   "id": "1810f85a",
   "metadata": {},
   "outputs": [],
   "source": [
    "# Get predictions from forest fitted above.\n",
    "tau.hat <- predict(forest.tau)$predictions  # tau(X) estimates"
   ]
  },
  {
   "cell_type": "code",
   "execution_count": 323,
   "id": "911b2648",
   "metadata": {},
   "outputs": [
    {
     "data": {
      "image/png": "[encoded data removed]",
      "text/plain": [
       "Plot with title \"CATE estimates\""
      ]
     },
     "metadata": {
      "image/png": {
       "height": 600,
       "width": 900
      }
     },
     "output_type": "display_data"
    }
   ],
   "source": [
    "# Do not use this for assessing heterogeneity. See text above.\n",
    "hist(tau.hat, main=\"CATE estimates\", freq=F)"
   ]
  },
  {
   "cell_type": "code",
   "execution_count": 333,
   "id": "5f40c48c",
   "metadata": {},
   "outputs": [
    {
     "data": {
      "text/html": [
       "<style>\n",
       ".dl-inline {width: auto; margin:0; padding: 0}\n",
       ".dl-inline>dt, .dl-inline>dd {float: none; width: auto; display: inline-block}\n",
       ".dl-inline>dt::after {content: \":\\0020\"; padding-right: .5ex}\n",
       ".dl-inline>dt:not(:first-of-type) {padding-left: .5ex}\n",
       "</style><dl class=dl-inline><dt>1</dt><dd>0.366403745904063</dd><dt>2</dt><dd>0.332011208015779</dd><dt>cpelec</dt><dd>0.112395439816506</dd><dt>4</dt><dd>0.0790420956983443</dd><dt>age</dt><dd>0.0383326145664162</dd></dl>\n"
      ],
      "text/latex": [
       "\\begin{description*}\n",
       "\\item[1] 0.366403745904063\n",
       "\\item[2] 0.332011208015779\n",
       "\\item[cpelec] 0.112395439816506\n",
       "\\item[4] 0.0790420956983443\n",
       "\\item[age] 0.0383326145664162\n",
       "\\end{description*}\n"
      ],
      "text/markdown": [
       "1\n",
       ":   0.3664037459040632\n",
       ":   0.332011208015779cpelec\n",
       ":   0.1123954398165064\n",
       ":   0.0790420956983443age\n",
       ":   0.0383326145664162\n",
       "\n"
      ],
      "text/plain": [
       "      <NA>       <NA>     cpelec       <NA>        age \n",
       "0.36640375 0.33201121 0.11239544 0.07904210 0.03833261 "
      ]
     },
     "metadata": {},
     "output_type": "display_data"
    }
   ],
   "source": [
    "# measure of variable importance that indicates how often a variable was used in a tree split. \n",
    "var_imp <- c(variable_importance(forest.tau))\n",
    "names(var_imp) <- covariates\n",
    "sorted_var_imp <- sort(var_imp, decreasing = TRUE)\n",
    "sorted_var_imp[1:5]  # showing only first few"
   ]
  },
  {
   "cell_type": "markdown",
   "id": "c001a6b4",
   "metadata": {},
   "source": [
    "### Data-driven subgroups"
   ]
  },
  {
   "cell_type": "code",
   "execution_count": 348,
   "id": "4d0ce47e",
   "metadata": {},
   "outputs": [],
   "source": [
    "# Valid randomized data and observational data with unconfoundedness+overlap.\n",
    "# Note: read the comments below carefully. \n",
    "# In randomized settings, do not estimate forest.e and e.hat; use known assignment probs.\n",
    "\n",
    "# Prepare dataset\n",
    "fmla <- formula(stay ~  tenured + sex + age + \n",
    "                        factor(level) + factor(clasification)\n",
    "                        + cpelec + cpwater + x_dim + y_dim)\n",
    "X <- model.matrix(fmla, data)\n",
    "W <- data[,treatment]\n",
    "Y <- data[,outcome]\n",
    "n <- nrow(data)\n",
    "\n",
    "# Number of rankings that the predictions will be ranking on \n",
    "# (e.g., 2 for above/below median estimated CATE, 5 for estimated CATE quintiles, etc.)\n",
    "num.rankings <- 5  \n",
    "\n",
    "# Prepare for data.splitting\n",
    "# Assign a fold number to each observation.\n",
    "# The argument 'clusters' in the next step will mimick K-fold cross-fitting.\n",
    "num.folds <- 10\n",
    "folds <- sort(seq(n) %% num.folds) + 1\n",
    "\n",
    "# Comment or uncomment depending on your setting.\n",
    "# Observational setting with unconfoundedness+overlap (unknown assignment probs):\n",
    "# forest <- causal_forest(X, Y, W, clusters = folds)\n",
    "# Randomized settings with fixed and known probabilities (here: 0.5).\n",
    "forest <- causal_forest(X, Y, W, W.hat=.5, clusters = folds)\n",
    "\n",
    "# Retrieve out-of-bag predictions.\n",
    "# Predictions for observation in fold k will be computed using \n",
    "# trees that were not trained using observations for that fold.\n",
    "tau.hat <- predict(forest)$predictions\n",
    "\n",
    "\n",
    "# Rank observations *within each fold* into quintiles according to their CATE predictions.\n",
    "ranking <- rep(NA, n)\n",
    "for (fold in seq(num.folds)) {\n",
    "  tau.hat.quantiles <- quantile(tau.hat[folds == fold], probs = seq(0, 1, by=1/num.rankings))\n",
    "  ranking[folds == fold] <- cut(tau.hat[folds == fold], tau.hat.quantiles, include.lowest=TRUE,labels=seq(num.rankings))\n",
    "}"
   ]
  },
  {
   "cell_type": "code",
   "execution_count": 349,
   "id": "ae214378",
   "metadata": {},
   "outputs": [
    {
     "data": {
      "text/html": [
       "<table class=\"dataframe\">\n",
       "<caption>A data.frame: 5 × 4</caption>\n",
       "<thead>\n",
       "\t<tr><th scope=col>method</th><th scope=col>ranking</th><th scope=col>estimate</th><th scope=col>std.err</th></tr>\n",
       "\t<tr><th scope=col>&lt;chr&gt;</th><th scope=col>&lt;chr&gt;</th><th scope=col>&lt;dbl&gt;</th><th scope=col>&lt;dbl&gt;</th></tr>\n",
       "</thead>\n",
       "<tbody>\n",
       "\t<tr><td>ols</td><td>Q1</td><td>-0.0006833534</td><td>0.01184416</td></tr>\n",
       "\t<tr><td>ols</td><td>Q2</td><td> 0.0376376965</td><td>0.01190606</td></tr>\n",
       "\t<tr><td>ols</td><td>Q3</td><td> 0.0508374746</td><td>0.01201781</td></tr>\n",
       "\t<tr><td>ols</td><td>Q4</td><td> 0.0581020361</td><td>0.01220382</td></tr>\n",
       "\t<tr><td>ols</td><td>Q5</td><td> 0.0660135698</td><td>0.01197571</td></tr>\n",
       "</tbody>\n",
       "</table>\n"
      ],
      "text/latex": [
       "A data.frame: 5 × 4\n",
       "\\begin{tabular}{llll}\n",
       " method & ranking & estimate & std.err\\\\\n",
       " <chr> & <chr> & <dbl> & <dbl>\\\\\n",
       "\\hline\n",
       "\t ols & Q1 & -0.0006833534 & 0.01184416\\\\\n",
       "\t ols & Q2 &  0.0376376965 & 0.01190606\\\\\n",
       "\t ols & Q3 &  0.0508374746 & 0.01201781\\\\\n",
       "\t ols & Q4 &  0.0581020361 & 0.01220382\\\\\n",
       "\t ols & Q5 &  0.0660135698 & 0.01197571\\\\\n",
       "\\end{tabular}\n"
      ],
      "text/markdown": [
       "\n",
       "A data.frame: 5 × 4\n",
       "\n",
       "| method &lt;chr&gt; | ranking &lt;chr&gt; | estimate &lt;dbl&gt; | std.err &lt;dbl&gt; |\n",
       "|---|---|---|---|\n",
       "| ols | Q1 | -0.0006833534 | 0.01184416 |\n",
       "| ols | Q2 |  0.0376376965 | 0.01190606 |\n",
       "| ols | Q3 |  0.0508374746 | 0.01201781 |\n",
       "| ols | Q4 |  0.0581020361 | 0.01220382 |\n",
       "| ols | Q5 |  0.0660135698 | 0.01197571 |\n",
       "\n"
      ],
      "text/plain": [
       "  method ranking estimate      std.err   \n",
       "1 ols    Q1      -0.0006833534 0.01184416\n",
       "2 ols    Q2       0.0376376965 0.01190606\n",
       "3 ols    Q3       0.0508374746 0.01201781\n",
       "4 ols    Q4       0.0581020361 0.01220382\n",
       "5 ols    Q5       0.0660135698 0.01197571"
      ]
     },
     "metadata": {},
     "output_type": "display_data"
    }
   ],
   "source": [
    "# Valid only in randomized settings.\n",
    "# Average difference-in-means within each ranking\n",
    "\n",
    "# Formula y ~ 0 + ranking + ranking:w\n",
    "fmla <- paste0(outcome, \" ~ 0 + ranking + ranking:\", treatment)\n",
    "ols.ate <- lm(fmla, data=transform(data, ranking=factor(ranking)))\n",
    "ols.ate <- coeftest(ols.ate, vcov=vcovHC(ols.ate, type='HC2'))\n",
    "interact <- which(grepl(\":\", rownames(ols.ate)))\n",
    "ols.ate <- data.frame(\"ols\", paste0(\"Q\", seq(num.rankings)), ols.ate[interact, 1:2])\n",
    "rownames(ols.ate) <- NULL # just for display\n",
    "colnames(ols.ate) <- c(\"method\", \"ranking\", \"estimate\", \"std.err\")\n",
    "ols.ate"
   ]
  },
  {
   "cell_type": "code",
   "execution_count": 350,
   "id": "1511e71b",
   "metadata": {},
   "outputs": [
    {
     "data": {
      "text/html": [
       "<table class=\"dataframe\">\n",
       "<caption>A data.frame: 5 × 4</caption>\n",
       "<thead>\n",
       "\t<tr><th scope=col>method</th><th scope=col>ranking</th><th scope=col>estimate</th><th scope=col>std.err</th></tr>\n",
       "\t<tr><th scope=col>&lt;chr&gt;</th><th scope=col>&lt;chr&gt;</th><th scope=col>&lt;dbl&gt;</th><th scope=col>&lt;dbl&gt;</th></tr>\n",
       "</thead>\n",
       "<tbody>\n",
       "\t<tr><td>aipw</td><td>Q1</td><td>-0.003066489</td><td>0.01139729</td></tr>\n",
       "\t<tr><td>aipw</td><td>Q2</td><td> 0.030122044</td><td>0.01148100</td></tr>\n",
       "\t<tr><td>aipw</td><td>Q3</td><td> 0.031517965</td><td>0.01144457</td></tr>\n",
       "\t<tr><td>aipw</td><td>Q4</td><td> 0.037579282</td><td>0.01157194</td></tr>\n",
       "\t<tr><td>aipw</td><td>Q5</td><td> 0.039376233</td><td>0.01154666</td></tr>\n",
       "</tbody>\n",
       "</table>\n"
      ],
      "text/latex": [
       "A data.frame: 5 × 4\n",
       "\\begin{tabular}{llll}\n",
       " method & ranking & estimate & std.err\\\\\n",
       " <chr> & <chr> & <dbl> & <dbl>\\\\\n",
       "\\hline\n",
       "\t aipw & Q1 & -0.003066489 & 0.01139729\\\\\n",
       "\t aipw & Q2 &  0.030122044 & 0.01148100\\\\\n",
       "\t aipw & Q3 &  0.031517965 & 0.01144457\\\\\n",
       "\t aipw & Q4 &  0.037579282 & 0.01157194\\\\\n",
       "\t aipw & Q5 &  0.039376233 & 0.01154666\\\\\n",
       "\\end{tabular}\n"
      ],
      "text/markdown": [
       "\n",
       "A data.frame: 5 × 4\n",
       "\n",
       "| method &lt;chr&gt; | ranking &lt;chr&gt; | estimate &lt;dbl&gt; | std.err &lt;dbl&gt; |\n",
       "|---|---|---|---|\n",
       "| aipw | Q1 | -0.003066489 | 0.01139729 |\n",
       "| aipw | Q2 |  0.030122044 | 0.01148100 |\n",
       "| aipw | Q3 |  0.031517965 | 0.01144457 |\n",
       "| aipw | Q4 |  0.037579282 | 0.01157194 |\n",
       "| aipw | Q5 |  0.039376233 | 0.01154666 |\n",
       "\n"
      ],
      "text/plain": [
       "  method ranking estimate     std.err   \n",
       "1 aipw   Q1      -0.003066489 0.01139729\n",
       "2 aipw   Q2       0.030122044 0.01148100\n",
       "3 aipw   Q3       0.031517965 0.01144457\n",
       "4 aipw   Q4       0.037579282 0.01157194\n",
       "5 aipw   Q5       0.039376233 0.01154666"
      ]
     },
     "metadata": {},
     "output_type": "display_data"
    }
   ],
   "source": [
    "# Computing AIPW scores.\n",
    "tau.hat <- predict(forest)$predictions\n",
    "e.hat <- forest$W.hat # P[W=1|X]\n",
    "m.hat <- forest$Y.hat # E[Y|X]\n",
    "\n",
    "# Estimating mu.hat(X, 1) and mu.hat(X, 0) for obs in held-out sample\n",
    "# Note: to understand this, read equations 6-8 in this vignette:\n",
    "# https://grf-labs.github.io/grf/articles/muhats.html\n",
    "mu.hat.0 <- m.hat - e.hat * tau.hat        # E[Y|X,W=0] = E[Y|X] - e(X)*tau(X)\n",
    "mu.hat.1 <- m.hat + (1 - e.hat) * tau.hat  # E[Y|X,W=1] = E[Y|X] + (1 - e(X))*tau(X)\n",
    "\n",
    "# AIPW scores\n",
    "aipw.scores <- tau.hat + W / e.hat * (Y -  mu.hat.1) - (1 - W) / (1 - e.hat) * (Y -  mu.hat.0)\n",
    "ols <- lm(aipw.scores ~ 0 + factor(ranking))\n",
    "forest.ate <- data.frame(\"aipw\", paste0(\"Q\", seq(num.rankings)), coeftest(ols, vcov=vcovHC(ols, \"HC2\"))[,1:2])\n",
    "colnames(forest.ate) <- c(\"method\", \"ranking\", \"estimate\", \"std.err\")\n",
    "rownames(forest.ate) <- NULL # just for display\n",
    "forest.ate"
   ]
  },
  {
   "cell_type": "code",
   "execution_count": 361,
   "id": "93f6acdd",
   "metadata": {},
   "outputs": [
    {
     "data": {
      "image/png": "[encoded data removed]",
      "text/plain": [
       "plot without title"
      ]
     },
     "metadata": {
      "image/png": {
       "height": 600,
       "width": 900
      }
     },
     "output_type": "display_data"
    }
   ],
   "source": [
    "# Concatenate the two results.\n",
    "res <- rbind(forest.ate, ols.ate)\n",
    "\n",
    "# Plotting the point estimate of average treatment effect \n",
    "# and 95% confidence intervals around it.\n",
    "ggplot(res) +\n",
    "  aes(x = ranking, y = estimate, group=method, color=method, fig(50,50)) + \n",
    "  geom_point(position=position_dodge(0.2)) +\n",
    "  geom_errorbar(aes(ymin=estimate-2*std.err, ymax=estimate+2*std.err), width=.2, position=position_dodge(0.2)) +\n",
    "  ylab(\"\") + xlab(\"\") +\n",
    "  ggtitle(\"Average CATE within each ranking (as defined by predicted CATE)\") +\n",
    "  theme_minimal() +\n",
    "  theme(plot.title = element_text(size = 15, face = \"bold\"),\n",
    "        axis.text=element_text(size=15), \n",
    "        legend.position=\"bottom\", legend.title = element_blank(), legend.text = element_text(size=20))"
   ]
  },
  {
   "cell_type": "markdown",
   "id": "3c1987c8",
   "metadata": {},
   "source": [
    "### Test predictions using difference-in-means estimator"
   ]
  },
  {
   "cell_type": "code",
   "execution_count": 364,
   "id": "408beedd",
   "metadata": {},
   "outputs": [
    {
     "data": {
      "text/html": [
       "<table class=\"dataframe\">\n",
       "<caption>A matrix: 4 × 4 of type dbl</caption>\n",
       "<thead>\n",
       "\t<tr><th></th><th scope=col>Estimate</th><th scope=col>Std. Error</th><th scope=col>Orig. p-value</th><th scope=col>Adj. p-value</th></tr>\n",
       "</thead>\n",
       "<tbody>\n",
       "\t<tr><th scope=row>Rank 2 - Rank 1</th><td>0.03832105</td><td>0.01694792</td><td>2.375994e-02</td><td>0.0243</td></tr>\n",
       "\t<tr><th scope=row>Rank 3 - Rank 1</th><td>0.05152083</td><td>0.01712400</td><td>2.625966e-03</td><td>0.0056</td></tr>\n",
       "\t<tr><th scope=row>Rank 4 - Rank 1</th><td>0.05878539</td><td>0.01717450</td><td>6.205685e-04</td><td>0.0017</td></tr>\n",
       "\t<tr><th scope=row>Rank 5 - Rank 1</th><td>0.06669692</td><td>0.01709288</td><td>9.560029e-05</td><td>0.0003</td></tr>\n",
       "</tbody>\n",
       "</table>\n"
      ],
      "text/latex": [
       "A matrix: 4 × 4 of type dbl\n",
       "\\begin{tabular}{r|llll}\n",
       "  & Estimate & Std. Error & Orig. p-value & Adj. p-value\\\\\n",
       "\\hline\n",
       "\tRank 2 - Rank 1 & 0.03832105 & 0.01694792 & 2.375994e-02 & 0.0243\\\\\n",
       "\tRank 3 - Rank 1 & 0.05152083 & 0.01712400 & 2.625966e-03 & 0.0056\\\\\n",
       "\tRank 4 - Rank 1 & 0.05878539 & 0.01717450 & 6.205685e-04 & 0.0017\\\\\n",
       "\tRank 5 - Rank 1 & 0.06669692 & 0.01709288 & 9.560029e-05 & 0.0003\\\\\n",
       "\\end{tabular}\n"
      ],
      "text/markdown": [
       "\n",
       "A matrix: 4 × 4 of type dbl\n",
       "\n",
       "| <!--/--> | Estimate | Std. Error | Orig. p-value | Adj. p-value |\n",
       "|---|---|---|---|---|\n",
       "| Rank 2 - Rank 1 | 0.03832105 | 0.01694792 | 2.375994e-02 | 0.0243 |\n",
       "| Rank 3 - Rank 1 | 0.05152083 | 0.01712400 | 2.625966e-03 | 0.0056 |\n",
       "| Rank 4 - Rank 1 | 0.05878539 | 0.01717450 | 6.205685e-04 | 0.0017 |\n",
       "| Rank 5 - Rank 1 | 0.06669692 | 0.01709288 | 9.560029e-05 | 0.0003 |\n",
       "\n"
      ],
      "text/plain": [
       "                Estimate   Std. Error Orig. p-value Adj. p-value\n",
       "Rank 2 - Rank 1 0.03832105 0.01694792 2.375994e-02  0.0243      \n",
       "Rank 3 - Rank 1 0.05152083 0.01712400 2.625966e-03  0.0056      \n",
       "Rank 4 - Rank 1 0.05878539 0.01717450 6.205685e-04  0.0017      \n",
       "Rank 5 - Rank 1 0.06669692 0.01709288 9.560029e-05  0.0003      "
      ]
     },
     "metadata": {},
     "output_type": "display_data"
    }
   ],
   "source": [
    "# Valid in randomized settings only.\n",
    "\n",
    "# y ~ ranking + w + ranking:w\n",
    "fmla <- paste0(outcome, \"~ ranking + \", treatment, \" + ranking:\", treatment) \n",
    "ols <- lm(fmla, data=transform(data, ranking=factor(ranking)))\n",
    "interact <- which(sapply(names(coef(ols)), function(x) grepl(\":\", x)))\n",
    "res <- summary_rw_lm(ols, indices=interact)\n",
    "rownames(res) <- paste(\"Rank\", 2:num.rankings, \"- Rank 1\") # just for display\n",
    "res"
   ]
  },
  {
   "cell_type": "code",
   "execution_count": 365,
   "id": "807d494f",
   "metadata": {},
   "outputs": [
    {
     "data": {
      "text/html": [
       "<table class=\"dataframe\">\n",
       "<caption>A matrix: 4 × 4 of type dbl</caption>\n",
       "<thead>\n",
       "\t<tr><th></th><th scope=col>Estimate</th><th scope=col>Std. Error</th><th scope=col>Orig. p-value</th><th scope=col>Adj. p-value</th></tr>\n",
       "</thead>\n",
       "<tbody>\n",
       "\t<tr><th scope=row>Rank 2 - Rank 1</th><td>0.03318853</td><td>0.01624464</td><td>0.041056746</td><td>0.0615</td></tr>\n",
       "\t<tr><th scope=row>Rank 3 - Rank 1</th><td>0.03458445</td><td>0.01624464</td><td>0.033264400</td><td>0.0615</td></tr>\n",
       "\t<tr><th scope=row>Rank 4 - Rank 1</th><td>0.04064577</td><td>0.01624326</td><td>0.012343736</td><td>0.0347</td></tr>\n",
       "\t<tr><th scope=row>Rank 5 - Rank 1</th><td>0.04244272</td><td>0.01624601</td><td>0.008992769</td><td>0.0335</td></tr>\n",
       "</tbody>\n",
       "</table>\n"
      ],
      "text/latex": [
       "A matrix: 4 × 4 of type dbl\n",
       "\\begin{tabular}{r|llll}\n",
       "  & Estimate & Std. Error & Orig. p-value & Adj. p-value\\\\\n",
       "\\hline\n",
       "\tRank 2 - Rank 1 & 0.03318853 & 0.01624464 & 0.041056746 & 0.0615\\\\\n",
       "\tRank 3 - Rank 1 & 0.03458445 & 0.01624464 & 0.033264400 & 0.0615\\\\\n",
       "\tRank 4 - Rank 1 & 0.04064577 & 0.01624326 & 0.012343736 & 0.0347\\\\\n",
       "\tRank 5 - Rank 1 & 0.04244272 & 0.01624601 & 0.008992769 & 0.0335\\\\\n",
       "\\end{tabular}\n"
      ],
      "text/markdown": [
       "\n",
       "A matrix: 4 × 4 of type dbl\n",
       "\n",
       "| <!--/--> | Estimate | Std. Error | Orig. p-value | Adj. p-value |\n",
       "|---|---|---|---|---|\n",
       "| Rank 2 - Rank 1 | 0.03318853 | 0.01624464 | 0.041056746 | 0.0615 |\n",
       "| Rank 3 - Rank 1 | 0.03458445 | 0.01624464 | 0.033264400 | 0.0615 |\n",
       "| Rank 4 - Rank 1 | 0.04064577 | 0.01624326 | 0.012343736 | 0.0347 |\n",
       "| Rank 5 - Rank 1 | 0.04244272 | 0.01624601 | 0.008992769 | 0.0335 |\n",
       "\n"
      ],
      "text/plain": [
       "                Estimate   Std. Error Orig. p-value Adj. p-value\n",
       "Rank 2 - Rank 1 0.03318853 0.01624464 0.041056746   0.0615      \n",
       "Rank 3 - Rank 1 0.03458445 0.01624464 0.033264400   0.0615      \n",
       "Rank 4 - Rank 1 0.04064577 0.01624326 0.012343736   0.0347      \n",
       "Rank 5 - Rank 1 0.04244272 0.01624601 0.008992769   0.0335      "
      ]
     },
     "metadata": {},
     "output_type": "display_data"
    }
   ],
   "source": [
    "# Valid in randomized and observational settings with unconfoundedness+overlap.\n",
    "\n",
    "# Using AIPW scores computed above\n",
    "ols <- lm(aipw.scores ~ 1 + factor(ranking))\n",
    "res <- summary_rw_lm(ols, indices=2:num.rankings)\n",
    "rownames(res) <- paste(\"Rank\", 2:num.rankings, \"- Rank 1\") # just for display\n",
    "res"
   ]
  },
  {
   "cell_type": "code",
   "execution_count": 366,
   "id": "03c8a98c",
   "metadata": {},
   "outputs": [
    {
     "data": {
      "image/png": "[encoded data removed]",
      "text/plain": [
       "plot without title"
      ]
     },
     "metadata": {
      "image/png": {
       "height": 600,
       "width": 900
      }
     },
     "output_type": "display_data"
    }
   ],
   "source": [
    "covariates = c(\"tenured\", \"sex\", \"age\", \"cpelec\", \"cpwater\",  \"x_dim\", \"y_dim\")\n",
    "df <- mapply(function(covariate) {\n",
    "      # Looping over covariate names\n",
    "      # Compute average covariate value per ranking (with correct standard errors)\n",
    "      fmla <- formula(paste0(covariate, \"~ 0 + ranking\"))\n",
    "      ols <- lm(fmla, data=transform(data, ranking=factor(ranking)))\n",
    "      ols.res <- coeftest(ols, vcov=vcovHC(ols, \"HC2\"))\n",
    "    \n",
    "      # Retrieve results\n",
    "      avg <- ols.res[,1]\n",
    "      stderr <- ols.res[,2]\n",
    "      \n",
    "      # Tally up results\n",
    "      data.frame(covariate, avg, stderr, ranking=paste0(\"Q\", seq(num.rankings)), \n",
    "                 # Used for coloring\n",
    "                 scaling=pnorm((avg - mean(avg))/sd(avg)), \n",
    "                 # We will order based on how much variation is 'explain' by the averages\n",
    "                 # relative to the total variation of the covariate in the data\n",
    "                 variation=sd(avg) / sd(data[,covariate]),\n",
    "                 # String to print in each cell in heatmap below\n",
    "                 labels=paste0(signif(avg, 3), \"\\n\", \"(\", signif(stderr, 3), \")\"))\n",
    "}, covariates, SIMPLIFY = FALSE)\n",
    "df <- do.call(rbind, df)\n",
    "\n",
    "\n",
    "# a small optional trick to ensure heatmap will be in decreasing order of 'variation'\n",
    "df$covariate <- reorder(df$covariate, order(df$variation))\n",
    "\n",
    "# plot heatmap\n",
    "ggplot(df) +\n",
    "    aes(ranking, covariate) +\n",
    "    geom_tile(aes(fill = scaling)) + \n",
    "    geom_text(aes(label = labels)) +\n",
    "    scale_fill_gradient(low = \"#E1BE6A\", high = \"#40B0A6\") +\n",
    "    ggtitle(paste0(\"Average covariate values within group (based on CATE estimate ranking)\")) +\n",
    "    theme_minimal() + \n",
    "    ylab(\"\") + xlab(\"CATE estimate ranking\") +\n",
    "    theme(plot.title = element_text(size = 11, face = \"bold\"),\n",
    "          axis.text=element_text(size=11)) "
   ]
  },
  {
   "cell_type": "markdown",
   "id": "e07e6578",
   "metadata": {},
   "source": [
    "### Best linear projection"
   ]
  },
  {
   "cell_type": "code",
   "execution_count": 367,
   "id": "44e31c5a",
   "metadata": {},
   "outputs": [
    {
     "data": {
      "text/plain": [
       "\n",
       "Best linear projection of the conditional average treatment effect.\n",
       "Confidence intervals are cluster- and heteroskedasticity-robust (HC3):\n",
       "\n",
       "                          Estimate  Std. Error t value Pr(>|t|)   \n",
       "(Intercept)             5.7431e-02  5.2265e-02  1.0988 0.271847   \n",
       "sex                    -2.8068e-02  9.9715e-03 -2.8149 0.004883 **\n",
       "age                     5.2252e-04  5.1451e-04  1.0156 0.309847   \n",
       "factor.level.2         -4.0124e-02  2.5636e-02 -1.5651 0.117567   \n",
       "factor.level.3         -2.6681e-02  3.2277e-02 -0.8266 0.408457   \n",
       "factor.clasification.2  1.4319e-02  2.0062e-02  0.7137 0.475402   \n",
       "factor.clasification.3  3.2632e-03  2.4939e-02  0.1308 0.895897   \n",
       "cpelec                  1.5693e-03  1.0247e-02  0.1531 0.878287   \n",
       "cpwater                -4.9811e-03  1.4939e-02 -0.3334 0.738815   \n",
       "x_dim                  -2.0410e-05  4.1090e-05 -0.4967 0.619389   \n",
       "y_dim                  -1.2215e-06  2.8058e-05 -0.0435 0.965277   \n",
       "---\n",
       "Signif. codes:  0 '***' 0.001 '**' 0.01 '*' 0.05 '.' 0.1 ' ' 1\n"
      ]
     },
     "metadata": {},
     "output_type": "display_data"
    }
   ],
   "source": [
    "# Best linear projection of the conditional average treatment effect on covariates\n",
    "best_linear_projection(forest.tau, X)\n"
   ]
  },
  {
   "cell_type": "markdown",
   "id": "9b2d76c1",
   "metadata": {},
   "source": [
    "### Assessing heterogeneity"
   ]
  },
  {
   "cell_type": "code",
   "execution_count": 368,
   "id": "cae963ac",
   "metadata": {},
   "outputs": [
    {
     "data": {
      "text/plain": [
       "\n",
       "Best linear fit using forest predictions (on held-out data)\n",
       "as well as the mean forest prediction as regressors, along\n",
       "with one-sided heteroskedasticity-robust (HC3) SEs:\n",
       "\n",
       "                               Estimate Std. Error t value   Pr(>t)   \n",
       "mean.forest.prediction          0.96312    0.35826  2.6883 0.003593 **\n",
       "differential.forest.prediction  0.30059    0.11736  2.5613 0.005216 **\n",
       "---\n",
       "Signif. codes:  0 '***' 0.001 '**' 0.01 '*' 0.05 '.' 0.1 ' ' 1\n"
      ]
     },
     "metadata": {},
     "output_type": "display_data"
    }
   ],
   "source": [
    "test_calibration(forest.tau)"
   ]
  },
  {
   "cell_type": "code",
   "execution_count": null,
   "id": "d069ac50",
   "metadata": {},
   "outputs": [],
   "source": []
  }
 ],
 "metadata": {
  "kernelspec": {
   "display_name": "R",
   "language": "R",
   "name": "ir"
  },
  "language_info": {
   "codemirror_mode": "r",
   "file_extension": ".r",
   "mimetype": "text/x-r-source",
   "name": "R",
   "pygments_lexer": "r",
   "version": "4.1.3"
  }
 },
 "nbformat": 4,
 "nbformat_minor": 5
}
